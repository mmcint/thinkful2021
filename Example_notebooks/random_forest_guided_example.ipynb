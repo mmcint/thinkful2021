{
 "cells": [
  {
   "cell_type": "code",
   "execution_count": 1,
   "metadata": {
    "run_control": {
     "frozen": false,
     "read_only": false
    }
   },
   "outputs": [],
   "source": [
    "import pandas as pd\n",
    "import numpy as np\n",
    "import matplotlib.pyplot as plt\n",
    "import time\n",
    "%matplotlib inline"
   ]
  },
  {
   "cell_type": "markdown",
   "metadata": {
    "run_control": {
     "frozen": false,
     "read_only": false
    }
   },
   "source": [
    "## Introduction\n",
    "\n",
    "In this exercise, you'll use 2015 data from [LendingClub](https://www.lendingclub.com/legal/prospectus?) to predict the current status of a loan from other information about the loan itself. You can access the dataset [here](https://www.dropbox.com/s/0so14yudedjmm5m/LoanStats3d.csv?dl=1)."
   ]
  },
  {
   "cell_type": "code",
   "execution_count": 2,
   "metadata": {
    "run_control": {
     "frozen": false,
     "read_only": false
    }
   },
   "outputs": [
    {
     "name": "stderr",
     "output_type": "stream",
     "text": [
      "C:\\ProgramData\\Anaconda3\\envs\\thinkful\\lib\\site-packages\\IPython\\core\\interactiveshell.py:3147: DtypeWarning: Columns (0,19,55) have mixed types.Specify dtype option on import or set low_memory=False.\n",
      "  interactivity=interactivity, compiler=compiler, result=result)\n"
     ]
    },
    {
     "name": "stdout",
     "output_type": "stream",
     "text": [
      "Total time to read in raw data: 94.37 seconds.\n"
     ]
    }
   ],
   "source": [
    "start = time.time()\n",
    "\n",
    "# Replace the path below with the correct path for your data\n",
    "y2015 = pd.read_csv(\n",
    "    'https://tf-assets-prod.s3.amazonaws.com/tf-curric/data-science/LoanStats3d.csv',\n",
    "    skipinitialspace=True,\n",
    "    header=1\n",
    ")\n",
    "\n",
    "print(f'Total time to read in raw data: {round(time.time() - start, 2)} seconds.')\n",
    "\n",
    "# Note the warning about dtypes"
   ]
  },
  {
   "cell_type": "code",
   "execution_count": 3,
   "metadata": {},
   "outputs": [
    {
     "data": {
      "text/plain": [
       "(421097, 111)"
      ]
     },
     "execution_count": 3,
     "metadata": {},
     "output_type": "execute_result"
    }
   ],
   "source": [
    "# Number of rows and columns\n",
    "y2015.shape"
   ]
  },
  {
   "cell_type": "code",
   "execution_count": 4,
   "metadata": {},
   "outputs": [
    {
     "data": {
      "text/html": [
       "<div>\n",
       "<style scoped>\n",
       "    .dataframe tbody tr th:only-of-type {\n",
       "        vertical-align: middle;\n",
       "    }\n",
       "\n",
       "    .dataframe tbody tr th {\n",
       "        vertical-align: top;\n",
       "    }\n",
       "\n",
       "    .dataframe thead th {\n",
       "        text-align: right;\n",
       "    }\n",
       "</style>\n",
       "<table border=\"1\" class=\"dataframe\">\n",
       "  <thead>\n",
       "    <tr style=\"text-align: right;\">\n",
       "      <th></th>\n",
       "      <th>id</th>\n",
       "      <th>member_id</th>\n",
       "      <th>loan_amnt</th>\n",
       "      <th>funded_amnt</th>\n",
       "      <th>funded_amnt_inv</th>\n",
       "      <th>term</th>\n",
       "      <th>int_rate</th>\n",
       "      <th>installment</th>\n",
       "      <th>grade</th>\n",
       "      <th>sub_grade</th>\n",
       "      <th>...</th>\n",
       "      <th>num_tl_90g_dpd_24m</th>\n",
       "      <th>num_tl_op_past_12m</th>\n",
       "      <th>pct_tl_nvr_dlq</th>\n",
       "      <th>percent_bc_gt_75</th>\n",
       "      <th>pub_rec_bankruptcies</th>\n",
       "      <th>tax_liens</th>\n",
       "      <th>tot_hi_cred_lim</th>\n",
       "      <th>total_bal_ex_mort</th>\n",
       "      <th>total_bc_limit</th>\n",
       "      <th>total_il_high_credit_limit</th>\n",
       "    </tr>\n",
       "  </thead>\n",
       "  <tbody>\n",
       "    <tr>\n",
       "      <th>0</th>\n",
       "      <td>68009401</td>\n",
       "      <td>72868139.0</td>\n",
       "      <td>16000.0</td>\n",
       "      <td>16000.0</td>\n",
       "      <td>16000.0</td>\n",
       "      <td>60 months</td>\n",
       "      <td>14.85%</td>\n",
       "      <td>379.39</td>\n",
       "      <td>C</td>\n",
       "      <td>C5</td>\n",
       "      <td>...</td>\n",
       "      <td>0.0</td>\n",
       "      <td>2.0</td>\n",
       "      <td>78.9</td>\n",
       "      <td>0.0</td>\n",
       "      <td>0.0</td>\n",
       "      <td>2.0</td>\n",
       "      <td>298100.0</td>\n",
       "      <td>31329.0</td>\n",
       "      <td>281300.0</td>\n",
       "      <td>13400.0</td>\n",
       "    </tr>\n",
       "    <tr>\n",
       "      <th>1</th>\n",
       "      <td>68354783</td>\n",
       "      <td>73244544.0</td>\n",
       "      <td>9600.0</td>\n",
       "      <td>9600.0</td>\n",
       "      <td>9600.0</td>\n",
       "      <td>36 months</td>\n",
       "      <td>7.49%</td>\n",
       "      <td>298.58</td>\n",
       "      <td>A</td>\n",
       "      <td>A4</td>\n",
       "      <td>...</td>\n",
       "      <td>0.0</td>\n",
       "      <td>2.0</td>\n",
       "      <td>100.0</td>\n",
       "      <td>66.7</td>\n",
       "      <td>0.0</td>\n",
       "      <td>0.0</td>\n",
       "      <td>88635.0</td>\n",
       "      <td>55387.0</td>\n",
       "      <td>12500.0</td>\n",
       "      <td>75635.0</td>\n",
       "    </tr>\n",
       "    <tr>\n",
       "      <th>2</th>\n",
       "      <td>68466916</td>\n",
       "      <td>73356753.0</td>\n",
       "      <td>25000.0</td>\n",
       "      <td>25000.0</td>\n",
       "      <td>25000.0</td>\n",
       "      <td>36 months</td>\n",
       "      <td>7.49%</td>\n",
       "      <td>777.55</td>\n",
       "      <td>A</td>\n",
       "      <td>A4</td>\n",
       "      <td>...</td>\n",
       "      <td>0.0</td>\n",
       "      <td>0.0</td>\n",
       "      <td>100.0</td>\n",
       "      <td>20.0</td>\n",
       "      <td>0.0</td>\n",
       "      <td>0.0</td>\n",
       "      <td>373572.0</td>\n",
       "      <td>68056.0</td>\n",
       "      <td>38400.0</td>\n",
       "      <td>82117.0</td>\n",
       "    </tr>\n",
       "    <tr>\n",
       "      <th>3</th>\n",
       "      <td>68466961</td>\n",
       "      <td>73356799.0</td>\n",
       "      <td>28000.0</td>\n",
       "      <td>28000.0</td>\n",
       "      <td>28000.0</td>\n",
       "      <td>36 months</td>\n",
       "      <td>6.49%</td>\n",
       "      <td>858.05</td>\n",
       "      <td>A</td>\n",
       "      <td>A2</td>\n",
       "      <td>...</td>\n",
       "      <td>0.0</td>\n",
       "      <td>0.0</td>\n",
       "      <td>91.7</td>\n",
       "      <td>22.2</td>\n",
       "      <td>0.0</td>\n",
       "      <td>0.0</td>\n",
       "      <td>304003.0</td>\n",
       "      <td>74920.0</td>\n",
       "      <td>41500.0</td>\n",
       "      <td>42503.0</td>\n",
       "    </tr>\n",
       "    <tr>\n",
       "      <th>4</th>\n",
       "      <td>68495092</td>\n",
       "      <td>73384866.0</td>\n",
       "      <td>8650.0</td>\n",
       "      <td>8650.0</td>\n",
       "      <td>8650.0</td>\n",
       "      <td>36 months</td>\n",
       "      <td>19.89%</td>\n",
       "      <td>320.99</td>\n",
       "      <td>E</td>\n",
       "      <td>E3</td>\n",
       "      <td>...</td>\n",
       "      <td>0.0</td>\n",
       "      <td>12.0</td>\n",
       "      <td>100.0</td>\n",
       "      <td>50.0</td>\n",
       "      <td>1.0</td>\n",
       "      <td>0.0</td>\n",
       "      <td>38998.0</td>\n",
       "      <td>18926.0</td>\n",
       "      <td>2750.0</td>\n",
       "      <td>18248.0</td>\n",
       "    </tr>\n",
       "  </tbody>\n",
       "</table>\n",
       "<p>5 rows × 111 columns</p>\n",
       "</div>"
      ],
      "text/plain": [
       "         id   member_id  loan_amnt  funded_amnt  funded_amnt_inv        term  \\\n",
       "0  68009401  72868139.0    16000.0      16000.0          16000.0   60 months   \n",
       "1  68354783  73244544.0     9600.0       9600.0           9600.0   36 months   \n",
       "2  68466916  73356753.0    25000.0      25000.0          25000.0   36 months   \n",
       "3  68466961  73356799.0    28000.0      28000.0          28000.0   36 months   \n",
       "4  68495092  73384866.0     8650.0       8650.0           8650.0   36 months   \n",
       "\n",
       "  int_rate  installment grade sub_grade  ... num_tl_90g_dpd_24m  \\\n",
       "0   14.85%       379.39     C        C5  ...                0.0   \n",
       "1    7.49%       298.58     A        A4  ...                0.0   \n",
       "2    7.49%       777.55     A        A4  ...                0.0   \n",
       "3    6.49%       858.05     A        A2  ...                0.0   \n",
       "4   19.89%       320.99     E        E3  ...                0.0   \n",
       "\n",
       "  num_tl_op_past_12m pct_tl_nvr_dlq  percent_bc_gt_75 pub_rec_bankruptcies  \\\n",
       "0                2.0           78.9               0.0                  0.0   \n",
       "1                2.0          100.0              66.7                  0.0   \n",
       "2                0.0          100.0              20.0                  0.0   \n",
       "3                0.0           91.7              22.2                  0.0   \n",
       "4               12.0          100.0              50.0                  1.0   \n",
       "\n",
       "  tax_liens tot_hi_cred_lim total_bal_ex_mort total_bc_limit  \\\n",
       "0       2.0        298100.0           31329.0       281300.0   \n",
       "1       0.0         88635.0           55387.0        12500.0   \n",
       "2       0.0        373572.0           68056.0        38400.0   \n",
       "3       0.0        304003.0           74920.0        41500.0   \n",
       "4       0.0         38998.0           18926.0         2750.0   \n",
       "\n",
       "  total_il_high_credit_limit  \n",
       "0                    13400.0  \n",
       "1                    75635.0  \n",
       "2                    82117.0  \n",
       "3                    42503.0  \n",
       "4                    18248.0  \n",
       "\n",
       "[5 rows x 111 columns]"
      ]
     },
     "execution_count": 4,
     "metadata": {},
     "output_type": "execute_result"
    }
   ],
   "source": [
    "y2015.head()"
   ]
  },
  {
   "cell_type": "code",
   "execution_count": 5,
   "metadata": {},
   "outputs": [
    {
     "data": {
      "text/plain": [
       "Current               287414\n",
       "Fully Paid             87989\n",
       "Charged Off            29178\n",
       "Late (31-120 days)      9510\n",
       "In Grace Period         4320\n",
       "Late (16-30 days)       1888\n",
       "Default                  796\n",
       "Name: loan_status, dtype: int64"
      ]
     },
     "execution_count": 5,
     "metadata": {},
     "output_type": "execute_result"
    }
   ],
   "source": [
    "# Distribution of response values (note that this is a multiclass problem, not binary)\n",
    "y2015['loan_status'].value_counts()"
   ]
  },
  {
   "cell_type": "markdown",
   "metadata": {
    "run_control": {
     "frozen": false,
     "read_only": false
    }
   },
   "source": [
    "## A first-pass model\n",
    "\n",
    "As you can see from the basic exploratory analysis above, this dataset contains a large number of features. Although the end goal is usually a model that balances performance and parsimony (a minimal number of features), a common approach when building a first-pass model is to include all available features. Although this will inevitably result in some degree of overfitting, random forests are relatively good at reducing the impact of unimportant features on prediction accuracy.\n",
    "\n",
    "Because the scikit-learn implementation of random forest requires all features in the model to be numeric, you will need to encode the categorical features numerically.  One-hot encoding is a simple and popular technique for converting categorical features to numeric, and the `get_dummies()` method from pandas provides an easy way to accomplish this task. The `get_dummies()` method takes each column of type `object` in the original DataFrame and replaces it with `N` separate numeric columns, `N` being the total number of categories in that column. Each of the new columns will be binary (with `1` and `0` values) and correspond to one of the categories in the original categorical variable.\n",
    "\n",
    "To explore this, consider the example below."
   ]
  },
  {
   "cell_type": "code",
   "execution_count": 6,
   "metadata": {},
   "outputs": [
    {
     "data": {
      "text/plain": [
       "array([' 60 months', ' 36 months', nan], dtype=object)"
      ]
     },
     "execution_count": 6,
     "metadata": {},
     "output_type": "execute_result"
    }
   ],
   "source": [
    "y2015['term'].unique()"
   ]
  },
  {
   "cell_type": "markdown",
   "metadata": {},
   "source": [
    "The `term` column takes on two non-numeric values: `60 months` and `36 months`. (You can disregard the `nan` for this example.) Below, output the first five values in the dataset under the `term` column. This allows you to relate the output of the `get_dummies()` function to the original values in the column."
   ]
  },
  {
   "cell_type": "code",
   "execution_count": 7,
   "metadata": {},
   "outputs": [
    {
     "data": {
      "text/plain": [
       "0     60 months\n",
       "1     36 months\n",
       "2     36 months\n",
       "3     36 months\n",
       "4     36 months\n",
       "Name: term, dtype: object"
      ]
     },
     "execution_count": 7,
     "metadata": {},
     "output_type": "execute_result"
    }
   ],
   "source": [
    "y2015['term'].head()"
   ]
  },
  {
   "cell_type": "markdown",
   "metadata": {},
   "source": [
    "After running the `get_dummies()` function on the `term` column, the output is two new binary columns: `36 months` and `60 months`. If the original value of a record in `term` was `36 months`, then its value in the corresponding binary column will be `1`, and its value in `60 months` will be `0`."
   ]
  },
  {
   "cell_type": "code",
   "execution_count": 8,
   "metadata": {},
   "outputs": [
    {
     "data": {
      "text/html": [
       "<div>\n",
       "<style scoped>\n",
       "    .dataframe tbody tr th:only-of-type {\n",
       "        vertical-align: middle;\n",
       "    }\n",
       "\n",
       "    .dataframe tbody tr th {\n",
       "        vertical-align: top;\n",
       "    }\n",
       "\n",
       "    .dataframe thead th {\n",
       "        text-align: right;\n",
       "    }\n",
       "</style>\n",
       "<table border=\"1\" class=\"dataframe\">\n",
       "  <thead>\n",
       "    <tr style=\"text-align: right;\">\n",
       "      <th></th>\n",
       "      <th>36 months</th>\n",
       "      <th>60 months</th>\n",
       "    </tr>\n",
       "  </thead>\n",
       "  <tbody>\n",
       "    <tr>\n",
       "      <th>0</th>\n",
       "      <td>0</td>\n",
       "      <td>1</td>\n",
       "    </tr>\n",
       "    <tr>\n",
       "      <th>1</th>\n",
       "      <td>1</td>\n",
       "      <td>0</td>\n",
       "    </tr>\n",
       "    <tr>\n",
       "      <th>2</th>\n",
       "      <td>1</td>\n",
       "      <td>0</td>\n",
       "    </tr>\n",
       "    <tr>\n",
       "      <th>3</th>\n",
       "      <td>1</td>\n",
       "      <td>0</td>\n",
       "    </tr>\n",
       "    <tr>\n",
       "      <th>4</th>\n",
       "      <td>1</td>\n",
       "      <td>0</td>\n",
       "    </tr>\n",
       "  </tbody>\n",
       "</table>\n",
       "</div>"
      ],
      "text/plain": [
       "    36 months   60 months\n",
       "0           0           1\n",
       "1           1           0\n",
       "2           1           0\n",
       "3           1           0\n",
       "4           1           0"
      ]
     },
     "execution_count": 8,
     "metadata": {},
     "output_type": "execute_result"
    }
   ],
   "source": [
    "pd.get_dummies(y2015['term'].head())"
   ]
  },
  {
   "cell_type": "markdown",
   "metadata": {},
   "source": [
    "What would happen if you converted all of the categorical features to numeric using one-hot encoding and performed 10-fold cross-validation using a random forest classifier on the resulting dataset?"
   ]
  },
  {
   "cell_type": "code",
   "execution_count": 9,
   "metadata": {
    "run_control": {
     "frozen": false,
     "read_only": false
    }
   },
   "outputs": [],
   "source": [
    "from sklearn import ensemble\n",
    "from sklearn.model_selection import cross_val_score\n",
    "\n",
    "run_cell = False  # You don't actually want to run this cell; it's just for demonstration purposes\n",
    "\n",
    "if run_cell:\n",
    "    rfc = ensemble.RandomForestClassifier()\n",
    "    X = y2015.drop('loan_status', 1)\n",
    "    Y = y2015['loan_status']\n",
    "    X = pd.get_dummies(X)\n",
    "\n",
    "    cross_val_score(rfc, X, Y, cv=5)"
   ]
  },
  {
   "cell_type": "markdown",
   "metadata": {
    "run_control": {
     "frozen": false,
     "read_only": false
    }
   },
   "source": [
    "Running the previous cell will almost certainly result in the Notebook crashing. (No need to run the cell to verify!) Below, you'll investigate why this is the case.\n",
    "\n",
    "\n",
    "## Data cleaning\n",
    "\n",
    "The `get_dummies()` method can be very memory intensive, especially when dealing with *high-cardinality* categorical features, which are any features that have a large number of categories or distinct values. This can be particularly problematic when a continuous numeric column is accidentally read in as a categorical variable—chances are, each row has a unique value, so attempting to one-hot encode such a variable would amount to adding more than 400,000 columns to the dataset!\n",
    "\n",
    "Below, look at all your categorical variables and see how many unique categories are present for each feature. Additionally, note that the `member_id` column was read in as an integer; however, it is best practice to convert identifier columns to categorical, because the ordering imposed by the numbers has little or no meaning in this modeling context."
   ]
  },
  {
   "cell_type": "code",
   "execution_count": 10,
   "metadata": {
    "run_control": {
     "frozen": false,
     "read_only": false
    },
    "scrolled": true
   },
   "outputs": [
    {
     "name": "stdout",
     "output_type": "stream",
     "text": [
      "id: 421097\n",
      "member_id: 421096\n",
      "term: 2\n",
      "int_rate: 110\n",
      "grade: 7\n",
      "sub_grade: 35\n",
      "emp_title: 120812\n",
      "emp_length: 11\n",
      "home_ownership: 4\n",
      "verification_status: 3\n",
      "issue_d: 12\n",
      "loan_status: 7\n",
      "pymnt_plan: 1\n",
      "url: 421095\n",
      "desc: 34\n",
      "purpose: 14\n",
      "title: 27\n",
      "zip_code: 914\n",
      "addr_state: 49\n",
      "earliest_cr_line: 668\n",
      "revol_util: 1211\n",
      "initial_list_status: 2\n",
      "last_pymnt_d: 25\n",
      "next_pymnt_d: 4\n",
      "last_credit_pull_d: 26\n",
      "application_type: 2\n",
      "verification_status_joint: 3\n"
     ]
    }
   ],
   "source": [
    "# Convert `member_id` to string; it generally isn't appropriate to represent identifier fields as numbers\n",
    "y2015['member_id'] = y2015['member_id'].astype(str)\n",
    "\n",
    "# Identify categorical columns\n",
    "categorical = y2015.select_dtypes(include=['object'])\n",
    "categorical_dict = {}\n",
    "\n",
    "# Create dictionary of categorical columns and the number of unique categories for each one\n",
    "for i in categorical:\n",
    "    column = categorical[i]\n",
    "    num_unique = column.nunique()\n",
    "    categorical_dict[i] = num_unique\n",
    "\n",
    "for key, value in categorical_dict.items():\n",
    "    print(f'{key}: {value}')"
   ]
  },
  {
   "cell_type": "markdown",
   "metadata": {
    "run_control": {
     "frozen": false,
     "read_only": false
    }
   },
   "source": [
    "As you can see, some of these features have hundreds or even thousands of distinct values. In the most extreme cases—`id`, `member_id`, and `url`—all or nearly all rows have a unique value, suggesting that the column is effectively a unique identifier for the loan. \n",
    "\n",
    "To clean the data, complete the following steps:\n",
    "\n",
    "- Drop the columns with over 30 unique values.\n",
    "- Convert to numeric where it makes sense. For example, `int_rate` represents numeric information about the interest rate, but it was read in as a string because of the `%` symbol at the end of each value. \n",
    "- Remove the date columns (column names ending in `_d`), because dates aren't suitable inputs to predictive models on their own. It is possible to generate numeric features from these dates; feel free to do so on your own, if inclined."
   ]
  },
  {
   "cell_type": "code",
   "execution_count": 11,
   "metadata": {
    "run_control": {
     "frozen": false,
     "read_only": false
    }
   },
   "outputs": [
    {
     "name": "stdout",
     "output_type": "stream",
     "text": [
      "High-cardinality columns to drop: ['id', 'member_id', 'sub_grade', 'emp_title', 'url', 'desc', 'zip_code', 'addr_state', 'earliest_cr_line', 'revol_util']\n",
      "\n",
      "Index(['id', 'member_id', 'loan_amnt', 'funded_amnt', 'funded_amnt_inv',\n",
      "       'term', 'int_rate', 'installment', 'grade', 'sub_grade',\n",
      "       ...\n",
      "       'num_tl_90g_dpd_24m', 'num_tl_op_past_12m', 'pct_tl_nvr_dlq',\n",
      "       'percent_bc_gt_75', 'pub_rec_bankruptcies', 'tax_liens',\n",
      "       'tot_hi_cred_lim', 'total_bal_ex_mort', 'total_bc_limit',\n",
      "       'total_il_high_credit_limit'],\n",
      "      dtype='object', length=111)\n",
      "(421097, 97)\n"
     ]
    }
   ],
   "source": [
    "# Created a cleaned data DataFrame, which is initially a copy of the raw data\n",
    "y2015_cleaned = y2015.copy()\n",
    "\n",
    "# Convert `int_rate` to numeric\n",
    "y2015_cleaned['int_rate'] = pd.to_numeric(y2015['int_rate'].str.strip('%'), errors='coerce')\n",
    "\n",
    "# Drop high-cardinality categorical features\n",
    "drop_cols = [col for col, value in categorical_dict.items() if value >= 30 and col != 'int_rate']\n",
    "print(f'High-cardinality columns to drop: {drop_cols}\\n')\n",
    "print(y2015_cleaned.columns)\n",
    "y2015_cleaned.drop(drop_cols, 1, inplace=True)\n",
    "\n",
    "# Drop date columns\n",
    "date_cols = list(y2015_cleaned.filter(regex='_d$').columns)\n",
    "y2015_cleaned.drop(date_cols, 1, inplace=True)\n",
    "\n",
    "print(y2015_cleaned.shape)"
   ]
  },
  {
   "cell_type": "markdown",
   "metadata": {},
   "source": [
    "Additionally, note that there are two summary rows at the end of the dataset that don't contain actual loan information:"
   ]
  },
  {
   "cell_type": "code",
   "execution_count": 12,
   "metadata": {},
   "outputs": [
    {
     "data": {
      "text/html": [
       "<div>\n",
       "<style scoped>\n",
       "    .dataframe tbody tr th:only-of-type {\n",
       "        vertical-align: middle;\n",
       "    }\n",
       "\n",
       "    .dataframe tbody tr th {\n",
       "        vertical-align: top;\n",
       "    }\n",
       "\n",
       "    .dataframe thead th {\n",
       "        text-align: right;\n",
       "    }\n",
       "</style>\n",
       "<table border=\"1\" class=\"dataframe\">\n",
       "  <thead>\n",
       "    <tr style=\"text-align: right;\">\n",
       "      <th></th>\n",
       "      <th>loan_amnt</th>\n",
       "      <th>funded_amnt</th>\n",
       "      <th>funded_amnt_inv</th>\n",
       "      <th>term</th>\n",
       "      <th>int_rate</th>\n",
       "      <th>installment</th>\n",
       "      <th>grade</th>\n",
       "      <th>emp_length</th>\n",
       "      <th>home_ownership</th>\n",
       "      <th>annual_inc</th>\n",
       "      <th>...</th>\n",
       "      <th>num_tl_90g_dpd_24m</th>\n",
       "      <th>num_tl_op_past_12m</th>\n",
       "      <th>pct_tl_nvr_dlq</th>\n",
       "      <th>percent_bc_gt_75</th>\n",
       "      <th>pub_rec_bankruptcies</th>\n",
       "      <th>tax_liens</th>\n",
       "      <th>tot_hi_cred_lim</th>\n",
       "      <th>total_bal_ex_mort</th>\n",
       "      <th>total_bc_limit</th>\n",
       "      <th>total_il_high_credit_limit</th>\n",
       "    </tr>\n",
       "  </thead>\n",
       "  <tbody>\n",
       "    <tr>\n",
       "      <th>421092</th>\n",
       "      <td>13000.0</td>\n",
       "      <td>13000.0</td>\n",
       "      <td>13000.0</td>\n",
       "      <td>60 months</td>\n",
       "      <td>15.99</td>\n",
       "      <td>316.07</td>\n",
       "      <td>D</td>\n",
       "      <td>5 years</td>\n",
       "      <td>RENT</td>\n",
       "      <td>35000.0</td>\n",
       "      <td>...</td>\n",
       "      <td>0.0</td>\n",
       "      <td>3.0</td>\n",
       "      <td>100.0</td>\n",
       "      <td>50.0</td>\n",
       "      <td>1.0</td>\n",
       "      <td>0.0</td>\n",
       "      <td>51239.0</td>\n",
       "      <td>34178.0</td>\n",
       "      <td>10600.0</td>\n",
       "      <td>33239.0</td>\n",
       "    </tr>\n",
       "    <tr>\n",
       "      <th>421093</th>\n",
       "      <td>12000.0</td>\n",
       "      <td>12000.0</td>\n",
       "      <td>12000.0</td>\n",
       "      <td>60 months</td>\n",
       "      <td>19.99</td>\n",
       "      <td>317.86</td>\n",
       "      <td>E</td>\n",
       "      <td>1 year</td>\n",
       "      <td>RENT</td>\n",
       "      <td>64400.0</td>\n",
       "      <td>...</td>\n",
       "      <td>1.0</td>\n",
       "      <td>2.0</td>\n",
       "      <td>95.0</td>\n",
       "      <td>66.7</td>\n",
       "      <td>0.0</td>\n",
       "      <td>0.0</td>\n",
       "      <td>96919.0</td>\n",
       "      <td>58418.0</td>\n",
       "      <td>9700.0</td>\n",
       "      <td>69919.0</td>\n",
       "    </tr>\n",
       "    <tr>\n",
       "      <th>421094</th>\n",
       "      <td>20000.0</td>\n",
       "      <td>20000.0</td>\n",
       "      <td>20000.0</td>\n",
       "      <td>36 months</td>\n",
       "      <td>11.99</td>\n",
       "      <td>664.20</td>\n",
       "      <td>B</td>\n",
       "      <td>10+ years</td>\n",
       "      <td>RENT</td>\n",
       "      <td>100000.0</td>\n",
       "      <td>...</td>\n",
       "      <td>0.0</td>\n",
       "      <td>1.0</td>\n",
       "      <td>100.0</td>\n",
       "      <td>50.0</td>\n",
       "      <td>0.0</td>\n",
       "      <td>1.0</td>\n",
       "      <td>43740.0</td>\n",
       "      <td>33307.0</td>\n",
       "      <td>41700.0</td>\n",
       "      <td>0.0</td>\n",
       "    </tr>\n",
       "    <tr>\n",
       "      <th>421095</th>\n",
       "      <td>NaN</td>\n",
       "      <td>NaN</td>\n",
       "      <td>NaN</td>\n",
       "      <td>NaN</td>\n",
       "      <td>NaN</td>\n",
       "      <td>NaN</td>\n",
       "      <td>NaN</td>\n",
       "      <td>NaN</td>\n",
       "      <td>NaN</td>\n",
       "      <td>NaN</td>\n",
       "      <td>...</td>\n",
       "      <td>NaN</td>\n",
       "      <td>NaN</td>\n",
       "      <td>NaN</td>\n",
       "      <td>NaN</td>\n",
       "      <td>NaN</td>\n",
       "      <td>NaN</td>\n",
       "      <td>NaN</td>\n",
       "      <td>NaN</td>\n",
       "      <td>NaN</td>\n",
       "      <td>NaN</td>\n",
       "    </tr>\n",
       "    <tr>\n",
       "      <th>421096</th>\n",
       "      <td>NaN</td>\n",
       "      <td>NaN</td>\n",
       "      <td>NaN</td>\n",
       "      <td>NaN</td>\n",
       "      <td>NaN</td>\n",
       "      <td>NaN</td>\n",
       "      <td>NaN</td>\n",
       "      <td>NaN</td>\n",
       "      <td>NaN</td>\n",
       "      <td>NaN</td>\n",
       "      <td>...</td>\n",
       "      <td>NaN</td>\n",
       "      <td>NaN</td>\n",
       "      <td>NaN</td>\n",
       "      <td>NaN</td>\n",
       "      <td>NaN</td>\n",
       "      <td>NaN</td>\n",
       "      <td>NaN</td>\n",
       "      <td>NaN</td>\n",
       "      <td>NaN</td>\n",
       "      <td>NaN</td>\n",
       "    </tr>\n",
       "  </tbody>\n",
       "</table>\n",
       "<p>5 rows × 97 columns</p>\n",
       "</div>"
      ],
      "text/plain": [
       "        loan_amnt  funded_amnt  funded_amnt_inv        term  int_rate  \\\n",
       "421092    13000.0      13000.0          13000.0   60 months     15.99   \n",
       "421093    12000.0      12000.0          12000.0   60 months     19.99   \n",
       "421094    20000.0      20000.0          20000.0   36 months     11.99   \n",
       "421095        NaN          NaN              NaN         NaN       NaN   \n",
       "421096        NaN          NaN              NaN         NaN       NaN   \n",
       "\n",
       "        installment grade emp_length home_ownership  annual_inc  ...  \\\n",
       "421092       316.07     D    5 years           RENT     35000.0  ...   \n",
       "421093       317.86     E     1 year           RENT     64400.0  ...   \n",
       "421094       664.20     B  10+ years           RENT    100000.0  ...   \n",
       "421095          NaN   NaN        NaN            NaN         NaN  ...   \n",
       "421096          NaN   NaN        NaN            NaN         NaN  ...   \n",
       "\n",
       "       num_tl_90g_dpd_24m num_tl_op_past_12m pct_tl_nvr_dlq percent_bc_gt_75  \\\n",
       "421092                0.0                3.0          100.0             50.0   \n",
       "421093                1.0                2.0           95.0             66.7   \n",
       "421094                0.0                1.0          100.0             50.0   \n",
       "421095                NaN                NaN            NaN              NaN   \n",
       "421096                NaN                NaN            NaN              NaN   \n",
       "\n",
       "       pub_rec_bankruptcies  tax_liens  tot_hi_cred_lim  total_bal_ex_mort  \\\n",
       "421092                  1.0        0.0          51239.0            34178.0   \n",
       "421093                  0.0        0.0          96919.0            58418.0   \n",
       "421094                  0.0        1.0          43740.0            33307.0   \n",
       "421095                  NaN        NaN              NaN                NaN   \n",
       "421096                  NaN        NaN              NaN                NaN   \n",
       "\n",
       "        total_bc_limit  total_il_high_credit_limit  \n",
       "421092         10600.0                     33239.0  \n",
       "421093          9700.0                     69919.0  \n",
       "421094         41700.0                         0.0  \n",
       "421095             NaN                         NaN  \n",
       "421096             NaN                         NaN  \n",
       "\n",
       "[5 rows x 97 columns]"
      ]
     },
     "execution_count": 12,
     "metadata": {},
     "output_type": "execute_result"
    }
   ],
   "source": [
    "y2015_cleaned.tail()"
   ]
  },
  {
   "cell_type": "markdown",
   "metadata": {},
   "source": [
    "After removing these two rows, one last data-cleaning step is to remove all columns with missing values. Normally, it would be better to avoid taking such a drastic step; instead, it would make sense to pursue alternatives, such as imputation, dropping observations with missing values, and so forth. But in this case, you will still have enough features left for the first-pass model to be useful."
   ]
  },
  {
   "cell_type": "code",
   "execution_count": 13,
   "metadata": {},
   "outputs": [
    {
     "name": "stdout",
     "output_type": "stream",
     "text": [
      "(421095, 65)\n"
     ]
    }
   ],
   "source": [
    "# Remove two summary rows (that don't actually contain data) at the end\n",
    "y2015_cleaned = y2015_cleaned[:-2]\n",
    "\n",
    "# Drop columns with missing values\n",
    "y2015_cleaned.dropna(axis=1, inplace=True)\n",
    "\n",
    "print(y2015_cleaned.shape)"
   ]
  },
  {
   "cell_type": "markdown",
   "metadata": {
    "run_control": {
     "frozen": false,
     "read_only": false
    }
   },
   "source": [
    "Try one-hot encoding the categorical variables again:"
   ]
  },
  {
   "cell_type": "code",
   "execution_count": 14,
   "metadata": {
    "run_control": {
     "frozen": false,
     "read_only": false
    }
   },
   "outputs": [
    {
     "data": {
      "text/html": [
       "<div>\n",
       "<style scoped>\n",
       "    .dataframe tbody tr th:only-of-type {\n",
       "        vertical-align: middle;\n",
       "    }\n",
       "\n",
       "    .dataframe tbody tr th {\n",
       "        vertical-align: top;\n",
       "    }\n",
       "\n",
       "    .dataframe thead th {\n",
       "        text-align: right;\n",
       "    }\n",
       "</style>\n",
       "<table border=\"1\" class=\"dataframe\">\n",
       "  <thead>\n",
       "    <tr style=\"text-align: right;\">\n",
       "      <th></th>\n",
       "      <th>loan_amnt</th>\n",
       "      <th>funded_amnt</th>\n",
       "      <th>funded_amnt_inv</th>\n",
       "      <th>int_rate</th>\n",
       "      <th>installment</th>\n",
       "      <th>annual_inc</th>\n",
       "      <th>dti</th>\n",
       "      <th>delinq_2yrs</th>\n",
       "      <th>inq_last_6mths</th>\n",
       "      <th>open_acc</th>\n",
       "      <th>...</th>\n",
       "      <th>purpose_moving</th>\n",
       "      <th>purpose_other</th>\n",
       "      <th>purpose_renewable_energy</th>\n",
       "      <th>purpose_small_business</th>\n",
       "      <th>purpose_vacation</th>\n",
       "      <th>purpose_wedding</th>\n",
       "      <th>initial_list_status_f</th>\n",
       "      <th>initial_list_status_w</th>\n",
       "      <th>application_type_INDIVIDUAL</th>\n",
       "      <th>application_type_JOINT</th>\n",
       "    </tr>\n",
       "  </thead>\n",
       "  <tbody>\n",
       "    <tr>\n",
       "      <th>0</th>\n",
       "      <td>16000.0</td>\n",
       "      <td>16000.0</td>\n",
       "      <td>16000.0</td>\n",
       "      <td>14.85</td>\n",
       "      <td>379.39</td>\n",
       "      <td>48000.0</td>\n",
       "      <td>33.18</td>\n",
       "      <td>0.0</td>\n",
       "      <td>0.0</td>\n",
       "      <td>11.0</td>\n",
       "      <td>...</td>\n",
       "      <td>0</td>\n",
       "      <td>0</td>\n",
       "      <td>0</td>\n",
       "      <td>0</td>\n",
       "      <td>0</td>\n",
       "      <td>0</td>\n",
       "      <td>0</td>\n",
       "      <td>1</td>\n",
       "      <td>1</td>\n",
       "      <td>0</td>\n",
       "    </tr>\n",
       "    <tr>\n",
       "      <th>1</th>\n",
       "      <td>9600.0</td>\n",
       "      <td>9600.0</td>\n",
       "      <td>9600.0</td>\n",
       "      <td>7.49</td>\n",
       "      <td>298.58</td>\n",
       "      <td>60000.0</td>\n",
       "      <td>22.44</td>\n",
       "      <td>0.0</td>\n",
       "      <td>0.0</td>\n",
       "      <td>7.0</td>\n",
       "      <td>...</td>\n",
       "      <td>0</td>\n",
       "      <td>0</td>\n",
       "      <td>0</td>\n",
       "      <td>0</td>\n",
       "      <td>0</td>\n",
       "      <td>0</td>\n",
       "      <td>0</td>\n",
       "      <td>1</td>\n",
       "      <td>1</td>\n",
       "      <td>0</td>\n",
       "    </tr>\n",
       "    <tr>\n",
       "      <th>2</th>\n",
       "      <td>25000.0</td>\n",
       "      <td>25000.0</td>\n",
       "      <td>25000.0</td>\n",
       "      <td>7.49</td>\n",
       "      <td>777.55</td>\n",
       "      <td>109000.0</td>\n",
       "      <td>26.02</td>\n",
       "      <td>0.0</td>\n",
       "      <td>1.0</td>\n",
       "      <td>9.0</td>\n",
       "      <td>...</td>\n",
       "      <td>0</td>\n",
       "      <td>0</td>\n",
       "      <td>0</td>\n",
       "      <td>0</td>\n",
       "      <td>0</td>\n",
       "      <td>0</td>\n",
       "      <td>0</td>\n",
       "      <td>1</td>\n",
       "      <td>1</td>\n",
       "      <td>0</td>\n",
       "    </tr>\n",
       "    <tr>\n",
       "      <th>3</th>\n",
       "      <td>28000.0</td>\n",
       "      <td>28000.0</td>\n",
       "      <td>28000.0</td>\n",
       "      <td>6.49</td>\n",
       "      <td>858.05</td>\n",
       "      <td>92000.0</td>\n",
       "      <td>21.60</td>\n",
       "      <td>0.0</td>\n",
       "      <td>0.0</td>\n",
       "      <td>16.0</td>\n",
       "      <td>...</td>\n",
       "      <td>0</td>\n",
       "      <td>0</td>\n",
       "      <td>0</td>\n",
       "      <td>0</td>\n",
       "      <td>0</td>\n",
       "      <td>0</td>\n",
       "      <td>0</td>\n",
       "      <td>1</td>\n",
       "      <td>1</td>\n",
       "      <td>0</td>\n",
       "    </tr>\n",
       "    <tr>\n",
       "      <th>4</th>\n",
       "      <td>8650.0</td>\n",
       "      <td>8650.0</td>\n",
       "      <td>8650.0</td>\n",
       "      <td>19.89</td>\n",
       "      <td>320.99</td>\n",
       "      <td>55000.0</td>\n",
       "      <td>25.49</td>\n",
       "      <td>0.0</td>\n",
       "      <td>4.0</td>\n",
       "      <td>18.0</td>\n",
       "      <td>...</td>\n",
       "      <td>0</td>\n",
       "      <td>0</td>\n",
       "      <td>0</td>\n",
       "      <td>0</td>\n",
       "      <td>0</td>\n",
       "      <td>0</td>\n",
       "      <td>0</td>\n",
       "      <td>1</td>\n",
       "      <td>1</td>\n",
       "      <td>0</td>\n",
       "    </tr>\n",
       "    <tr>\n",
       "      <th>...</th>\n",
       "      <td>...</td>\n",
       "      <td>...</td>\n",
       "      <td>...</td>\n",
       "      <td>...</td>\n",
       "      <td>...</td>\n",
       "      <td>...</td>\n",
       "      <td>...</td>\n",
       "      <td>...</td>\n",
       "      <td>...</td>\n",
       "      <td>...</td>\n",
       "      <td>...</td>\n",
       "      <td>...</td>\n",
       "      <td>...</td>\n",
       "      <td>...</td>\n",
       "      <td>...</td>\n",
       "      <td>...</td>\n",
       "      <td>...</td>\n",
       "      <td>...</td>\n",
       "      <td>...</td>\n",
       "      <td>...</td>\n",
       "      <td>...</td>\n",
       "    </tr>\n",
       "    <tr>\n",
       "      <th>421090</th>\n",
       "      <td>10000.0</td>\n",
       "      <td>10000.0</td>\n",
       "      <td>10000.0</td>\n",
       "      <td>11.99</td>\n",
       "      <td>332.10</td>\n",
       "      <td>31000.0</td>\n",
       "      <td>28.69</td>\n",
       "      <td>0.0</td>\n",
       "      <td>0.0</td>\n",
       "      <td>9.0</td>\n",
       "      <td>...</td>\n",
       "      <td>0</td>\n",
       "      <td>0</td>\n",
       "      <td>0</td>\n",
       "      <td>0</td>\n",
       "      <td>0</td>\n",
       "      <td>0</td>\n",
       "      <td>1</td>\n",
       "      <td>0</td>\n",
       "      <td>1</td>\n",
       "      <td>0</td>\n",
       "    </tr>\n",
       "    <tr>\n",
       "      <th>421091</th>\n",
       "      <td>24000.0</td>\n",
       "      <td>24000.0</td>\n",
       "      <td>24000.0</td>\n",
       "      <td>11.99</td>\n",
       "      <td>797.03</td>\n",
       "      <td>79000.0</td>\n",
       "      <td>3.90</td>\n",
       "      <td>0.0</td>\n",
       "      <td>1.0</td>\n",
       "      <td>5.0</td>\n",
       "      <td>...</td>\n",
       "      <td>0</td>\n",
       "      <td>0</td>\n",
       "      <td>0</td>\n",
       "      <td>0</td>\n",
       "      <td>0</td>\n",
       "      <td>0</td>\n",
       "      <td>1</td>\n",
       "      <td>0</td>\n",
       "      <td>1</td>\n",
       "      <td>0</td>\n",
       "    </tr>\n",
       "    <tr>\n",
       "      <th>421092</th>\n",
       "      <td>13000.0</td>\n",
       "      <td>13000.0</td>\n",
       "      <td>13000.0</td>\n",
       "      <td>15.99</td>\n",
       "      <td>316.07</td>\n",
       "      <td>35000.0</td>\n",
       "      <td>30.90</td>\n",
       "      <td>0.0</td>\n",
       "      <td>0.0</td>\n",
       "      <td>9.0</td>\n",
       "      <td>...</td>\n",
       "      <td>0</td>\n",
       "      <td>0</td>\n",
       "      <td>0</td>\n",
       "      <td>0</td>\n",
       "      <td>0</td>\n",
       "      <td>0</td>\n",
       "      <td>0</td>\n",
       "      <td>1</td>\n",
       "      <td>1</td>\n",
       "      <td>0</td>\n",
       "    </tr>\n",
       "    <tr>\n",
       "      <th>421093</th>\n",
       "      <td>12000.0</td>\n",
       "      <td>12000.0</td>\n",
       "      <td>12000.0</td>\n",
       "      <td>19.99</td>\n",
       "      <td>317.86</td>\n",
       "      <td>64400.0</td>\n",
       "      <td>27.19</td>\n",
       "      <td>1.0</td>\n",
       "      <td>2.0</td>\n",
       "      <td>17.0</td>\n",
       "      <td>...</td>\n",
       "      <td>0</td>\n",
       "      <td>0</td>\n",
       "      <td>0</td>\n",
       "      <td>0</td>\n",
       "      <td>0</td>\n",
       "      <td>0</td>\n",
       "      <td>0</td>\n",
       "      <td>1</td>\n",
       "      <td>1</td>\n",
       "      <td>0</td>\n",
       "    </tr>\n",
       "    <tr>\n",
       "      <th>421094</th>\n",
       "      <td>20000.0</td>\n",
       "      <td>20000.0</td>\n",
       "      <td>20000.0</td>\n",
       "      <td>11.99</td>\n",
       "      <td>664.20</td>\n",
       "      <td>100000.0</td>\n",
       "      <td>10.83</td>\n",
       "      <td>0.0</td>\n",
       "      <td>1.0</td>\n",
       "      <td>8.0</td>\n",
       "      <td>...</td>\n",
       "      <td>0</td>\n",
       "      <td>0</td>\n",
       "      <td>0</td>\n",
       "      <td>0</td>\n",
       "      <td>0</td>\n",
       "      <td>0</td>\n",
       "      <td>1</td>\n",
       "      <td>0</td>\n",
       "      <td>1</td>\n",
       "      <td>0</td>\n",
       "    </tr>\n",
       "  </tbody>\n",
       "</table>\n",
       "<p>421095 rows × 98 columns</p>\n",
       "</div>"
      ],
      "text/plain": [
       "        loan_amnt  funded_amnt  funded_amnt_inv  int_rate  installment  \\\n",
       "0         16000.0      16000.0          16000.0     14.85       379.39   \n",
       "1          9600.0       9600.0           9600.0      7.49       298.58   \n",
       "2         25000.0      25000.0          25000.0      7.49       777.55   \n",
       "3         28000.0      28000.0          28000.0      6.49       858.05   \n",
       "4          8650.0       8650.0           8650.0     19.89       320.99   \n",
       "...           ...          ...              ...       ...          ...   \n",
       "421090    10000.0      10000.0          10000.0     11.99       332.10   \n",
       "421091    24000.0      24000.0          24000.0     11.99       797.03   \n",
       "421092    13000.0      13000.0          13000.0     15.99       316.07   \n",
       "421093    12000.0      12000.0          12000.0     19.99       317.86   \n",
       "421094    20000.0      20000.0          20000.0     11.99       664.20   \n",
       "\n",
       "        annual_inc    dti  delinq_2yrs  inq_last_6mths  open_acc  ...  \\\n",
       "0          48000.0  33.18          0.0             0.0      11.0  ...   \n",
       "1          60000.0  22.44          0.0             0.0       7.0  ...   \n",
       "2         109000.0  26.02          0.0             1.0       9.0  ...   \n",
       "3          92000.0  21.60          0.0             0.0      16.0  ...   \n",
       "4          55000.0  25.49          0.0             4.0      18.0  ...   \n",
       "...            ...    ...          ...             ...       ...  ...   \n",
       "421090     31000.0  28.69          0.0             0.0       9.0  ...   \n",
       "421091     79000.0   3.90          0.0             1.0       5.0  ...   \n",
       "421092     35000.0  30.90          0.0             0.0       9.0  ...   \n",
       "421093     64400.0  27.19          1.0             2.0      17.0  ...   \n",
       "421094    100000.0  10.83          0.0             1.0       8.0  ...   \n",
       "\n",
       "        purpose_moving  purpose_other  purpose_renewable_energy  \\\n",
       "0                    0              0                         0   \n",
       "1                    0              0                         0   \n",
       "2                    0              0                         0   \n",
       "3                    0              0                         0   \n",
       "4                    0              0                         0   \n",
       "...                ...            ...                       ...   \n",
       "421090               0              0                         0   \n",
       "421091               0              0                         0   \n",
       "421092               0              0                         0   \n",
       "421093               0              0                         0   \n",
       "421094               0              0                         0   \n",
       "\n",
       "        purpose_small_business  purpose_vacation  purpose_wedding  \\\n",
       "0                            0                 0                0   \n",
       "1                            0                 0                0   \n",
       "2                            0                 0                0   \n",
       "3                            0                 0                0   \n",
       "4                            0                 0                0   \n",
       "...                        ...               ...              ...   \n",
       "421090                       0                 0                0   \n",
       "421091                       0                 0                0   \n",
       "421092                       0                 0                0   \n",
       "421093                       0                 0                0   \n",
       "421094                       0                 0                0   \n",
       "\n",
       "        initial_list_status_f  initial_list_status_w  \\\n",
       "0                           0                      1   \n",
       "1                           0                      1   \n",
       "2                           0                      1   \n",
       "3                           0                      1   \n",
       "4                           0                      1   \n",
       "...                       ...                    ...   \n",
       "421090                      1                      0   \n",
       "421091                      1                      0   \n",
       "421092                      0                      1   \n",
       "421093                      0                      1   \n",
       "421094                      1                      0   \n",
       "\n",
       "        application_type_INDIVIDUAL  application_type_JOINT  \n",
       "0                                 1                       0  \n",
       "1                                 1                       0  \n",
       "2                                 1                       0  \n",
       "3                                 1                       0  \n",
       "4                                 1                       0  \n",
       "...                             ...                     ...  \n",
       "421090                            1                       0  \n",
       "421091                            1                       0  \n",
       "421092                            1                       0  \n",
       "421093                            1                       0  \n",
       "421094                            1                       0  \n",
       "\n",
       "[421095 rows x 98 columns]"
      ]
     },
     "execution_count": 14,
     "metadata": {},
     "output_type": "execute_result"
    }
   ],
   "source": [
    "pd.get_dummies(y2015_cleaned)"
   ]
  },
  {
   "cell_type": "markdown",
   "metadata": {
    "run_control": {
     "frozen": false,
     "read_only": false
    }
   },
   "source": [
    "You can see that the number of additional columns (33) generated by one-hot encoding the categorical features in the dataset is much more reasonable after removing the categorical features with high cardinality, dates, or missing values.\n",
    "\n",
    "## Second attempt at a first-pass random forest model\n",
    "\n",
    "Now, try evaluating the performance of the first-pass, all-features random forest model using 10-fold CV again, after performing all of the necessary data-cleaning steps."
   ]
  },
  {
   "cell_type": "code",
   "execution_count": 15,
   "metadata": {
    "run_control": {
     "frozen": false,
     "read_only": false
    }
   },
   "outputs": [
    {
     "name": "stdout",
     "output_type": "stream",
     "text": [
      "[0.95447637 0.96468772 0.96250297 0.96074567 0.96072192 0.96069724\n",
      " 0.96041226 0.96043601 0.96041226 0.96045976]\n",
      "\n",
      "Cross-validation time elapsed: 66.49 seconds.\n"
     ]
    }
   ],
   "source": [
    "from sklearn import ensemble\n",
    "from sklearn.model_selection import cross_val_score\n",
    "import time\n",
    "\n",
    "start = time.time()\n",
    "\n",
    "rfc = ensemble.RandomForestClassifier(n_estimators=10, n_jobs=-1)\n",
    "X = y2015_cleaned.drop('loan_status', 1)\n",
    "Y = y2015_cleaned['loan_status']\n",
    "X = pd.get_dummies(X)\n",
    "\n",
    "print(f'{cross_val_score(rfc, X, Y, cv=10)}\\n')\n",
    "\n",
    "print(f'Cross-validation time elapsed: {round(time.time() - start, 2)} seconds.')"
   ]
  },
  {
   "cell_type": "markdown",
   "metadata": {
    "run_control": {
     "frozen": false,
     "read_only": false
    }
   },
   "source": [
    "As you can see, the estimated out-of-sample accuracy is about 96%. (Your runtime may be different, depending on the specs of your machine; at worst, it shouldn't take more than five minutes).\n",
    "\n",
    "**Note:** A more efficient way of estimating the out-of-sample accuracy that is unique to bootstrap-based approaches such as random forests is out-of-bag (OOB) error. When generating bootstrapped training samples for each tree, some proportion of the full set of training observations are left out; these \"out-of-bag\" samples can be used to estimate generalization error without needing to retrain the model several times, as is required for cross-validation. For more details, refer to the scikit-learn `RandomForestClassifier` documentation on the `oob_score` parameter and `oob_score_` attribute.\n",
    "\n",
    "Although this model deals with the large number of features well, it is likely that many of the variables in the model contribute little or nothing to the final prediction, resulting in an unnecessarily complex model that may show performance degradation in the future. You can get an initial sense of how many of the features are unimportant by examining the feature importances calculated by scikit-learn during the model-building process:"
   ]
  },
  {
   "cell_type": "code",
   "execution_count": 16,
   "metadata": {},
   "outputs": [
    {
     "data": {
      "text/plain": [
       "<AxesSubplot:>"
      ]
     },
     "execution_count": 16,
     "metadata": {},
     "output_type": "execute_result"
    },
    {
     "data": {
      "image/png": "[encoded data removed]",
      "text/plain": [
       "<Figure size 432x288 with 1 Axes>"
      ]
     },
     "metadata": {
      "needs_background": "light"
     },
     "output_type": "display_data"
    }
   ],
   "source": [
    "import matplotlib.pyplot as plt\n",
    "\n",
    "rfc.fit(X, Y)\n",
    "\n",
    "feat_importances = pd.Series(rfc.feature_importances_, index=X.columns)\n",
    "feat_importances.nlargest(20).plot(kind='barh')"
   ]
  },
  {
   "cell_type": "markdown",
   "metadata": {},
   "source": [
    "As you can see, only a handful of the original ~100 features have a significant impact on the out-of-sample predictions. Furthermore, the importance of the features drops off rapidly after the top 10-15 features. Further iteration on this model would include removing the unnecessary features, deriving new features from the ones provided in the source data, and parameter tuning (although another strength of random forests is the relatively small number of parameters to tune)."
   ]
  }
 ],
 "metadata": {
  "hide_input": false,
  "kernelspec": {
   "display_name": "Python 3 (ipykernel)",
   "language": "python",
   "name": "python3"
  },
  "language_info": {
   "codemirror_mode": {
    "name": "ipython",
    "version": 3
   },
   "file_extension": ".py",
   "mimetype": "text/x-python",
   "name": "python",
   "nbconvert_exporter": "python",
   "pygments_lexer": "ipython3",
   "version": "3.9.10"
  },
  "toc": {
   "colors": {
    "hover_highlight": "#DAA520",
    "running_highlight": "#FF0000",
    "selected_highlight": "#FFD700"
   },
   "moveMenuLeft": true,
   "nav_menu": {
    "height": "86px",
    "width": "252px"
   },
   "navigate_menu": true,
   "number_sections": true,
   "sideBar": true,
   "threshold": 4,
   "toc_cell": false,
   "toc_section_display": "block",
   "toc_window_display": false
  }
 },
 "nbformat": 4,
 "nbformat_minor": 2
}
