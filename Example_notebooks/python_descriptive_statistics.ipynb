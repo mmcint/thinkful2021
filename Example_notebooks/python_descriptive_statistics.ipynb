{
 "cells": [
  {
   "cell_type": "markdown",
   "metadata": {
    "colab_type": "text",
    "id": "6GnuKOJC3f_1"
   },
   "source": [
    "## Load the data\n",
    "\n",
    "To begin, load up some data from a database into a DataFrame. You'll use data from Kickstarter in this lesson."
   ]
  },
  {
   "cell_type": "code",
   "execution_count": 0,
   "metadata": {
    "colab": {},
    "colab_type": "code",
    "collapsed": true,
    "id": "A2M7-UiHfGw_"
   },
   "outputs": [],
   "source": [
    "# To keep the page organized, do all imports here\n",
    "import pandas as pd\n",
    "from scipy import stats\n",
    "\n",
    "projects_df = pd.read_csv(\"https://tf-assets-prod.s3.amazonaws.com/tf-curric/data-science/ksprojects.csv\")"
   ]
  },
  {
   "cell_type": "markdown",
   "metadata": {
    "colab_type": "text",
    "id": "2u2Emfy4fmKs"
   },
   "source": [
    "Now, quickly examine your DataFrame."
   ]
  },
  {
   "cell_type": "code",
   "execution_count": 2,
   "metadata": {
    "colab": {
     "base_uri": "https://localhost:8080/",
     "height": 34
    },
    "colab_type": "code",
    "id": "jM8Z-HVAftNr",
    "outputId": "a96d8cd2-254b-49aa-ddef-a0858218e1f8"
   },
   "outputs": [
    {
     "data": {
      "text/plain": [
       "(65418, 13)"
      ]
     },
     "execution_count": 2,
     "metadata": {
      "tags": []
     },
     "output_type": "execute_result"
    }
   ],
   "source": [
    "projects_df.shape"
   ]
  },
  {
   "cell_type": "code",
   "execution_count": 3,
   "metadata": {
    "colab": {
     "base_uri": "https://localhost:8080/",
     "height": 323
    },
    "colab_type": "code",
    "id": "Gnb7aG8ifwqN",
    "outputId": "a5dd4ccf-8f45-4942-caf2-e63529609691"
   },
   "outputs": [
    {
     "name": "stdout",
     "output_type": "stream",
     "text": [
      "<class 'pandas.core.frame.DataFrame'>\n",
      "RangeIndex: 65418 entries, 0 to 65417\n",
      "Data columns (total 13 columns):\n",
      "id               65418 non-null int64\n",
      "name             65418 non-null object\n",
      "category         65418 non-null object\n",
      "main_category    65418 non-null object\n",
      "deadline         65418 non-null object\n",
      "goal             65418 non-null float64\n",
      "launched         65418 non-null object\n",
      "state            65418 non-null object\n",
      "backers          65418 non-null int64\n",
      "country          65418 non-null object\n",
      "usd_pledged      64673 non-null float64\n",
      "currency         65418 non-null object\n",
      "pledged          65418 non-null float64\n",
      "dtypes: float64(3), int64(2), object(8)\n",
      "memory usage: 6.5+ MB\n"
     ]
    }
   ],
   "source": [
    "projects_df.info()"
   ]
  },
  {
   "cell_type": "markdown",
   "metadata": {
    "colab_type": "text",
    "id": "kk_xBp3AgSDa"
   },
   "source": [
    "You can see that there are several numeric columns and a couple of date columns. There's also some categorical data. Most importantly, though, there are no nulls in any columns except *usd_pledged*. Notice that each column has 65,418 values, except *usd_pledged*, which has 64,673 values. If you are going to use that column in your analysis, you'll need to deal with those nulls.  \n",
    "\n"
   ]
  },
  {
   "cell_type": "code",
   "execution_count": 4,
   "metadata": {
    "colab": {
     "base_uri": "https://localhost:8080/",
     "height": 547
    },
    "colab_type": "code",
    "id": "UYfeOigTgtEo",
    "outputId": "ac8bc433-b448-403d-b0ca-d9bf43f5447c"
   },
   "outputs": [
    {
     "data": {
      "text/html": [
       "<div>\n",
       "<style scoped>\n",
       "    .dataframe tbody tr th:only-of-type {\n",
       "        vertical-align: middle;\n",
       "    }\n",
       "\n",
       "    .dataframe tbody tr th {\n",
       "        vertical-align: top;\n",
       "    }\n",
       "\n",
       "    .dataframe thead th {\n",
       "        text-align: right;\n",
       "    }\n",
       "</style>\n",
       "<table border=\"1\" class=\"dataframe\">\n",
       "  <thead>\n",
       "    <tr style=\"text-align: right;\">\n",
       "      <th></th>\n",
       "      <th>id</th>\n",
       "      <th>name</th>\n",
       "      <th>category</th>\n",
       "      <th>main_category</th>\n",
       "      <th>deadline</th>\n",
       "      <th>goal</th>\n",
       "      <th>launched</th>\n",
       "      <th>state</th>\n",
       "      <th>backers</th>\n",
       "      <th>country</th>\n",
       "      <th>usd_pledged</th>\n",
       "      <th>currency</th>\n",
       "      <th>pledged</th>\n",
       "    </tr>\n",
       "  </thead>\n",
       "  <tbody>\n",
       "    <tr>\n",
       "      <th>0</th>\n",
       "      <td>1147015301</td>\n",
       "      <td>\"All We Had\" Gets Into Cannes -- $10 or More G...</td>\n",
       "      <td>Documentary</td>\n",
       "      <td>Film &amp; Video</td>\n",
       "      <td>2009-05-20 21:50:00</td>\n",
       "      <td>300.0</td>\n",
       "      <td>2009-04-30 22:10:30</td>\n",
       "      <td>failed</td>\n",
       "      <td>4</td>\n",
       "      <td>US</td>\n",
       "      <td>40.00</td>\n",
       "      <td>USD</td>\n",
       "      <td>40.00</td>\n",
       "    </tr>\n",
       "    <tr>\n",
       "      <th>1</th>\n",
       "      <td>1100844465</td>\n",
       "      <td>daily digest</td>\n",
       "      <td>Documentary</td>\n",
       "      <td>Film &amp; Video</td>\n",
       "      <td>2009-06-01 02:20:00</td>\n",
       "      <td>700.0</td>\n",
       "      <td>2009-05-04 21:14:28</td>\n",
       "      <td>successful</td>\n",
       "      <td>14</td>\n",
       "      <td>US</td>\n",
       "      <td>700.00</td>\n",
       "      <td>USD</td>\n",
       "      <td>700.00</td>\n",
       "    </tr>\n",
       "    <tr>\n",
       "      <th>2</th>\n",
       "      <td>1316334968</td>\n",
       "      <td>Drive A Faster Car 2.0</td>\n",
       "      <td>Nonfiction</td>\n",
       "      <td>Publishing</td>\n",
       "      <td>2009-06-04 06:00:00</td>\n",
       "      <td>1000.0</td>\n",
       "      <td>2009-05-04 22:51:31</td>\n",
       "      <td>successful</td>\n",
       "      <td>32</td>\n",
       "      <td>US</td>\n",
       "      <td>1367.00</td>\n",
       "      <td>USD</td>\n",
       "      <td>1367.00</td>\n",
       "    </tr>\n",
       "    <tr>\n",
       "      <th>3</th>\n",
       "      <td>1304906577</td>\n",
       "      <td>Accidental to Edinburgh - PHASE 1: AIRFARE</td>\n",
       "      <td>Theater</td>\n",
       "      <td>Theater</td>\n",
       "      <td>2009-06-05 05:59:00</td>\n",
       "      <td>6000.0</td>\n",
       "      <td>2009-04-30 22:22:43</td>\n",
       "      <td>successful</td>\n",
       "      <td>24</td>\n",
       "      <td>US</td>\n",
       "      <td>6575.00</td>\n",
       "      <td>USD</td>\n",
       "      <td>6575.00</td>\n",
       "    </tr>\n",
       "    <tr>\n",
       "      <th>4</th>\n",
       "      <td>1099226462</td>\n",
       "      <td>Logical Guess Pictures' 2nd Horror Movie!</td>\n",
       "      <td>Film &amp; Video</td>\n",
       "      <td>Film &amp; Video</td>\n",
       "      <td>2009-06-06 00:45:00</td>\n",
       "      <td>500.0</td>\n",
       "      <td>2009-04-30 01:32:55</td>\n",
       "      <td>successful</td>\n",
       "      <td>22</td>\n",
       "      <td>US</td>\n",
       "      <td>501.66</td>\n",
       "      <td>USD</td>\n",
       "      <td>501.66</td>\n",
       "    </tr>\n",
       "  </tbody>\n",
       "</table>\n",
       "</div>"
      ],
      "text/plain": [
       "           id  ...  pledged\n",
       "0  1147015301  ...    40.00\n",
       "1  1100844465  ...   700.00\n",
       "2  1316334968  ...  1367.00\n",
       "3  1304906577  ...  6575.00\n",
       "4  1099226462  ...   501.66\n",
       "\n",
       "[5 rows x 13 columns]"
      ]
     },
     "execution_count": 4,
     "metadata": {
      "tags": []
     },
     "output_type": "execute_result"
    }
   ],
   "source": [
    "projects_df.head()"
   ]
  },
  {
   "cell_type": "markdown",
   "metadata": {
    "colab_type": "text",
    "id": "x3zFHFuNhXv8"
   },
   "source": [
    "Before you move on, it would be interesting to find out how many different categories exist. There are a few ways to do this."
   ]
  },
  {
   "cell_type": "code",
   "execution_count": 5,
   "metadata": {
    "colab": {
     "base_uri": "https://localhost:8080/",
     "height": 34
    },
    "colab_type": "code",
    "id": "ORncu8jAiL5Z",
    "outputId": "c8bd35e6-50a4-4f31-cf63-907fd7c1f231"
   },
   "outputs": [
    {
     "data": {
      "text/plain": [
       "158"
      ]
     },
     "execution_count": 5,
     "metadata": {
      "tags": []
     },
     "output_type": "execute_result"
    }
   ],
   "source": [
    "# Count the number of unique values in this column\n",
    "projects_df['category'].nunique()"
   ]
  },
  {
   "cell_type": "code",
   "execution_count": 6,
   "metadata": {
    "colab": {
     "base_uri": "https://localhost:8080/",
     "height": 204
    },
    "colab_type": "code",
    "id": "P1DfsKf0iXtb",
    "outputId": "1d970390-338a-4ba1-ccfe-2f294763ba3f"
   },
   "outputs": [
    {
     "data": {
      "text/plain": [
       "Product Design    3444\n",
       "Documentary       2969\n",
       "Music             2740\n",
       "Shorts            2407\n",
       "Tabletop Games    2208\n",
       "Food              2126\n",
       "Video Games       2011\n",
       "Film & Video      1828\n",
       "Fiction           1670\n",
       "Fashion           1584\n",
       "Name: category, dtype: int64"
      ]
     },
     "execution_count": 6,
     "metadata": {
      "tags": []
     },
     "output_type": "execute_result"
    }
   ],
   "source": [
    "# Find the frequency of each value in the column\n",
    "category_counts = projects_df['category'].value_counts()\n",
    "\n",
    "# Only print the first 10, because 158 is too many to print\n",
    "category_counts.head(10)"
   ]
  },
  {
   "cell_type": "markdown",
   "metadata": {
    "colab_type": "text",
    "id": "Aq3FD9YPjASG"
   },
   "source": [
    "Do the same for the *main_category* column."
   ]
  },
  {
   "cell_type": "code",
   "execution_count": 7,
   "metadata": {
    "colab": {
     "base_uri": "https://localhost:8080/",
     "height": 34
    },
    "colab_type": "code",
    "id": "XXtvfjdtjQ5g",
    "outputId": "40d92e6c-1dbe-480e-ee53-ebe01a448e7e"
   },
   "outputs": [
    {
     "data": {
      "text/plain": [
       "15"
      ]
     },
     "execution_count": 7,
     "metadata": {
      "tags": []
     },
     "output_type": "execute_result"
    }
   ],
   "source": [
    "projects_df['main_category'].nunique()"
   ]
  },
  {
   "cell_type": "code",
   "execution_count": 8,
   "metadata": {
    "colab": {
     "base_uri": "https://localhost:8080/",
     "height": 289
    },
    "colab_type": "code",
    "id": "akJWmvGEjE_V",
    "outputId": "047ef156-2bb5-4d57-c87d-becbc46cb473"
   },
   "outputs": [
    {
     "data": {
      "text/plain": [
       "Film & Video    11666\n",
       "Music            9395\n",
       "Publishing       6901\n",
       "Games            5739\n",
       "Technology       5328\n",
       "Art              4843\n",
       "Design           4798\n",
       "Food             4343\n",
       "Fashion          3700\n",
       "Theater          2015\n",
       "Photography      1933\n",
       "Comics           1791\n",
       "Crafts           1474\n",
       "Journalism        811\n",
       "Dance             681\n",
       "Name: main_category, dtype: int64"
      ]
     },
     "execution_count": 8,
     "metadata": {
      "tags": []
     },
     "output_type": "execute_result"
    }
   ],
   "source": [
    "main_category_counts = projects_df['main_category'].value_counts()\n",
    "\n",
    "# There are only 15 main categories, so print them all.\n",
    "main_category_counts"
   ]
  },
  {
   "cell_type": "markdown",
   "metadata": {
    "colab_type": "text",
    "id": "yXvBUEaFjhzl"
   },
   "source": [
    "The *state*, *currency*, and *country* columns also look like they have categorical data. See if there's anything interesting going on there."
   ]
  },
  {
   "cell_type": "code",
   "execution_count": 9,
   "metadata": {
    "colab": {
     "base_uri": "https://localhost:8080/",
     "height": 34
    },
    "colab_type": "code",
    "id": "7Uauh-ZbjwtC",
    "outputId": "17de433e-d036-440e-f431-da07bb34f279"
   },
   "outputs": [
    {
     "data": {
      "text/plain": [
       "22"
      ]
     },
     "execution_count": 9,
     "metadata": {
      "tags": []
     },
     "output_type": "execute_result"
    }
   ],
   "source": [
    "# How many countries?\n",
    "projects_df['country'].nunique()"
   ]
  },
  {
   "cell_type": "code",
   "execution_count": 10,
   "metadata": {
    "colab": {
     "base_uri": "https://localhost:8080/",
     "height": 408
    },
    "colab_type": "code",
    "id": "6Ag293Rgj43h",
    "outputId": "c5c3479f-e883-4868-cde8-5511e430107e"
   },
   "outputs": [
    {
     "data": {
      "text/plain": [
       "US      52071\n",
       "GB       5617\n",
       "CA       2404\n",
       "AU       1258\n",
       "N,\"0      744\n",
       "DE        538\n",
       "NL        457\n",
       "FR        397\n",
       "IT        374\n",
       "ES        294\n",
       "SE        267\n",
       "NZ        236\n",
       "DK        157\n",
       "NO        120\n",
       "IE         99\n",
       "AT         98\n",
       "BE         90\n",
       "CH         88\n",
       "MX         43\n",
       "SG         29\n",
       "HK         26\n",
       "LU         11\n",
       "Name: country, dtype: int64"
      ]
     },
     "execution_count": 10,
     "metadata": {
      "tags": []
     },
     "output_type": "execute_result"
    }
   ],
   "source": [
    "# How are the projects distributed over the countries?\n",
    "country_counts = projects_df['country'].value_counts()\n",
    "country_counts"
   ]
  },
  {
   "cell_type": "markdown",
   "metadata": {
    "colab_type": "text",
    "id": "0SL0Dr27kVB1"
   },
   "source": [
    "So although the majority of projects are from the US, there are many other countries represented. Now, examine the currency."
   ]
  },
  {
   "cell_type": "code",
   "execution_count": 11,
   "metadata": {
    "colab": {
     "base_uri": "https://localhost:8080/",
     "height": 34
    },
    "colab_type": "code",
    "id": "7a0umqcwkgcb",
    "outputId": "d4462db7-6b6c-4a18-f3b7-2ed3a5ab9792"
   },
   "outputs": [
    {
     "data": {
      "text/plain": [
       "13"
      ]
     },
     "execution_count": 11,
     "metadata": {
      "tags": []
     },
     "output_type": "execute_result"
    }
   ],
   "source": [
    "projects_df['currency'].nunique()"
   ]
  },
  {
   "cell_type": "code",
   "execution_count": 12,
   "metadata": {
    "colab": {
     "base_uri": "https://localhost:8080/",
     "height": 255
    },
    "colab_type": "code",
    "id": "Sy_TxE6YknaL",
    "outputId": "8161329d-053b-4385-c66e-52f95bb7860b"
   },
   "outputs": [
    {
     "data": {
      "text/plain": [
       "USD    52597\n",
       "GBP     5722\n",
       "CAD     2445\n",
       "EUR     2399\n",
       "AUD     1271\n",
       "SEK      271\n",
       "NZD      241\n",
       "DKK      163\n",
       "NOK      123\n",
       "CHF       88\n",
       "MXN       43\n",
       "SGD       29\n",
       "HKD       26\n",
       "Name: currency, dtype: int64"
      ]
     },
     "execution_count": 12,
     "metadata": {
      "tags": []
     },
     "output_type": "execute_result"
    }
   ],
   "source": [
    "currency_counts = projects_df['currency'].value_counts()\n",
    "currency_counts"
   ]
  },
  {
   "cell_type": "markdown",
   "metadata": {
    "colab_type": "text",
    "id": "q4bAAZ3wkwWe"
   },
   "source": [
    "As expected, most projects use US dollars. However, many others use a different currency. This is an important discovery. Before you do any sort of analysis on money, you need to ensure that you are working with the same currency. Trying to find the mean would be meaningless if the amounts are in different currencies. The *usd_pledged* column is the amount of money pledged converted to USD, but the *pledged* and *goal* columns are in the specified currency. Before you solve that problem, see how many different states are in the *state* column.\n"
   ]
  },
  {
   "cell_type": "code",
   "execution_count": 13,
   "metadata": {
    "colab": {
     "base_uri": "https://localhost:8080/",
     "height": 34
    },
    "colab_type": "code",
    "id": "4npwMwf_l-0I",
    "outputId": "8f2ca0ad-0fd3-48f8-92b9-231b052df993"
   },
   "outputs": [
    {
     "data": {
      "text/plain": [
       "6"
      ]
     },
     "execution_count": 13,
     "metadata": {
      "tags": []
     },
     "output_type": "execute_result"
    }
   ],
   "source": [
    "projects_df['state'].nunique()"
   ]
  },
  {
   "cell_type": "code",
   "execution_count": 14,
   "metadata": {
    "colab": {
     "base_uri": "https://localhost:8080/",
     "height": 136
    },
    "colab_type": "code",
    "id": "AopCyh7zmMVe",
    "outputId": "d7fd1144-b185-4947-d5ef-e884d70f94f4"
   },
   "outputs": [
    {
     "data": {
      "text/plain": [
       "failed        33922\n",
       "successful    23125\n",
       "canceled       6427\n",
       "live            938\n",
       "undefined       695\n",
       "suspended       311\n",
       "Name: state, dtype: int64"
      ]
     },
     "execution_count": 14,
     "metadata": {
      "tags": []
     },
     "output_type": "execute_result"
    }
   ],
   "source": [
    "state_counts = projects_df['state'].value_counts()\n",
    "state_counts"
   ]
  },
  {
   "cell_type": "markdown",
   "metadata": {
    "colab_type": "text",
    "id": "j6qH2KQDBxNz"
   },
   "source": [
    "## Handling nulls\n",
    "\n",
    "Earlier, you saw that one of the columns has some null values. If that column is significant to your analysis, then you need to do something about those null values. There are several options:\n",
    "\n",
    " - Set a default value\n",
    " - Try to \"guess\" an appropriate value\n",
    " - Delete the rows altogether\n",
    " \n",
    "Of course, the choice depends on the data and the type of analysis that you wish to perform. In this example, the nulls occur in the *usd_pledged* column. It might help if you looked at those rows and see what that data looks like.\n",
    " \n",
    "Pandas has a built-in `isnull()` method to help find nulls across all columns in the DataFrame."
   ]
  },
  {
   "cell_type": "code",
   "execution_count": 15,
   "metadata": {
    "colab": {
     "base_uri": "https://localhost:8080/",
     "height": 0
    },
    "colab_type": "code",
    "id": "xZ0ui77Cml9W",
    "outputId": "937424bd-3a74-4608-a89f-2115681fa13d"
   },
   "outputs": [
    {
     "data": {
      "text/html": [
       "<div>\n",
       "<style scoped>\n",
       "    .dataframe tbody tr th:only-of-type {\n",
       "        vertical-align: middle;\n",
       "    }\n",
       "\n",
       "    .dataframe tbody tr th {\n",
       "        vertical-align: top;\n",
       "    }\n",
       "\n",
       "    .dataframe thead th {\n",
       "        text-align: right;\n",
       "    }\n",
       "</style>\n",
       "<table border=\"1\" class=\"dataframe\">\n",
       "  <thead>\n",
       "    <tr style=\"text-align: right;\">\n",
       "      <th></th>\n",
       "      <th>id</th>\n",
       "      <th>name</th>\n",
       "      <th>category</th>\n",
       "      <th>main_category</th>\n",
       "      <th>deadline</th>\n",
       "      <th>goal</th>\n",
       "      <th>launched</th>\n",
       "      <th>state</th>\n",
       "      <th>backers</th>\n",
       "      <th>country</th>\n",
       "      <th>usd_pledged</th>\n",
       "      <th>currency</th>\n",
       "      <th>pledged</th>\n",
       "    </tr>\n",
       "  </thead>\n",
       "  <tbody>\n",
       "    <tr>\n",
       "      <th>9490</th>\n",
       "      <td>1189637889</td>\n",
       "      <td>\"Natural Born Hooker\"</td>\n",
       "      <td>Theater</td>\n",
       "      <td>Theater</td>\n",
       "      <td>2012-04-24 08:59:00</td>\n",
       "      <td>25000.0</td>\n",
       "      <td>2012-03-14 19:05:44</td>\n",
       "      <td>undefined</td>\n",
       "      <td>0</td>\n",
       "      <td>N,\"0</td>\n",
       "      <td>NaN</td>\n",
       "      <td>USD</td>\n",
       "      <td>2621.00</td>\n",
       "    </tr>\n",
       "    <tr>\n",
       "      <th>15111</th>\n",
       "      <td>1244477824</td>\n",
       "      <td>Statpedia - The Collaborative Search Engine fo...</td>\n",
       "      <td>Software</td>\n",
       "      <td>Technology</td>\n",
       "      <td>2012-12-14 10:48:14</td>\n",
       "      <td>500.0</td>\n",
       "      <td>2012-11-14 10:48:14</td>\n",
       "      <td>undefined</td>\n",
       "      <td>0</td>\n",
       "      <td>N,\"0</td>\n",
       "      <td>NaN</td>\n",
       "      <td>USD</td>\n",
       "      <td>500.00</td>\n",
       "    </tr>\n",
       "    <tr>\n",
       "      <th>17484</th>\n",
       "      <td>1084993156</td>\n",
       "      <td>Willy Tea, Chris Doud and Chums: The Children'...</td>\n",
       "      <td>Music</td>\n",
       "      <td>Music</td>\n",
       "      <td>2013-04-09 06:06:11</td>\n",
       "      <td>3750.0</td>\n",
       "      <td>2013-03-26 05:06:11</td>\n",
       "      <td>successful</td>\n",
       "      <td>0</td>\n",
       "      <td>N,\"0</td>\n",
       "      <td>NaN</td>\n",
       "      <td>USD</td>\n",
       "      <td>4593.00</td>\n",
       "    </tr>\n",
       "    <tr>\n",
       "      <th>17532</th>\n",
       "      <td>1379649454</td>\n",
       "      <td>Juiette Z. Payne presents debut EP \"Eternal Da...</td>\n",
       "      <td>Music</td>\n",
       "      <td>Music</td>\n",
       "      <td>2013-04-11 15:50:25</td>\n",
       "      <td>5000.0</td>\n",
       "      <td>2013-03-02 15:50:25</td>\n",
       "      <td>successful</td>\n",
       "      <td>0</td>\n",
       "      <td>N,\"0</td>\n",
       "      <td>NaN</td>\n",
       "      <td>USD</td>\n",
       "      <td>5250.00</td>\n",
       "    </tr>\n",
       "    <tr>\n",
       "      <th>27334</th>\n",
       "      <td>1349042579</td>\n",
       "      <td>O'Films Production Launch!</td>\n",
       "      <td>Film &amp; Video</td>\n",
       "      <td>Film &amp; Video</td>\n",
       "      <td>2014-04-30 02:58:25</td>\n",
       "      <td>6000.0</td>\n",
       "      <td>2014-04-08 02:58:25</td>\n",
       "      <td>undefined</td>\n",
       "      <td>0</td>\n",
       "      <td>N,\"0</td>\n",
       "      <td>NaN</td>\n",
       "      <td>USD</td>\n",
       "      <td>6168.00</td>\n",
       "    </tr>\n",
       "    <tr>\n",
       "      <th>27443</th>\n",
       "      <td>1205956740</td>\n",
       "      <td>Short Film - \"The Man Who Choked\"</td>\n",
       "      <td>Film &amp; Video</td>\n",
       "      <td>Film &amp; Video</td>\n",
       "      <td>2014-05-02 12:47:00</td>\n",
       "      <td>1000.0</td>\n",
       "      <td>2014-04-16 13:21:21</td>\n",
       "      <td>undefined</td>\n",
       "      <td>0</td>\n",
       "      <td>N,\"0</td>\n",
       "      <td>NaN</td>\n",
       "      <td>GBP</td>\n",
       "      <td>1042.00</td>\n",
       "    </tr>\n",
       "    <tr>\n",
       "      <th>27522</th>\n",
       "      <td>1125500286</td>\n",
       "      <td>All About Amy</td>\n",
       "      <td>Film &amp; Video</td>\n",
       "      <td>Film &amp; Video</td>\n",
       "      <td>2014-05-04 17:41:13</td>\n",
       "      <td>3000.0</td>\n",
       "      <td>2014-04-04 17:41:13</td>\n",
       "      <td>undefined</td>\n",
       "      <td>0</td>\n",
       "      <td>N,\"0</td>\n",
       "      <td>NaN</td>\n",
       "      <td>USD</td>\n",
       "      <td>3225.00</td>\n",
       "    </tr>\n",
       "    <tr>\n",
       "      <th>27574</th>\n",
       "      <td>1292835145</td>\n",
       "      <td>WonderQuest ~ A Feature Length Music Film</td>\n",
       "      <td>Film &amp; Video</td>\n",
       "      <td>Film &amp; Video</td>\n",
       "      <td>2014-05-06 05:12:41</td>\n",
       "      <td>1111.0</td>\n",
       "      <td>2014-04-05 05:12:41</td>\n",
       "      <td>undefined</td>\n",
       "      <td>0</td>\n",
       "      <td>N,\"0</td>\n",
       "      <td>NaN</td>\n",
       "      <td>USD</td>\n",
       "      <td>3032.88</td>\n",
       "    </tr>\n",
       "    <tr>\n",
       "      <th>27602</th>\n",
       "      <td>1092574678</td>\n",
       "      <td>Pixelate Film Festival 2014</td>\n",
       "      <td>Film &amp; Video</td>\n",
       "      <td>Film &amp; Video</td>\n",
       "      <td>2014-05-07 13:37:16</td>\n",
       "      <td>1500.0</td>\n",
       "      <td>2014-04-09 13:37:16</td>\n",
       "      <td>undefined</td>\n",
       "      <td>0</td>\n",
       "      <td>N,\"0</td>\n",
       "      <td>NaN</td>\n",
       "      <td>GBP</td>\n",
       "      <td>1552.00</td>\n",
       "    </tr>\n",
       "    <tr>\n",
       "      <th>27755</th>\n",
       "      <td>1061706792</td>\n",
       "      <td>Zombie Shuffle feature film</td>\n",
       "      <td>Film &amp; Video</td>\n",
       "      <td>Film &amp; Video</td>\n",
       "      <td>2014-05-12 05:59:00</td>\n",
       "      <td>5000.0</td>\n",
       "      <td>2014-04-09 16:12:49</td>\n",
       "      <td>undefined</td>\n",
       "      <td>0</td>\n",
       "      <td>N,\"0</td>\n",
       "      <td>NaN</td>\n",
       "      <td>USD</td>\n",
       "      <td>5305.00</td>\n",
       "    </tr>\n",
       "  </tbody>\n",
       "</table>\n",
       "</div>"
      ],
      "text/plain": [
       "               id  ...  pledged\n",
       "9490   1189637889  ...  2621.00\n",
       "15111  1244477824  ...   500.00\n",
       "17484  1084993156  ...  4593.00\n",
       "17532  1379649454  ...  5250.00\n",
       "27334  1349042579  ...  6168.00\n",
       "27443  1205956740  ...  1042.00\n",
       "27522  1125500286  ...  3225.00\n",
       "27574  1292835145  ...  3032.88\n",
       "27602  1092574678  ...  1552.00\n",
       "27755  1061706792  ...  5305.00\n",
       "\n",
       "[10 rows x 13 columns]"
      ]
     },
     "execution_count": 15,
     "metadata": {
      "tags": []
     },
     "output_type": "execute_result"
    }
   ],
   "source": [
    "null_rows = projects_df[projects_df.isnull().any(axis=1)] # Will return rows that have a null value in any column\n",
    "null_rows.head(10)"
   ]
  },
  {
   "cell_type": "code",
   "execution_count": 16,
   "metadata": {
    "colab": {
     "base_uri": "https://localhost:8080/",
     "height": 0
    },
    "colab_type": "code",
    "id": "MT-7nw_OC8vq",
    "outputId": "6094cea2-39f1-41d9-eb8d-708ddee58aef"
   },
   "outputs": [
    {
     "name": "stdout",
     "output_type": "stream",
     "text": [
      "<class 'pandas.core.frame.DataFrame'>\n",
      "Int64Index: 745 entries, 9490 to 59365\n",
      "Data columns (total 13 columns):\n",
      "id               745 non-null int64\n",
      "name             745 non-null object\n",
      "category         745 non-null object\n",
      "main_category    745 non-null object\n",
      "deadline         745 non-null object\n",
      "goal             745 non-null float64\n",
      "launched         745 non-null object\n",
      "state            745 non-null object\n",
      "backers          745 non-null int64\n",
      "country          745 non-null object\n",
      "usd_pledged      0 non-null float64\n",
      "currency         745 non-null object\n",
      "pledged          745 non-null float64\n",
      "dtypes: float64(3), int64(2), object(8)\n",
      "memory usage: 81.5+ KB\n"
     ]
    }
   ],
   "source": [
    "null_rows.info()"
   ]
  },
  {
   "cell_type": "markdown",
   "metadata": {
    "colab_type": "text",
    "id": "FVpWTnOADEFE"
   },
   "source": [
    "In a real-life situation, you may be able to go back to the source of this data and find out why the data is like this. For example, the *country* column appears to be broken, even though it contains a value. And the state seems to be undefined for many of these rows. There are only 745 problem rows, so it may be better for your analysis if you dropped those rows altogether.\n",
    "\n",
    "If you choose to place a default value in these columns, you could use the `fillna()` method to replace all `NaN` values with a specific value. For example, to replace all `NaN` values with `0`, you could run the following code:"
   ]
  },
  {
   "cell_type": "code",
   "execution_count": 17,
   "metadata": {
    "colab": {
     "base_uri": "https://localhost:8080/",
     "height": 0
    },
    "colab_type": "code",
    "id": "Y9olZCNbELf-",
    "outputId": "7ac5f665-8e2a-4336-92c0-1758c56da9a5"
   },
   "outputs": [
    {
     "data": {
      "text/html": [
       "<div>\n",
       "<style scoped>\n",
       "    .dataframe tbody tr th:only-of-type {\n",
       "        vertical-align: middle;\n",
       "    }\n",
       "\n",
       "    .dataframe tbody tr th {\n",
       "        vertical-align: top;\n",
       "    }\n",
       "\n",
       "    .dataframe thead th {\n",
       "        text-align: right;\n",
       "    }\n",
       "</style>\n",
       "<table border=\"1\" class=\"dataframe\">\n",
       "  <thead>\n",
       "    <tr style=\"text-align: right;\">\n",
       "      <th></th>\n",
       "      <th>id</th>\n",
       "      <th>name</th>\n",
       "      <th>category</th>\n",
       "      <th>main_category</th>\n",
       "      <th>deadline</th>\n",
       "      <th>goal</th>\n",
       "      <th>launched</th>\n",
       "      <th>state</th>\n",
       "      <th>backers</th>\n",
       "      <th>country</th>\n",
       "      <th>usd_pledged</th>\n",
       "      <th>currency</th>\n",
       "      <th>pledged</th>\n",
       "    </tr>\n",
       "  </thead>\n",
       "  <tbody>\n",
       "    <tr>\n",
       "      <th>9490</th>\n",
       "      <td>1189637889</td>\n",
       "      <td>\"Natural Born Hooker\"</td>\n",
       "      <td>Theater</td>\n",
       "      <td>Theater</td>\n",
       "      <td>2012-04-24 08:59:00</td>\n",
       "      <td>25000.0</td>\n",
       "      <td>2012-03-14 19:05:44</td>\n",
       "      <td>undefined</td>\n",
       "      <td>0</td>\n",
       "      <td>N,\"0</td>\n",
       "      <td>0.0</td>\n",
       "      <td>USD</td>\n",
       "      <td>2621.00</td>\n",
       "    </tr>\n",
       "    <tr>\n",
       "      <th>15111</th>\n",
       "      <td>1244477824</td>\n",
       "      <td>Statpedia - The Collaborative Search Engine fo...</td>\n",
       "      <td>Software</td>\n",
       "      <td>Technology</td>\n",
       "      <td>2012-12-14 10:48:14</td>\n",
       "      <td>500.0</td>\n",
       "      <td>2012-11-14 10:48:14</td>\n",
       "      <td>undefined</td>\n",
       "      <td>0</td>\n",
       "      <td>N,\"0</td>\n",
       "      <td>0.0</td>\n",
       "      <td>USD</td>\n",
       "      <td>500.00</td>\n",
       "    </tr>\n",
       "    <tr>\n",
       "      <th>17484</th>\n",
       "      <td>1084993156</td>\n",
       "      <td>Willy Tea, Chris Doud and Chums: The Children'...</td>\n",
       "      <td>Music</td>\n",
       "      <td>Music</td>\n",
       "      <td>2013-04-09 06:06:11</td>\n",
       "      <td>3750.0</td>\n",
       "      <td>2013-03-26 05:06:11</td>\n",
       "      <td>successful</td>\n",
       "      <td>0</td>\n",
       "      <td>N,\"0</td>\n",
       "      <td>0.0</td>\n",
       "      <td>USD</td>\n",
       "      <td>4593.00</td>\n",
       "    </tr>\n",
       "    <tr>\n",
       "      <th>17532</th>\n",
       "      <td>1379649454</td>\n",
       "      <td>Juiette Z. Payne presents debut EP \"Eternal Da...</td>\n",
       "      <td>Music</td>\n",
       "      <td>Music</td>\n",
       "      <td>2013-04-11 15:50:25</td>\n",
       "      <td>5000.0</td>\n",
       "      <td>2013-03-02 15:50:25</td>\n",
       "      <td>successful</td>\n",
       "      <td>0</td>\n",
       "      <td>N,\"0</td>\n",
       "      <td>0.0</td>\n",
       "      <td>USD</td>\n",
       "      <td>5250.00</td>\n",
       "    </tr>\n",
       "    <tr>\n",
       "      <th>27334</th>\n",
       "      <td>1349042579</td>\n",
       "      <td>O'Films Production Launch!</td>\n",
       "      <td>Film &amp; Video</td>\n",
       "      <td>Film &amp; Video</td>\n",
       "      <td>2014-04-30 02:58:25</td>\n",
       "      <td>6000.0</td>\n",
       "      <td>2014-04-08 02:58:25</td>\n",
       "      <td>undefined</td>\n",
       "      <td>0</td>\n",
       "      <td>N,\"0</td>\n",
       "      <td>0.0</td>\n",
       "      <td>USD</td>\n",
       "      <td>6168.00</td>\n",
       "    </tr>\n",
       "    <tr>\n",
       "      <th>27443</th>\n",
       "      <td>1205956740</td>\n",
       "      <td>Short Film - \"The Man Who Choked\"</td>\n",
       "      <td>Film &amp; Video</td>\n",
       "      <td>Film &amp; Video</td>\n",
       "      <td>2014-05-02 12:47:00</td>\n",
       "      <td>1000.0</td>\n",
       "      <td>2014-04-16 13:21:21</td>\n",
       "      <td>undefined</td>\n",
       "      <td>0</td>\n",
       "      <td>N,\"0</td>\n",
       "      <td>0.0</td>\n",
       "      <td>GBP</td>\n",
       "      <td>1042.00</td>\n",
       "    </tr>\n",
       "    <tr>\n",
       "      <th>27522</th>\n",
       "      <td>1125500286</td>\n",
       "      <td>All About Amy</td>\n",
       "      <td>Film &amp; Video</td>\n",
       "      <td>Film &amp; Video</td>\n",
       "      <td>2014-05-04 17:41:13</td>\n",
       "      <td>3000.0</td>\n",
       "      <td>2014-04-04 17:41:13</td>\n",
       "      <td>undefined</td>\n",
       "      <td>0</td>\n",
       "      <td>N,\"0</td>\n",
       "      <td>0.0</td>\n",
       "      <td>USD</td>\n",
       "      <td>3225.00</td>\n",
       "    </tr>\n",
       "    <tr>\n",
       "      <th>27574</th>\n",
       "      <td>1292835145</td>\n",
       "      <td>WonderQuest ~ A Feature Length Music Film</td>\n",
       "      <td>Film &amp; Video</td>\n",
       "      <td>Film &amp; Video</td>\n",
       "      <td>2014-05-06 05:12:41</td>\n",
       "      <td>1111.0</td>\n",
       "      <td>2014-04-05 05:12:41</td>\n",
       "      <td>undefined</td>\n",
       "      <td>0</td>\n",
       "      <td>N,\"0</td>\n",
       "      <td>0.0</td>\n",
       "      <td>USD</td>\n",
       "      <td>3032.88</td>\n",
       "    </tr>\n",
       "    <tr>\n",
       "      <th>27602</th>\n",
       "      <td>1092574678</td>\n",
       "      <td>Pixelate Film Festival 2014</td>\n",
       "      <td>Film &amp; Video</td>\n",
       "      <td>Film &amp; Video</td>\n",
       "      <td>2014-05-07 13:37:16</td>\n",
       "      <td>1500.0</td>\n",
       "      <td>2014-04-09 13:37:16</td>\n",
       "      <td>undefined</td>\n",
       "      <td>0</td>\n",
       "      <td>N,\"0</td>\n",
       "      <td>0.0</td>\n",
       "      <td>GBP</td>\n",
       "      <td>1552.00</td>\n",
       "    </tr>\n",
       "    <tr>\n",
       "      <th>27755</th>\n",
       "      <td>1061706792</td>\n",
       "      <td>Zombie Shuffle feature film</td>\n",
       "      <td>Film &amp; Video</td>\n",
       "      <td>Film &amp; Video</td>\n",
       "      <td>2014-05-12 05:59:00</td>\n",
       "      <td>5000.0</td>\n",
       "      <td>2014-04-09 16:12:49</td>\n",
       "      <td>undefined</td>\n",
       "      <td>0</td>\n",
       "      <td>N,\"0</td>\n",
       "      <td>0.0</td>\n",
       "      <td>USD</td>\n",
       "      <td>5305.00</td>\n",
       "    </tr>\n",
       "  </tbody>\n",
       "</table>\n",
       "</div>"
      ],
      "text/plain": [
       "               id  ...  pledged\n",
       "9490   1189637889  ...  2621.00\n",
       "15111  1244477824  ...   500.00\n",
       "17484  1084993156  ...  4593.00\n",
       "17532  1379649454  ...  5250.00\n",
       "27334  1349042579  ...  6168.00\n",
       "27443  1205956740  ...  1042.00\n",
       "27522  1125500286  ...  3225.00\n",
       "27574  1292835145  ...  3032.88\n",
       "27602  1092574678  ...  1552.00\n",
       "27755  1061706792  ...  5305.00\n",
       "\n",
       "[10 rows x 13 columns]"
      ]
     },
     "execution_count": 17,
     "metadata": {
      "tags": []
     },
     "output_type": "execute_result"
    }
   ],
   "source": [
    "zero_filled = null_rows.fillna(0)\n",
    "zero_filled.head(10)"
   ]
  },
  {
   "cell_type": "markdown",
   "metadata": {
    "colab_type": "text",
    "id": "40UGvWPGEjVh"
   },
   "source": [
    "But in this case, you would prefer to drop all the rows with `NaN`. So instead, use the `dropna()` method."
   ]
  },
  {
   "cell_type": "code",
   "execution_count": 18,
   "metadata": {
    "colab": {
     "base_uri": "https://localhost:8080/",
     "height": 0
    },
    "colab_type": "code",
    "id": "h6IWrNMfEtKq",
    "outputId": "07770aa0-4442-4957-cbce-776056e96cf6"
   },
   "outputs": [
    {
     "name": "stdout",
     "output_type": "stream",
     "text": [
      "850434\n",
      "840749\n"
     ]
    }
   ],
   "source": [
    "# Print the original size of the DataFrame\n",
    "print(projects_df.size)\n",
    "\n",
    "# Drop `NaN` rows\n",
    "clean_projects = projects_df.dropna()\n",
    "\n",
    "# Print the size of the modified DataFrame\n",
    "print(clean_projects.size)"
   ]
  },
  {
   "cell_type": "markdown",
   "metadata": {
    "colab_type": "text",
    "id": "-lMUBMZ9FakH"
   },
   "source": [
    "## Statistics\n",
    "\n",
    "Now that you have a clean DataFrame and you understand some of the categorical data better, turn your attention to the numerical columns. Typically, you want to determine the range of values and the type of distribution of the numbers. Pandas has a few methods to perform many of these tasks on a Series.\n",
    "\n",
    "You could write a simple function that will print these details for a given Series."
   ]
  },
  {
   "cell_type": "code",
   "execution_count": 0,
   "metadata": {
    "colab": {},
    "colab_type": "code",
    "collapsed": true,
    "id": "iFpX1jQaGLaG"
   },
   "outputs": [],
   "source": [
    "def series_statistics(column):\n",
    "  print('statistics for column: {}'.format(column.name))\n",
    "  print('The max value in the column: {}'.format(column.max()))\n",
    "  print('The min value in the column: {}'.format(column.min()))\n",
    "  print('The mode value in the column: {}'.format(column.mode()))\n",
    "  print('The median value in the column: {}'.format(column.median()))\n",
    "  print('The mean of the column: {}'.format(column.mean()))\n",
    "  print('The std of the column: {}'.format(column.std()))"
   ]
  },
  {
   "cell_type": "code",
   "execution_count": 20,
   "metadata": {
    "colab": {
     "base_uri": "https://localhost:8080/",
     "height": 0
    },
    "colab_type": "code",
    "id": "6EmVZB8mGhCp",
    "outputId": "5074d229-1d12-4f98-90b0-f629b47d48e7"
   },
   "outputs": [
    {
     "name": "stdout",
     "output_type": "stream",
     "text": [
      "statistics for column: goal\n",
      "The max value in the column: 100000000.0\n",
      "The min value in the column: 1.0\n",
      "The mode value in the column: 0    5000.0\n",
      "dtype: float64\n",
      "The median value in the column: 5000.0\n",
      "The mean of the column: 42094.83745674393\n",
      "The std of the column: 1033205.2738987174\n"
     ]
    }
   ],
   "source": [
    "series_statistics(clean_projects['goal'])"
   ]
  },
  {
   "cell_type": "code",
   "execution_count": 21,
   "metadata": {
    "colab": {
     "base_uri": "https://localhost:8080/",
     "height": 0
    },
    "colab_type": "code",
    "id": "i4zY3VEVISaP",
    "outputId": "2c40527c-b67e-467a-c289-897e9f70263c"
   },
   "outputs": [
    {
     "name": "stdout",
     "output_type": "stream",
     "text": [
      "statistics for column: usd_pledged\n",
      "The max value in the column: 8596480.0\n",
      "The min value in the column: 0.0\n",
      "The mode value in the column: 0    0.0\n",
      "dtype: float64\n",
      "The median value in the column: 542.0\n",
      "The mean of the column: 7900.242114883215\n",
      "The std of the column: 72783.34386006395\n"
     ]
    }
   ],
   "source": [
    "series_statistics(clean_projects['usd_pledged'])"
   ]
  },
  {
   "cell_type": "markdown",
   "metadata": {
    "colab_type": "text",
    "id": "3QOZHTJ7Ipb9"
   },
   "source": [
    "Because these values are so commonly needed, there is a special function named `describe()` that automatically calculates them all for you, including the interquartile ranges."
   ]
  },
  {
   "cell_type": "code",
   "execution_count": 22,
   "metadata": {
    "colab": {
     "base_uri": "https://localhost:8080/",
     "height": 0
    },
    "colab_type": "code",
    "id": "DnHEuSstJAfU",
    "outputId": "cf3d0edb-8fe9-4b70-c2f8-509ec0c33a3b"
   },
   "outputs": [
    {
     "data": {
      "text/plain": [
       "count    6.467300e+04\n",
       "mean     4.209484e+04\n",
       "std      1.033205e+06\n",
       "min      1.000000e+00\n",
       "25%      2.000000e+03\n",
       "50%      5.000000e+03\n",
       "75%      1.500000e+04\n",
       "max      1.000000e+08\n",
       "Name: goal, dtype: float64"
      ]
     },
     "execution_count": 22,
     "metadata": {
      "tags": []
     },
     "output_type": "execute_result"
    }
   ],
   "source": [
    "clean_projects['goal'].describe()"
   ]
  },
  {
   "cell_type": "code",
   "execution_count": 23,
   "metadata": {
    "colab": {
     "base_uri": "https://localhost:8080/",
     "height": 0
    },
    "colab_type": "code",
    "id": "p_MtMmJaJO9l",
    "outputId": "0fe11589-6725-406b-fd97-82a2a304f8de"
   },
   "outputs": [
    {
     "data": {
      "text/plain": [
       "count    6.467300e+04\n",
       "mean     7.900242e+03\n",
       "std      7.278334e+04\n",
       "min      0.000000e+00\n",
       "25%      2.500000e+01\n",
       "50%      5.420000e+02\n",
       "75%      3.608380e+03\n",
       "max      8.596480e+06\n",
       "Name: usd_pledged, dtype: float64"
      ]
     },
     "execution_count": 23,
     "metadata": {
      "tags": []
     },
     "output_type": "execute_result"
    }
   ],
   "source": [
    "clean_projects['usd_pledged'].describe()"
   ]
  },
  {
   "cell_type": "markdown",
   "metadata": {
    "colab_type": "text",
    "id": "pRxIzxhkJq4U"
   },
   "source": [
    "In fact, the `describe()` method may be applied to an entire DataFrame. All numeric columns in the DataFrame will be analyzed."
   ]
  },
  {
   "cell_type": "code",
   "execution_count": 24,
   "metadata": {
    "colab": {
     "base_uri": "https://localhost:8080/",
     "height": 0
    },
    "colab_type": "code",
    "id": "WujbShv6J7fZ",
    "outputId": "de5a22be-3fea-4868-8c56-7cef6b3ab287"
   },
   "outputs": [
    {
     "data": {
      "text/html": [
       "<div>\n",
       "<style scoped>\n",
       "    .dataframe tbody tr th:only-of-type {\n",
       "        vertical-align: middle;\n",
       "    }\n",
       "\n",
       "    .dataframe tbody tr th {\n",
       "        vertical-align: top;\n",
       "    }\n",
       "\n",
       "    .dataframe thead th {\n",
       "        text-align: right;\n",
       "    }\n",
       "</style>\n",
       "<table border=\"1\" class=\"dataframe\">\n",
       "  <thead>\n",
       "    <tr style=\"text-align: right;\">\n",
       "      <th></th>\n",
       "      <th>goal</th>\n",
       "      <th>usd_pledged</th>\n",
       "      <th>backers</th>\n",
       "    </tr>\n",
       "  </thead>\n",
       "  <tbody>\n",
       "    <tr>\n",
       "      <th>count</th>\n",
       "      <td>6.467300e+04</td>\n",
       "      <td>6.467300e+04</td>\n",
       "      <td>64673.000000</td>\n",
       "    </tr>\n",
       "    <tr>\n",
       "      <th>mean</th>\n",
       "      <td>4.209484e+04</td>\n",
       "      <td>7.900242e+03</td>\n",
       "      <td>104.336091</td>\n",
       "    </tr>\n",
       "    <tr>\n",
       "      <th>std</th>\n",
       "      <td>1.033205e+06</td>\n",
       "      <td>7.278334e+04</td>\n",
       "      <td>994.725411</td>\n",
       "    </tr>\n",
       "    <tr>\n",
       "      <th>min</th>\n",
       "      <td>1.000000e+00</td>\n",
       "      <td>0.000000e+00</td>\n",
       "      <td>0.000000</td>\n",
       "    </tr>\n",
       "    <tr>\n",
       "      <th>25%</th>\n",
       "      <td>2.000000e+03</td>\n",
       "      <td>2.500000e+01</td>\n",
       "      <td>2.000000</td>\n",
       "    </tr>\n",
       "    <tr>\n",
       "      <th>50%</th>\n",
       "      <td>5.000000e+03</td>\n",
       "      <td>5.420000e+02</td>\n",
       "      <td>13.000000</td>\n",
       "    </tr>\n",
       "    <tr>\n",
       "      <th>75%</th>\n",
       "      <td>1.500000e+04</td>\n",
       "      <td>3.608380e+03</td>\n",
       "      <td>56.000000</td>\n",
       "    </tr>\n",
       "    <tr>\n",
       "      <th>max</th>\n",
       "      <td>1.000000e+08</td>\n",
       "      <td>8.596480e+06</td>\n",
       "      <td>154926.000000</td>\n",
       "    </tr>\n",
       "  </tbody>\n",
       "</table>\n",
       "</div>"
      ],
      "text/plain": [
       "               goal   usd_pledged        backers\n",
       "count  6.467300e+04  6.467300e+04   64673.000000\n",
       "mean   4.209484e+04  7.900242e+03     104.336091\n",
       "std    1.033205e+06  7.278334e+04     994.725411\n",
       "min    1.000000e+00  0.000000e+00       0.000000\n",
       "25%    2.000000e+03  2.500000e+01       2.000000\n",
       "50%    5.000000e+03  5.420000e+02      13.000000\n",
       "75%    1.500000e+04  3.608380e+03      56.000000\n",
       "max    1.000000e+08  8.596480e+06  154926.000000"
      ]
     },
     "execution_count": 24,
     "metadata": {
      "tags": []
     },
     "output_type": "execute_result"
    }
   ],
   "source": [
    "clean_projects[['goal', 'usd_pledged', 'backers']].describe()"
   ]
  },
  {
   "cell_type": "markdown",
   "metadata": {
    "colab_type": "text",
    "id": "m6bgfHA0KS3A"
   },
   "source": [
    "## Correlations\n",
    "\n",
    "Sometimes, it's useful to examine if there are correlations between columns. That is, is there a linear relationship between two columns? To perform such a test, use the `corr()` method. This method calculates the *Pearson correlation coefficient* between the two columns. This coefficient is a number between `-1` and `1`. A `1` means that a strong relationship exists, a `-1` means that a strong negative relationship exists, and a `0` means that there is no relationship at all."
   ]
  },
  {
   "cell_type": "code",
   "execution_count": 25,
   "metadata": {
    "colab": {
     "base_uri": "https://localhost:8080/",
     "height": 0
    },
    "colab_type": "code",
    "id": "h6yD54BiK7KS",
    "outputId": "91f80cac-4047-4ca0-fee7-1b5146805139"
   },
   "outputs": [
    {
     "data": {
      "text/plain": [
       "0.006423740131433384"
      ]
     },
     "execution_count": 25,
     "metadata": {
      "tags": []
     },
     "output_type": "execute_result"
    }
   ],
   "source": [
    "clean_projects['goal'].corr(clean_projects['usd_pledged'])"
   ]
  },
  {
   "cell_type": "markdown",
   "metadata": {
    "colab_type": "text",
    "id": "fU4pdYuLL9ym"
   },
   "source": [
    "This value is close to `0`, which implies that there is no relationship between the goal and the amount pledged. Are there relationships between the other fields? You can apply this method to the entire DataFrame."
   ]
  },
  {
   "cell_type": "code",
   "execution_count": 26,
   "metadata": {
    "colab": {
     "base_uri": "https://localhost:8080/",
     "height": 0
    },
    "colab_type": "code",
    "id": "550pMNvxMPxV",
    "outputId": "cef66319-f7e1-4569-babc-6ba466e93988"
   },
   "outputs": [
    {
     "data": {
      "text/html": [
       "<div>\n",
       "<style scoped>\n",
       "    .dataframe tbody tr th:only-of-type {\n",
       "        vertical-align: middle;\n",
       "    }\n",
       "\n",
       "    .dataframe tbody tr th {\n",
       "        vertical-align: top;\n",
       "    }\n",
       "\n",
       "    .dataframe thead th {\n",
       "        text-align: right;\n",
       "    }\n",
       "</style>\n",
       "<table border=\"1\" class=\"dataframe\">\n",
       "  <thead>\n",
       "    <tr style=\"text-align: right;\">\n",
       "      <th></th>\n",
       "      <th>goal</th>\n",
       "      <th>usd_pledged</th>\n",
       "      <th>backers</th>\n",
       "    </tr>\n",
       "  </thead>\n",
       "  <tbody>\n",
       "    <tr>\n",
       "      <th>goal</th>\n",
       "      <td>1.000000</td>\n",
       "      <td>0.006424</td>\n",
       "      <td>0.003033</td>\n",
       "    </tr>\n",
       "    <tr>\n",
       "      <th>usd_pledged</th>\n",
       "      <td>0.006424</td>\n",
       "      <td>1.000000</td>\n",
       "      <td>0.569047</td>\n",
       "    </tr>\n",
       "    <tr>\n",
       "      <th>backers</th>\n",
       "      <td>0.003033</td>\n",
       "      <td>0.569047</td>\n",
       "      <td>1.000000</td>\n",
       "    </tr>\n",
       "  </tbody>\n",
       "</table>\n",
       "</div>"
      ],
      "text/plain": [
       "                 goal  usd_pledged   backers\n",
       "goal         1.000000     0.006424  0.003033\n",
       "usd_pledged  0.006424     1.000000  0.569047\n",
       "backers      0.003033     0.569047  1.000000"
      ]
     },
     "execution_count": 26,
     "metadata": {
      "tags": []
     },
     "output_type": "execute_result"
    }
   ],
   "source": [
    "clean_projects[['goal', 'usd_pledged', 'backers']].corr()"
   ]
  },
  {
   "cell_type": "markdown",
   "metadata": {
    "colab_type": "text",
    "id": "qrCS_2wFMZRs"
   },
   "source": [
    "From this table, you can see that the correlation coefficient between the USD pledged and the number of backers is `0.57`, which implies that there is some positive correlation between these two columns, but not between any of the other columns. This bears out as you might expect: as the number of backers increases, the amount pledged will also increase. Sometimes, though, the results can be surprising."
   ]
  },
  {
   "cell_type": "markdown",
   "metadata": {},
   "source": [
    "## Statistical testing \n",
    "\n",
    "The following sections will be a demonstration of testing for statistical significance in Python. If you are unfamiliar with this concept, don't worry; it will be covered later in the program, and you'll also learn how to perform these tests in Python."
   ]
  },
  {
   "cell_type": "markdown",
   "metadata": {
    "colab_type": "text",
    "id": "6r_GRLCiPSva"
   },
   "source": [
    "### Statistical significance of correlations\n",
    "\n",
    "It is possible to test for statistical significance of a correlation—but not in pandas. Instead, you will use the excellent [SciPy](https://docs.scipy.org/doc/scipy/reference/index.html) library for scientific computing. This library has a tremendous number of built-in statistical functions.\n",
    "\n",
    "To conduct a Pearson correlation test, use the `stats.pearsonr()` method. Here, you are testing the likelihood of this linear relationship existing in the overall population:"
   ]
  },
  {
   "cell_type": "code",
   "execution_count": 27,
   "metadata": {
    "colab": {
     "base_uri": "https://localhost:8080/",
     "height": 0
    },
    "colab_type": "code",
    "id": "v8U-nLLMPSvb",
    "outputId": "c82467bf-d29e-435e-d5bc-132f78a4e3c3"
   },
   "outputs": [
    {
     "data": {
      "text/plain": [
       "(0.5690472468189988, 0.0)"
      ]
     },
     "execution_count": 27,
     "metadata": {
      "tags": []
     },
     "output_type": "execute_result"
    }
   ],
   "source": [
    "stats.pearsonr(clean_projects['backers'], clean_projects['usd_pledged'])"
   ]
  },
  {
   "cell_type": "markdown",
   "metadata": {
    "colab_type": "text",
    "id": "ukb6QQgEPSvd"
   },
   "source": [
    "This method returns two outputs: the correlation of `0.569` (which you saw before in pandas) and the p-value. In this case, the p-value is so small that SciPy rounded it to `0.0`. From this, you can expect a significant correlation between these two variables to generalize out to the population.\n",
    "\n",
    "Statistics, however, is all about probability, so you will never know for sure that this relationship will be found in the population. That's why, when presenting a p-value in a written document or slides, it's common to format a very low p-value as `<0.05` or `<0.005` instead of `0.0`."
   ]
  },
  {
   "cell_type": "markdown",
   "metadata": {
    "colab_type": "text",
    "id": "Y3em3VNjLC5b"
   },
   "source": [
    "## Independent-samples t-test\n",
    "\n",
    "You will be learning about the t-test in much greater depth in an upcoming module. However, it is worth doing some basic exploration in Python to see how some of it works. Suppose that you wanted to find out if baseball salaries changed between 1990 and 2000. You could start by gathering data about the salaries of players in 1990 and 2000. It is reasonable to assume that some players in 1990 would make more than some players in 2000, and vice versa. Simply using the averages is subject to too many variables, and that is where the independent-samples t-test comes in.\n",
    "\n",
    "You will use the SciPy library for this as well. \n",
    "\n",
    "Now, load up a DataFrame with the data."
   ]
  },
  {
   "cell_type": "code",
   "execution_count": 0,
   "metadata": {
    "colab": {},
    "colab_type": "code",
    "collapsed": true,
    "id": "45ATX__BSEpr"
   },
   "outputs": [],
   "source": [
    "players_df = pd.read_csv(\"https://tf-assets-prod.s3.amazonaws.com/tf-curric/data-science/players.csv\")"
   ]
  },
  {
   "cell_type": "code",
   "execution_count": 29,
   "metadata": {
    "colab": {
     "base_uri": "https://localhost:8080/",
     "height": 0
    },
    "colab_type": "code",
    "id": "6L4jZjFNi3jR",
    "outputId": "5929461a-6972-453e-9786-5d8067e36c3c"
   },
   "outputs": [
    {
     "name": "stdout",
     "output_type": "stream",
     "text": [
      "<class 'pandas.core.frame.DataFrame'>\n",
      "Int64Index: 867 entries, 3289 to 4155\n",
      "Data columns (total 14 columns):\n",
      "playerid        867 non-null object\n",
      "birthyear       867 non-null int64\n",
      "birthcountry    867 non-null object\n",
      "deathyear       36 non-null float64\n",
      "namefirst       867 non-null object\n",
      "namelast        867 non-null object\n",
      "weight          867 non-null int64\n",
      "height          867 non-null int64\n",
      "bats            867 non-null object\n",
      "throws          867 non-null object\n",
      "yearid          867 non-null int64\n",
      "teamid          867 non-null object\n",
      "lgid            867 non-null object\n",
      "salary          867 non-null int64\n",
      "dtypes: float64(1), int64(5), object(8)\n",
      "memory usage: 101.6+ KB\n"
     ]
    }
   ],
   "source": [
    "players_1990 = players_df.iloc[(players_df['yearid'] == 1990).values]\n",
    "players_1990.info()"
   ]
  },
  {
   "cell_type": "code",
   "execution_count": 30,
   "metadata": {
    "colab": {
     "base_uri": "https://localhost:8080/",
     "height": 0
    },
    "colab_type": "code",
    "id": "EfTPZhTNjC7Z",
    "outputId": "845e58b7-a0c5-40da-95f0-152a3044243d"
   },
   "outputs": [
    {
     "name": "stdout",
     "output_type": "stream",
     "text": [
      "<class 'pandas.core.frame.DataFrame'>\n",
      "Int64Index: 836 entries, 12263 to 13098\n",
      "Data columns (total 14 columns):\n",
      "playerid        836 non-null object\n",
      "birthyear       836 non-null int64\n",
      "birthcountry    836 non-null object\n",
      "deathyear       10 non-null float64\n",
      "namefirst       836 non-null object\n",
      "namelast        836 non-null object\n",
      "weight          836 non-null int64\n",
      "height          836 non-null int64\n",
      "bats            836 non-null object\n",
      "throws          836 non-null object\n",
      "yearid          836 non-null int64\n",
      "teamid          836 non-null object\n",
      "lgid            836 non-null object\n",
      "salary          836 non-null int64\n",
      "dtypes: float64(1), int64(5), object(8)\n",
      "memory usage: 98.0+ KB\n"
     ]
    }
   ],
   "source": [
    "players_2000 = players_df.iloc[(players_df['yearid'] == 2000).values]\n",
    "players_2000.info()"
   ]
  },
  {
   "cell_type": "markdown",
   "metadata": {
    "colab_type": "text",
    "id": "XOhqQ0uyqnqb"
   },
   "source": [
    "You have 867 salaries from 1990 and 836 salaries from 2000. The t-test will compare the means of these two samples and give a value that indicates how different these two means are. \n",
    "\n",
    "The t-test will return a p-value indicating how likely you are to see such a large difference between your two sample means if the two population means are equal. A low p-value means that it is unlikely, meaning that you have a significant result. A high p-value means that it is likely that you would see such a large difference between the sample means, even if there isn't actually a difference in population means. In this case, you reject the null hypothesis that you cannot make meaningful statements about the difference.\n",
    "\n",
    "Use the [`ttest_ind()` function](https://docs.scipy.org/doc/scipy/reference/generated/scipy.stats.ttest_ind.html#scipy.stats.ttest_ind) to perform a t-test for these two samples.\n",
    "\n",
    "The null hypothesis is that there is no difference between these two samples. A low p-value negates this null hypothesis."
   ]
  },
  {
   "cell_type": "code",
   "execution_count": 31,
   "metadata": {
    "colab": {
     "base_uri": "https://localhost:8080/",
     "height": 0
    },
    "colab_type": "code",
    "id": "OtI1Kozrk5Mq",
    "outputId": "16cb718a-e088-4e16-96a4-6902184de55c"
   },
   "outputs": [
    {
     "data": {
      "text/plain": [
       "Ttest_indResult(statistic=-16.90651573407297, pvalue=2.1593870550905857e-59)"
      ]
     },
     "execution_count": 31,
     "metadata": {
      "tags": []
     },
     "output_type": "execute_result"
    }
   ],
   "source": [
    "stats.ttest_ind(players_1990['salary'], players_2000['salary'])"
   ]
  },
  {
   "cell_type": "markdown",
   "metadata": {
    "colab_type": "text",
    "id": "SQbPkt5Aszbq"
   },
   "source": [
    "Note that  the negative t-value is not important; that is, you should just look at the absolute value. The sign of the t-value just indicates the directionality of the relationship between these samples. Try running the test again with the two samples swapped around; you'll see that you get the same value, but positive.\n",
    "\n",
    "There is a difference of `16.9` standard deviations between these two means. But is this just due to random chance, or is that difference significant? The p-value is extremely small, implying that this is a real difference. Baseball salaries changed dramatically between 1990 and 2000."
   ]
  },
  {
   "cell_type": "markdown",
   "metadata": {
    "colab_type": "text",
    "id": "-pPV2RbtPSvr"
   },
   "source": [
    "# Calculating the confidence interval\n",
    "\n",
    "The `scipy.stats` module provides some, but not all, of the results of a t-test. Although `ttest_ind()` *does* provide the test statistic and p-value, it does *not* provide measures of effect size, such as the confidence interval. To do that, you will have to crunch the numbers yourself with the help of pandas.\n",
    "\n",
    "To calculate the confidence interval, take your mean difference plus or minus the *margin of error*, which is calculated as your standard error of the mean difference times the test statistic of `1.96`. The value of `1.96` is based on the fact that 95% of the area of a normal distribution is within 1.96 standard deviations of the mean.\n",
    "\n",
    "Start by calculating the sample size, mean, and variance for each of your two samples. Note that by indexing the results of `.shape`, you can extract just the number of rows from the DataFrame. (The number of columns would be position `[1]`)."
   ]
  },
  {
   "cell_type": "code",
   "execution_count": 0,
   "metadata": {
    "colab": {},
    "colab_type": "code",
    "collapsed": true,
    "id": "v9J8S-U6PSvr"
   },
   "outputs": [],
   "source": [
    "# Calculate the sample size, mean, and variance of each sample\n",
    "# You will need this information to calculate standard errors\n",
    "\n",
    "sample_1_n = players_1990.shape[0]\n",
    "sample_2_n = players_2000.shape[0]\n",
    "sample_1_mean = players_1990['salary'].mean()\n",
    "sample_2_mean = players_2000['salary'].mean()\n",
    "sample_1_var = players_1990['salary'].var()\n",
    "sample_2_var = players_2000['salary'].var()"
   ]
  },
  {
   "cell_type": "markdown",
   "metadata": {
    "colab_type": "text",
    "id": "lC3A0grUPSvt"
   },
   "source": [
    "The next step requires taking a square root. To do that, you can import the `math` module. From there, you can estimate the lower and upper bounds of the confidence interval."
   ]
  },
  {
   "cell_type": "code",
   "execution_count": 33,
   "metadata": {
    "colab": {
     "base_uri": "https://localhost:8080/",
     "height": 34
    },
    "colab_type": "code",
    "id": "wBIFCAAEPSvu",
    "outputId": "921b7dd2-8661-4769-f944-cde24dbc19c0"
   },
   "outputs": [
    {
     "name": "stdout",
     "output_type": "stream",
     "text": [
      "The difference in means at the 95% confidence interval is between 1306451.096390415 and 1655570.6584535995.\n"
     ]
    }
   ],
   "source": [
    "# Calculate the standard error and compute the confidence intervals\n",
    "\n",
    "import math\n",
    "std_err_difference = math.sqrt((sample_1_var/sample_1_n)+(sample_2_var/sample_2_n))\n",
    "\n",
    "mean_difference = sample_2_mean - sample_1_mean\n",
    "\n",
    "margin_of_error = 1.96 * std_err_difference\n",
    "ci_lower = mean_difference - margin_of_error\n",
    "ci_upper = mean_difference + margin_of_error\n",
    "\n",
    "print(\"The difference in means at the 95% confidence interval is between \"+str(ci_lower)+\" and \"+str(ci_upper)+\".\")"
   ]
  },
  {
   "cell_type": "markdown",
   "metadata": {
    "colab_type": "text",
    "id": "Ahwle1CBPSvv"
   },
   "source": [
    "Whew! That was a lot of number-crunching! As with anything in Python, it's a good idea to write a function for a task that you expect to repeat. And considering that the [American Statistical Association](https://amstat.tandfonline.com/doi/full/10.1080/00031305.2016.1154108#.XQmJhcTPyPo) stated that \"a p-value ... does not measure the size of an effect or the importance of a result,\" you most certainly will be estimating the confidence interval early and often! So here is the new function, `get_95_ci()`:"
   ]
  },
  {
   "cell_type": "code",
   "execution_count": 34,
   "metadata": {
    "colab": {
     "base_uri": "https://localhost:8080/",
     "height": 34
    },
    "colab_type": "code",
    "id": "KIC5Y9LXPSvw",
    "outputId": "a075f886-59cd-4c95-9d5e-c5b2269908d7"
   },
   "outputs": [
    {
     "data": {
      "text/plain": [
       "'The difference in means at the 95% confidence interval (two-tail) is between 1306451.096390415 and 1655570.6584535995.'"
      ]
     },
     "execution_count": 34,
     "metadata": {
      "tags": []
     },
     "output_type": "execute_result"
    }
   ],
   "source": [
    "def get_95_ci(array_1, array_2):\n",
    "    sample_1_n = array_1.shape[0]\n",
    "    sample_2_n = array_2.shape[0]\n",
    "    sample_1_mean = array_1.mean()\n",
    "    sample_2_mean = array_2.mean()\n",
    "    sample_1_var = array_1.var()\n",
    "    sample_2_var = array_2.var()\n",
    "    mean_difference = sample_2_mean - sample_1_mean\n",
    "    std_err_difference = math.sqrt((sample_1_var/sample_1_n)+(sample_2_var/sample_2_n))\n",
    "    margin_of_error = 1.96 * std_err_difference\n",
    "    ci_lower = mean_difference - margin_of_error\n",
    "    ci_upper = mean_difference + margin_of_error\n",
    "    return(\"The difference in means at the 95% confidence interval (two-tail) is between \"+str(ci_lower)+\" and \"+str(ci_upper)+\".\")\n",
    "\n",
    "get_95_ci(players_1990['salary'],players_2000['salary'])"
   ]
  },
  {
   "cell_type": "markdown",
   "metadata": {
    "colab_type": "text",
    "id": "1iYvDvYjPSvy"
   },
   "source": [
    "Using the confidence interval, you can quantify the difference between 2000 and 1990 as likely being between \\\\$1.30 million and \\\\$1.65 million—that's a solid effect size!"
   ]
  },
  {
   "cell_type": "code",
   "execution_count": null,
   "metadata": {},
   "outputs": [],
   "source": []
  }
 ],
 "metadata": {
  "colab": {
   "name": "Copy of python-descriptive-statistics-09182019.ipynb",
   "provenance": []
  },
  "kernelspec": {
   "display_name": "Python 3 (ipykernel)",
   "language": "python",
   "name": "python3"
  },
  "language_info": {
   "codemirror_mode": {
    "name": "ipython",
    "version": 3
   },
   "file_extension": ".py",
   "mimetype": "text/x-python",
   "name": "python",
   "nbconvert_exporter": "python",
   "pygments_lexer": "ipython3",
   "version": "3.9.10"
  }
 },
 "nbformat": 4,
 "nbformat_minor": 1
}
