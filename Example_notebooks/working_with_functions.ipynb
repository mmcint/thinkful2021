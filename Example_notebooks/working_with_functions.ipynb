{
 "cells": [
  {
   "cell_type": "markdown",
   "metadata": {},
   "source": [
    "## Built-in functions\n",
    "\n",
    "Now, look at an example: Python's built-in [`print()`](https://docs.python.org/3.5/library/functions.html#print) function. You've already seen this function several times in previous code examples.\n",
    "\n",
    "Run the code in the cell below."
   ]
  },
  {
   "cell_type": "code",
   "execution_count": 1,
   "metadata": {},
   "outputs": [
    {
     "name": "stdout",
     "output_type": "stream",
     "text": [
      "Hello, world\n"
     ]
    }
   ],
   "source": [
    "# Start by printing a classic message.\n",
    "print(\"Hello, world\")\n",
    "\n",
    "# Now, go ahead and edit the argument passed in to to `print()` above\n",
    "# to see how the function output changes when you change the input\n",
    "# that you give it."
   ]
  },
  {
   "cell_type": "markdown",
   "metadata": {},
   "source": [
    "The `print()` function above has one *argument*, or value that is passed into the function: the string `\"Hello, world\"`. In the context of functions, an argument (or *parameter*) is a value that gets passed to the function and that the instructions inside the function have access to.\n",
    "\n",
    "\n",
    "## Defining and executing functions\n",
    "\n",
    "There are two distinct moments to consider when working with functions: when you initially *define* a function and when you *execute*, or *call*, a function that has already been defined.\n",
    "\n",
    "### Function definitions\n",
    "\n",
    "Consider the following function definition, and compare it to the usage in the subsequent cell. "
   ]
  },
  {
   "cell_type": "code",
   "execution_count": 2,
   "metadata": {
    "collapsed": true
   },
   "outputs": [],
   "source": [
    "def times_two(num):\n",
    "    return num * 2"
   ]
  },
  {
   "cell_type": "code",
   "execution_count": 3,
   "metadata": {},
   "outputs": [
    {
     "data": {
      "text/plain": [
       "10"
      ]
     },
     "execution_count": 3,
     "metadata": {},
     "output_type": "execute_result"
    }
   ],
   "source": [
    "times_two(5)"
   ]
  },
  {
   "cell_type": "markdown",
   "metadata": {},
   "source": [
    "The `def` keyword signifies that a function is about to be defined. Next comes the function name (in this case, `times_two`). This name gives you a way to refer back to the function later.\n",
    "\n",
    "Next is the function's *parameter list*, which are the parameters the function will expect to be passed inside to the main body of the function when the function is called. The parameter list is zero or more parameters surrounded by parentheses (`(` `)`). In this case, you're passing in a single parameter: `num`.\n",
    "\n",
    "After the parameter list is the colon (`:`) character, which tells the Python interpreter that you're about to provide the lines of code that make up the main body of the function. In this example, the body is just one line of code: `return num * 2`.\n",
    "\n",
    "Note that the function body is indented. This indentation gives a visual cue for which code is inside the function body and which code is outside the function. This style of indentation is best practice in most programming languages because it makes programs easier to read. And in Python, indentation isn't just a good idea—it's the law. In Python, indentation has semantic meaning. The code below, which is identical to the example above, raises a syntax error because the Python interpreter is expecting to see an indented block of code but doesn't see one:"
   ]
  },
  {
   "cell_type": "code",
   "execution_count": 4,
   "metadata": {},
   "outputs": [
    {
     "ename": "IndentationError",
     "evalue": "expected an indented block (<ipython-input-4-12b82ff6f8a3>, line 2)",
     "output_type": "error",
     "traceback": [
      "\u001b[0;36m  File \u001b[0;32m\"<ipython-input-4-12b82ff6f8a3>\"\u001b[0;36m, line \u001b[0;32m2\u001b[0m\n\u001b[0;31m    return num * 2\u001b[0m\n\u001b[0m         ^\u001b[0m\n\u001b[0;31mIndentationError\u001b[0m\u001b[0;31m:\u001b[0m expected an indented block\n"
     ]
    }
   ],
   "source": [
    "def times_two(num):\n",
    "return num * 2"
   ]
  },
  {
   "cell_type": "markdown",
   "metadata": {},
   "source": [
    "As you can see, Python _enforces_ proper indentation. If your indentation is off, it will complain, and your code won't execute.\n",
    "\n",
    "Finally, the function body includes a `return` statement, which tells the function what value to output, or *return*, to the part of the program that eventually executes the function. The `return` keyword starts the `return` statement, followed by the value that you'd like to return.\n",
    "\n",
    "The `return` statement tells your function that its job is done, and it will end the execution of the instructions in your function body. That means that any code coming after your `return` statement inside the function body won't be executed."
   ]
  },
  {
   "cell_type": "code",
   "execution_count": null,
   "metadata": {
    "collapsed": true
   },
   "outputs": [],
   "source": [
    "# Here, you define a function and include code in the function body\n",
    "# after the `return` statement. That code won't be executed when\n",
    "# the function is called.\n",
    "\n",
    "def triple(num):\n",
    "    print(\"Starting to execute the function body.\")\n",
    "    return num * 3\n",
    "    print(\"Is this line executed?\")\n",
    "    \n",
    "# Once you've defined a function, you can go ahead and execute it.\n",
    "triple(5)\n",
    "\n",
    "# What happens if you swap lines 7 and 8 above?\n",
    "\n",
    "# Line 11 above doesn't actually do anything with the function's\n",
    "# return value. But you can actually put the function to good use by\n",
    "# storing its return value in a variable.\n",
    "meaning_of_life = triple(14)\n",
    "\n",
    "print(meaning_of_life)"
   ]
  },
  {
   "cell_type": "markdown",
   "metadata": {},
   "source": [
    "### Calling functions\n",
    "\n",
    "Once you've defined a function, you have a named block of code that you can execute when you *call* the function by name. To call a function, write out its name followed by parentheses (`(` `)`) containing the argument or arguments that you want to pass in. The example above calls the `triple()` function on line 11 with `triple(5)`, after having defined this function earlier on lines 6-9. Now, take a look at a larger function with more going on inside."
   ]
  },
  {
   "cell_type": "code",
   "execution_count": null,
   "metadata": {
    "collapsed": true
   },
   "outputs": [],
   "source": [
    "# Here's a function that calculates and returns the variance of\n",
    "# a list of numbers. There's a lot going on here. Don't sweat the\n",
    "# details.\n",
    "\n",
    "def variance(numbers):\n",
    "    length = len(numbers)\n",
    "    mean = sum(numbers) / length\n",
    "    square_differences_from_mean = []\n",
    "    for number in numbers:\n",
    "        square_differences_from_mean.append((number - mean) ** 2)\n",
    "    sum_of_square_differences = sum(square_differences_from_mean)\n",
    "    variance = sum_of_square_differences / length\n",
    "    return variance"
   ]
  },
  {
   "cell_type": "markdown",
   "metadata": {},
   "source": [
    "You don't need to understand all the code inside the body of this `variance()` function, but look it over to see how it's creating a list of instructions inside the function definition and then executing those instructions every time that you call the function. You probably wouldn't want to write the code inside this function over and over. That's where functions shine: you can write code once and run it as many times as you like simply by calling the function.\n",
    "\n",
    "\n",
    "## A note about programming versus mathematics\n",
    "\n",
    "The `print()` function demonstrates a key difference between functions in programming and functions in math. In math, a function is a way to map each input onto a single output. The math function `f(x) = 2x`, for example, maps the input `3` onto the output `6` and the input `1337` onto the output `2674`. Python functions, however, are a defined set of instructions that you can call and execute. You _can_ write that set of instructions to behave like a math function and map arguments onto a return value, but that isn't necessary. In fact, Python functions don't even need to have input or output values at all. The `print()` function is an example: it displays a message to you but doesn't return any value at all.\n",
    "\n",
    "In programming, functions that have this mathematical property of mapping arguments onto exactly one return value are called *determinate* functions. In general, well-crafted Python functions are determinate."
   ]
  },
  {
   "cell_type": "code",
   "execution_count": 5,
   "metadata": {},
   "outputs": [
    {
     "name": "stdout",
     "output_type": "stream",
     "text": [
      "12\n",
      "1300\n",
      "26\n"
     ]
    }
   ],
   "source": [
    "# Here is an example of a determinate function. It takes an input\n",
    "# and maps it onto a single return value. Every time you call this\n",
    "# function with the same input, you'll get the same output.\n",
    "\n",
    "def double(num):\n",
    "    return num * 2\n",
    "    \n",
    "print(double(6))\n",
    "\n",
    "# Here is an example of a function that isn't determinate. It\n",
    "# looks at data beyond the argument passed in and outputs a\n",
    "# different value depending on what's happening with an unrelated\n",
    "# variable. \n",
    "secret_number = 100\n",
    "def multiply_by_secret(num):\n",
    "    return num * secret_number\n",
    "\n",
    "# Here, you'll call and print `multiply_by_secret`.\n",
    "print(multiply_by_secret(13))\n",
    "\n",
    "# Here, you'll call it again but first change the value of\n",
    "# `secret_number`. Note how line 19 and line 25 are identical but\n",
    "# produce different outputs.\n",
    "secret_number = 2\n",
    "print(multiply_by_secret(13))\n",
    "\n",
    "# Functions like this that can return a different value when\n",
    "# called with the same argument are not determinate functions."
   ]
  },
  {
   "cell_type": "markdown",
   "metadata": {},
   "source": [
    "Using determinate functions makes your code easier to reason through, because you don't need to keep the state of the rest of your program in mind in order to know how the function will act. In the example above, you have to know (or find out) what the value of `secret_number` is before you can predict how your code will act.\n",
    "\n",
    "Speaking of state, if the state of your program affecting the output of your function means that your function isn't determinate, what about the reverse case where your _function_ affects the _state_ of your program? In math, that isn't possible; but since Python functions are just a collection of instructions, it _is_ possible to modify the state of your program. A function that modifies the state of your program is said to have *side effects*."
   ]
  },
  {
   "cell_type": "code",
   "execution_count": 6,
   "metadata": {},
   "outputs": [
    {
     "name": "stdout",
     "output_type": "stream",
     "text": [
      "0\n",
      "Added 10 new customers\n",
      "Added 3 new customers\n",
      "13\n",
      "42\n"
     ]
    }
   ],
   "source": [
    "# This global variable keeps track of the state of the program.\n",
    "customer_count = 0\n",
    "\n",
    "# This function has a side effect: it changes the state of the\n",
    "# program when it's called. Note that it doesn't even have a real\n",
    "# return value.\n",
    "def add_customers(n):\n",
    "    global customer_count\n",
    "    customer_count = customer_count + n\n",
    "    print(\"Added {} new customers\".format(n))\n",
    "    return None\n",
    "    \n",
    "# First, print the state of your program before changing it.\n",
    "print(customer_count)\n",
    "\n",
    "# Now, call the function and see what happens.\n",
    "add_customers(10)\n",
    "add_customers(3)\n",
    "print(customer_count)\n",
    "\n",
    "# Here is a much better approach.\n",
    "sale_count = 0\n",
    "\n",
    "def add_sale(n, sale_count):\n",
    "    return n + sale_count\n",
    "\n",
    "sale_count = add_sale(40, sale_count)\n",
    "sale_count = add_sale(2, sale_count)\n",
    "print(sale_count)\n",
    "\n",
    "# Stretch goal: Can you think of a way to rewrite the\n",
    "# `add_customers()` function so that it doesn't rely on side\n",
    "# effects and instead makes use of the function's return value?\n",
    "# Hint: You'll also want to change the way that you call the\n",
    "# function once you use it."
   ]
  },
  {
   "cell_type": "markdown",
   "metadata": {},
   "source": [
    "In general, it's better to write your functions so that they don't have unneeded side effects. In fact, Python intentionally makes it difficult to modify variables outside a function's scope (more on *scope* later) by requiring you to explicitly declare you want to do that with the `global` keyword, as in the example above.\n",
    "\n",
    "A Python function that is both determinate _and_ has no side effects works essentially like a function in mathematics. Python functions with both of these properties are called *pure functions*.\n",
    "\n",
    "## Tips for working with functions\n",
    "\n",
    "The name `print()` is well chosen. Just knowing the name of the function gives you a good sense of what it does. As with variables, a well-chosen function name can make clear what might otherwise require multiple lines of comments to explain.\n",
    "\n",
    "Well-crafted functions like `print()` have a single responsibility; they are designed to do one thing and do it well. The sole responsibility of the `print()` function is to display information to the user. When you are writing functions, strive to keep each one as simple and focused as possible. If you have a big function doing lots of different things, it might be time to split your function up into multiple smaller functions."
   ]
  },
  {
   "cell_type": "code",
   "execution_count": null,
   "metadata": {
    "collapsed": true
   },
   "outputs": [],
   "source": []
  }
 ],
 "metadata": {
  "kernelspec": {
   "display_name": "Python 3 (ipykernel)",
   "language": "python",
   "name": "python3"
  },
  "language_info": {
   "codemirror_mode": {
    "name": "ipython",
    "version": 3
   },
   "file_extension": ".py",
   "mimetype": "text/x-python",
   "name": "python",
   "nbconvert_exporter": "python",
   "pygments_lexer": "ipython3",
   "version": "3.9.10"
  }
 },
 "nbformat": 4,
 "nbformat_minor": 2
}
