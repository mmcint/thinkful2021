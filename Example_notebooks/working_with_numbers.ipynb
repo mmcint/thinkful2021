{
 "cells": [
  {
   "cell_type": "markdown",
   "metadata": {},
   "source": [
    "## Numbers in Python\n",
    "\n",
    "In Python, there are two primary data types for representing numbers. *Integers* represent whole numbers like `8`, `42`, and `1337`. And *floats*, or *floating-point numbers*, represent decimal fractions like `3.5`, `0.2`, and `0.6000000000000001`.\n",
    "\n",
    "Python 3 can represent integers up to any size. Floats, however, [are limited](https://docs.python.org/3.5/tutorial/floatingpoint.html) on how precisely they can be represented. Floats in Python are *double-precision* binary floating-point numbers that will represent decimal fractions as precisely as possible with the [52 bits](https://en.wikipedia.org/wiki/Double-precision_floating-point_format#IEEE_754_double-precision_binary_floating-point_format:_binary64). You don't need to know a lot about floating-point errors, except that the imprecision makes math a bad idea when you need precise comparisons:"
   ]
  },
  {
   "cell_type": "code",
   "execution_count": 1,
   "metadata": {},
   "outputs": [
    {
     "data": {
      "text/plain": [
       "False"
      ]
     },
     "execution_count": 1,
     "metadata": {},
     "output_type": "execute_result"
    }
   ],
   "source": [
    "0.2 + 0.4 == 0.6"
   ]
  },
  {
   "cell_type": "markdown",
   "metadata": {},
   "source": [
    "Even if you don't need complete precision, floating-point errors can quickly compound with one another. So be careful when using floats, and know that they have significant limitations.\n",
    "\n",
    "Now, go ahead and play with some numbers. Read through the code below and print out the examples to see what's going on."
   ]
  },
  {
   "cell_type": "code",
   "execution_count": null,
   "metadata": {
    "collapsed": true
   },
   "outputs": [],
   "source": [
    "# You can use Python as a calculator to do arithmetic. Here, Python\n",
    "# is used to do some simple math with numbers and assign the results to\n",
    "# variables.\n",
    "four_plus_two = 4 + 2\n",
    "nine_minus_three = 9 - 3\n",
    "three_times_four = 3 * 4\n",
    "\n",
    "# There are two types of division: true division and\n",
    "# floor division.\n",
    "true_division = 5 / 2\n",
    "floor_division = 5 // 2\n",
    "\n",
    "# Here's the modulo operator % in action to get a remainder.\n",
    "remainder = 5 % 2\n",
    "\n",
    "# One way to do exponentiation is with the ** operator.\n",
    "five_squared = 5 ** 2\n",
    "twenty_seven = 3 ** 3\n",
    "\n",
    "# You can use the built-in `type()` function to see what kind of\n",
    "# data you're dealing with. This is useful when you aren't sure\n",
    "# if you have an int or a float.\n",
    "answer = 40 + 2\n",
    "print(type(answer))\n",
    "\n",
    "score = 6 / 2\n",
    "print(type(score))\n",
    "\n",
    "# Take a few minutes to add `print()` statements throughout to see\n",
    "# what values are being assigned to the variables above. Then\n",
    "# tinker with the numbers to see what happens."
   ]
  },
  {
   "cell_type": "markdown",
   "metadata": {},
   "source": [
    "### Arithmetic operators\n",
    "\n",
    "Ints and floats can be manipulated using the following arithmetic operators:\n",
    "\n",
    "* `+`: Addition\n",
    "* `-`: Subtraction\n",
    "* `*`: Multiplication\n",
    "* `/`: True division\n",
    "* `//`: Floor division\n",
    "* `%`: Remainder (also known as the *modulo* or *modulus* operator)\n",
    "* `**`: Exponentiation\n",
    "\n",
    "If you haven't already, take a minute to tinker around with the examples above to see what's going on.\n",
    "\n",
    "As in algebra, operations can be grouped with parentheses. Python handles order of operations, or [*operator precedence*](https://docs.python.org/3.5/reference/expressions.html#operator-precedence), via *PEMDAS*: parentheses, exponents, multiplication and division, and addition and subtraction."
   ]
  },
  {
   "cell_type": "code",
   "execution_count": 2,
   "metadata": {},
   "outputs": [
    {
     "name": "stdout",
     "output_type": "stream",
     "text": [
      "9.0\n"
     ]
    }
   ],
   "source": [
    "print(6 / 2 * (1 + 2))"
   ]
  },
  {
   "cell_type": "markdown",
   "metadata": {},
   "source": [
    "### Assignment operators\n",
    "\n",
    "It's very common to perform arithmetic with numbers assigned to variables and to then store the _result_ back in the variable. Consider the example below; imagine that you completed a new assignment and want to record that in the appropriate variable:"
   ]
  },
  {
   "cell_type": "code",
   "execution_count": 3,
   "metadata": {},
   "outputs": [
    {
     "name": "stdout",
     "output_type": "stream",
     "text": [
      "10\n"
     ]
    }
   ],
   "source": [
    "assignments_completed = 9\n",
    "assignments_completed = assignments_completed + 1\n",
    "print(assignments_completed)"
   ]
  },
  {
   "cell_type": "markdown",
   "metadata": {},
   "source": [
    "One way to accomplish that is to use the syntax above, where you assign a new value to the variable based on a statement including the current value of that variable. That might seem weird if you're coming from a math background. For instance, a math formula saying `x = x + 1` is just nonsense. So why does it work in programming? Because the `=` operator here is _assigning a value to a variable_, not _comparing one value to another_, as `=` does in math formulas.\n",
    "\n",
    "Reassigning values like this is incredibly common, so Python provides compound assignment operators that will perform an operation and assign the result back to the variable all at once. Here are the assignment operators:\n",
    "\n",
    "* `+=`: Add and assign\n",
    "* `-=`: Subtract and assign\n",
    "* `*=`: Multiply and assign\n",
    "* `/=`: True divide and assign\n",
    "* `//=`: Floor divide and assign\n",
    "* `%=`: Modulo and assign\n",
    "* `**=`: Exponentiate and assign"
   ]
  },
  {
   "cell_type": "code",
   "execution_count": 4,
   "metadata": {
    "collapsed": true
   },
   "outputs": [],
   "source": [
    "# Now, look at some different ways to work with numbers and assign the\n",
    "# results back to a variable. Here are some numbers to start with:\n",
    "score = 99\n",
    "hit_points = 99\n",
    "level = 2\n",
    "\n",
    "# These two methods are equivalent. They both increase the value\n",
    "# assigned to the variable by one.\n",
    "score = score + 1\n",
    "hit_points += 1\n",
    "\n",
    "# Jackpot! Triple your score.\n",
    "score *= 3\n",
    "\n",
    "# Oof, got hit for twenty damage.\n",
    "hit_points -= 20\n",
    "\n",
    "# Advance a level.\n",
    "level += 1\n",
    "\n",
    "# Think about what the values assigned above should be, and insert\n",
    "# `print()` statements at different parts of the program to confirm\n",
    "# your guesses."
   ]
  },
  {
   "cell_type": "markdown",
   "metadata": {},
   "source": [
    "### Comparing numbers\n",
    "\n",
    "Numbers can be compared using the following comparison operators:\n",
    "\n",
    "* `<`: Less than\n",
    "* `<=`: Less than or equal to\n",
    "* `>`: Greater than\n",
    "* `>=`: Greater than or equal to\n",
    "* `==`: Equal\n",
    "* `!=`: Not equal\n",
    "\n",
    "Here are some examples of comparing numbers:"
   ]
  },
  {
   "cell_type": "code",
   "execution_count": 5,
   "metadata": {},
   "outputs": [
    {
     "name": "stdout",
     "output_type": "stream",
     "text": [
      "True\n",
      "True\n",
      "True\n",
      "False\n",
      "True\n",
      "False\n",
      "True\n"
     ]
    }
   ],
   "source": [
    "# Using comparison operators with numbers\n",
    "print(1 < 2)\n",
    "print(1 <= 2)\n",
    "print(2 <= 2)\n",
    "print(3 <= 2)\n",
    "print(1 == 1)\n",
    "print(1 == 2)\n",
    "print(1 != 2)"
   ]
  },
  {
   "cell_type": "markdown",
   "metadata": {},
   "source": [
    "The result of a comparison will be a boolean (`True` or `False`, depending on how the comparison evaluates). Remember that the `==` comparison operator works like the equals sign in math formulas like `2 + 2 = 4`. That math formula is true, and the equivalent Python comparison `2 + 2 == 4` evaluates to `True`.\n",
    "\n",
    "### Built-in math methods\n",
    "\n",
    "You won't explore it here, but you should know that the Python standard library includes a robust `math` module that will give you common functions like `math.floor()` and `math.sqrt()` and constants like `math.pi` and `math.e`. You can read more in the [`math` module docs](https://docs.python.org/3.5/library/math.html)."
   ]
  }
 ],
 "metadata": {
  "kernelspec": {
   "display_name": "Python 3 (ipykernel)",
   "language": "python",
   "name": "python3"
  },
  "language_info": {
   "codemirror_mode": {
    "name": "ipython",
    "version": 3
   },
   "file_extension": ".py",
   "mimetype": "text/x-python",
   "name": "python",
   "nbconvert_exporter": "python",
   "pygments_lexer": "ipython3",
   "version": "3.9.10"
  }
 },
 "nbformat": 4,
 "nbformat_minor": 2
}
