{
 "cells": [
  {
   "cell_type": "markdown",
   "metadata": {},
   "source": [
    "## Lists\n",
    "\n",
    "Lists are used to store a collection of data in an ordered sequence. List items can be of different data types."
   ]
  },
  {
   "cell_type": "code",
   "execution_count": 5,
   "metadata": {},
   "outputs": [
    {
     "data": {
      "text/plain": [
       "['Hello', 42, 3.414, True, None]"
      ]
     },
     "execution_count": 5,
     "metadata": {},
     "output_type": "execute_result"
    }
   ],
   "source": [
    "['Hello', 42, 3.414, True, None]"
   ]
  },
  {
   "cell_type": "markdown",
   "metadata": {},
   "source": [
    "List items can even be other lists, allowing for multidimensional matrices."
   ]
  },
  {
   "cell_type": "code",
   "execution_count": 6,
   "metadata": {},
   "outputs": [
    {
     "data": {
      "text/plain": [
       "[['X', 'O', 'X'], ['O', 'X', '0'], ['X', 'O', 'X']]"
      ]
     },
     "execution_count": 6,
     "metadata": {},
     "output_type": "execute_result"
    }
   ],
   "source": [
    "[['X', 'O', 'X'], ['O', 'X', '0'], ['X', 'O', 'X']]"
   ]
  },
  {
   "cell_type": "markdown",
   "metadata": {},
   "source": [
    "When you're working with vanilla Python and dealing with a problem that involves collections of things, chances are good that you're going to be dealing with lists. These could be collections of email addresses, numeric data, file names, and so forth.\n",
    "\n",
    "### Creating lists\n",
    "\n",
    "To create a list, use square brackets (`[` `]`). Separate items in the list with commas. It's customary to follow each comma with a space. Lists can be created with zero or more elements."
   ]
  },
  {
   "cell_type": "code",
   "execution_count": 8,
   "metadata": {
    "collapsed": true
   },
   "outputs": [],
   "source": [
    "empty_list = []\n",
    "letters = ['a', 'b', 'c', 'd']"
   ]
  },
  {
   "cell_type": "markdown",
   "metadata": {},
   "source": [
    "You can also use `list()` on another iterable such as a string or a *range*—which you'll learn about later—to generate lists:"
   ]
  },
  {
   "cell_type": "code",
   "execution_count": 12,
   "metadata": {},
   "outputs": [
    {
     "name": "stdout",
     "output_type": "stream",
     "text": [
      "['H', 'e', 'l', 'l', 'o']\n",
      "['H', 'e', 'l', 'l', 'o']\n",
      "[0, 1, 2, 3, 4, 5, 6, 7, 8, 9]\n"
     ]
    }
   ],
   "source": [
    "print(list(\"Hello\"))\n",
    "\n",
    "print(['H', 'e', 'l', 'l', 'o'])\n",
    "\n",
    "print(list(range(10)))"
   ]
  },
  {
   "cell_type": "markdown",
   "metadata": {},
   "source": [
    "### Accessing and updating lists\n",
    "\n",
    "List contents are accessed by *index* using bracket notation, just like strings. You can access an item in a list by asking for the item in a given position."
   ]
  },
  {
   "cell_type": "code",
   "execution_count": 13,
   "metadata": {},
   "outputs": [
    {
     "name": "stdout",
     "output_type": "stream",
     "text": [
      "The first thing is 'cats'.\n"
     ]
    }
   ],
   "source": [
    "all_the_things = ['cats', 'dogs', 42, ['pizza', 'beer'], True]\n",
    "first_item = all_the_things[0]\n",
    "print(\"The first thing is '{}'.\".format(first_item))"
   ]
  },
  {
   "cell_type": "markdown",
   "metadata": {},
   "source": [
    "Note in this example that you start counting list items at `0`, just as you do with strings. This may still seem strange, but that's simply the way to count sequences like lists and strings in Python.\n",
    "\n",
    "Similar syntax is used to update an item at a particular index in a list. The code below sets the first element in `all_the_things`:"
   ]
  },
  {
   "cell_type": "code",
   "execution_count": 14,
   "metadata": {},
   "outputs": [
    {
     "name": "stdout",
     "output_type": "stream",
     "text": [
      "bears\n"
     ]
    }
   ],
   "source": [
    "all_the_things = ['cats', 'dogs', 42, ['pizza', 'beer'], True]\n",
    "all_the_things[0] = 'bears'\n",
    "print(all_the_things[0])"
   ]
  },
  {
   "cell_type": "markdown",
   "metadata": {},
   "source": [
    "### Slicing lists\n",
    "\n",
    "Earlier, when you learned about strings, you saw that you could access multiple characters in a string with *slicing*, using bracket notation and two indices separated by a colon (`:`). \n"
   ]
  },
  {
   "cell_type": "code",
   "execution_count": 15,
   "metadata": {},
   "outputs": [
    {
     "name": "stdout",
     "output_type": "stream",
     "text": [
      "Monty\n"
     ]
    }
   ],
   "source": [
    "print('Monty Python'[:5])"
   ]
  },
  {
   "cell_type": "markdown",
   "metadata": {},
   "source": [
    "You can use the same slicing syntax to create a slice of a list:\n"
   ]
  },
  {
   "cell_type": "code",
   "execution_count": 16,
   "metadata": {},
   "outputs": [
    {
     "name": "stdout",
     "output_type": "stream",
     "text": [
      "42\n",
      "[42, 43]\n",
      "[43, 44, 45]\n",
      "[42, 43]\n",
      "[45, 46]\n"
     ]
    }
   ],
   "source": [
    "# The code below creates a list with square brackets.\n",
    "id_numbers = [ 42, 43, 44, 45, 46]\n",
    "\n",
    "# You can access one item in a list at a time using bracket\n",
    "# notation and zero-indexing.\n",
    "print(id_numbers[0])\n",
    "\n",
    "# To access multiple items in a list at a time, create a slice\n",
    "# of the list using bracket notation and two indices.\n",
    "first_two = id_numbers[0:2]\n",
    "middle_three = id_numbers[1:4]\n",
    "\n",
    "print(first_two)\n",
    "print(middle_three)\n",
    "\n",
    "# Just like with string slicing, you can omit one of the index\n",
    "# numbers (or both, if you like to live on the edge) when slicing.\n",
    "# Python will provide reasonable defaults from the beginning\n",
    "# or end of the list.\n",
    "also_first_two = id_numbers[:2]\n",
    "fourth_to_end = id_numbers[3:]\n",
    "\n",
    "print(also_first_two)\n",
    "print(fourth_to_end)"
   ]
  },
  {
   "cell_type": "markdown",
   "metadata": {},
   "source": [
    "Note that slicing doesn't affect the original list. Instead, slicing a list will return a new list representing some or all of the original list.\n",
    "\n",
    "### The built-in `len()` function\n",
    "\n",
    "Python has a built-in [`len()`](https://docs.python.org/3.5/library/functions.html#len) function that will tell you how long a list is by returning the number of items in a list.\n"
   ]
  },
  {
   "cell_type": "code",
   "execution_count": 19,
   "metadata": {},
   "outputs": [
    {
     "name": "stdout",
     "output_type": "stream",
     "text": [
      "4\n"
     ]
    }
   ],
   "source": [
    "letters = ['a', 'b', 'c', 'd']\n",
    "print(len(letters))"
   ]
  },
  {
   "cell_type": "markdown",
   "metadata": {},
   "source": [
    "## List methods that you should know\n",
    "\n",
    "Lists have [about a dozen methods](https://docs.python.org/3.5/tutorial/datastructures.html#more-on-lists). There are use cases for all of them, but here, you'll focus on some of the most commonly used methods.\n",
    "\n",
    "### `.append()`\n",
    "\n",
    "The `.append()` method is used to add, or *append*, a value to the end of a list. Methods such as `.append()` are called by following the list you want to work with by a dot (`.`), then the name of the method, then parentheses `(` `)` containing the arguments that you want to pass in."
   ]
  },
  {
   "cell_type": "code",
   "execution_count": 1,
   "metadata": {},
   "outputs": [
    {
     "name": "stdout",
     "output_type": "stream",
     "text": [
      "['a', 'b', 'c', 'd', 'e']\n"
     ]
    }
   ],
   "source": [
    "letters = ['a', 'b', 'c', 'd']\n",
    "letters.append('e')\n",
    "print(letters)"
   ]
  },
  {
   "cell_type": "markdown",
   "metadata": {},
   "source": [
    "### `.insert()`\n",
    "\n",
    "The `.insert()` method is used to insert a new value at any position in a list, including the beginning, middle, or end. To call it, use two arguments: the index that you want to insert at and the value that you want to insert.\n"
   ]
  },
  {
   "cell_type": "code",
   "execution_count": 22,
   "metadata": {},
   "outputs": [
    {
     "name": "stdout",
     "output_type": "stream",
     "text": [
      "['one', 'two', 'three', 'four']\n"
     ]
    }
   ],
   "source": [
    "numbers = ['one', 'two', 'four']\n",
    "numbers.insert(2, 'three')\n",
    "print(numbers)"
   ]
  },
  {
   "cell_type": "markdown",
   "metadata": {},
   "source": [
    "### `.pop()`\n",
    "\n",
    "The `.pop()` method is the opposite of `.append()`: it removes and returns the final item in a list. This is the first list method covered here that has a return value; `.append()` and `.insert()` modify the underlying list but don't themselves have a return value. No arguments are needed with `.pop()`."
   ]
  },
  {
   "cell_type": "code",
   "execution_count": 24,
   "metadata": {},
   "outputs": [
    {
     "name": "stdout",
     "output_type": "stream",
     "text": [
      "Change light bulb\n",
      "['Conquer world', 'Install Linux']\n"
     ]
    }
   ],
   "source": [
    "to_do = [\"Conquer world\", \"Install Linux\", \"Change light bulb\"]\n",
    "current_task = to_do.pop()\n",
    "print(current_task)\n",
    "\"Change light bulb\"\n",
    "print(to_do)"
   ]
  },
  {
   "cell_type": "markdown",
   "metadata": {},
   "source": [
    "### `.index()`\n",
    "\n",
    "The `.index()` method is used to find out the first index number of a matching list item. There is one required argument (the item that you want to match), followed by two optional start and stop index arguments in case you want to limit your search to a particular slice of the list. Like `pop()`, it returns a value: the index number of the first matching element.\n"
   ]
  },
  {
   "cell_type": "code",
   "execution_count": 26,
   "metadata": {},
   "outputs": [
    {
     "name": "stdout",
     "output_type": "stream",
     "text": [
      "2\n",
      "0\n"
     ]
    }
   ],
   "source": [
    "fowl = ['duck', 'duck', 'goose', 'duck']\n",
    "\n",
    "print(fowl.index('goose'))\n",
    "print(fowl.index('duck'))"
   ]
  },
  {
   "cell_type": "markdown",
   "metadata": {},
   "source": [
    "### `.sort()`\n",
    "\n",
    "The `.sort()` method is used to reorder a list. Like `.append()`, `.sort()` has no return value. It directly modifies the list that you call it on; it doesn't create and return a new sorted list."
   ]
  },
  {
   "cell_type": "code",
   "execution_count": 27,
   "metadata": {},
   "outputs": [
    {
     "name": "stdout",
     "output_type": "stream",
     "text": [
      "['apple', 'banana', 'boat', 'car']\n",
      "[1, 15, 26, 41]\n"
     ]
    }
   ],
   "source": [
    "words = ['car', 'boat', 'apple', 'banana']\n",
    "words.sort()\n",
    "print(words)\n",
    "ids = [15, 26, 41, 1]\n",
    "ids.sort()\n",
    "print(ids)\n"
   ]
  },
  {
   "cell_type": "markdown",
   "metadata": {},
   "source": [
    "You can use optional arguments to change the default sorting behavior. But most often, `.sort()` is called with zero arguments; this automatically compares the elements directly, as in the examples above.\n",
    "\n",
    "Here is an interactive environment with the examples above. Tinker around with these list methods and print things out to test your mental model of how things are working."
   ]
  },
  {
   "cell_type": "code",
   "execution_count": 29,
   "metadata": {
    "collapsed": true
   },
   "outputs": [],
   "source": [
    "# Interactive versions of the examples above\n",
    "\n",
    "letters = ['a', 'b', 'c', 'd']\n",
    "letters.append('e')\n",
    "\n",
    "numbers = ['one', 'two', 'four']\n",
    "numbers.insert(2, 'three')\n",
    "\n",
    "to_do = [\"Conquer world\", \"Install Linux\", \"Change light bulb\"]\n",
    "current_task = to_do.pop()\n",
    "\n",
    "fowl = ['duck', 'duck', 'goose', 'duck']\n",
    "goose_index = fowl.index('goose')\n",
    "\n",
    "words = ['car', 'boat', 'apple', 'banana']\n",
    "words.sort()\n",
    "\n",
    "ids = [15, 26, 41, 1]\n",
    "ids.sort()\n",
    "\n",
    "# Tinker with these lists and list methods and print things out\n",
    "# to assess how well you understand what's going on."
   ]
  },
  {
   "cell_type": "markdown",
   "metadata": {},
   "source": [
    "## Loops and iteration\n",
    "\n",
    "In programming, a *loop* is a construct that allows you to repeat a set of instructions a specific number of times, or until a specific condition is true. \n",
    "\n",
    "Lists are one example of a collection of things, and the data in a list could represent a variety of things, such as Tweets, emails, statistics, or friends. Loops provide a way to write a set of behavior once and then apply that behavior to each item in these collections or apply it a certain number of times. This is a valuable tool to have in your problem-solving kit.\n",
    "\n",
    "Here, you're going to look at two kinds of loops: `for` loops and `while` loops.\n",
    "\n",
    "### `for` loops\n",
    "\n",
    "A `for` loop is used to run through a block of instructions a specific number of times. Here's a minimal example that just prints a message each time the loop runs:\n"
   ]
  },
  {
   "cell_type": "code",
   "execution_count": 30,
   "metadata": {},
   "outputs": [
    {
     "name": "stdout",
     "output_type": "stream",
     "text": [
      "Hello Bethany\n",
      "Hello Alex\n",
      "Hello Grae\n"
     ]
    }
   ],
   "source": [
    "names = [\"Bethany\", \"Alex\", \"Grae\"]\n",
    "for name in names:\n",
    "    greeting = \"Hello \" + name\n",
    "    print(greeting)"
   ]
  },
  {
   "cell_type": "markdown",
   "metadata": {},
   "source": [
    "As you can see, this code will loop over the list that you assign to `names` and repeat the code inside the `for` loop once for each item in the list.\n",
    "\n",
    "Now, dig into the syntax of this loop. First off, you begin with `for`, which signals that you're starting a loop and indicates which kind of loop it is. Then, you follow with the variable name that you'd like to give to each item in the list. In the example, the entire list is called `names` and you're calling each string inside the list `name`. Next, use the `in` keyword followed by the collection that you're iterating over. End the line with a colon (`:`), which indicates that you're ready to begin your indented block of code that will be executed each time the loop iterates.\n",
    "\n",
    "Using a plural name for a list and the singular of that name in a loop like this is very common. You might have a list of `area_codes` use a `for` loop that looks like <code>for area_code in area_codes:</code>. Or you might have a list of `users` and use a `for` loop like <code>for user in users:</code>. This style of naming is a useful convention, not a requirement.\n",
    "\n",
    "Inside the indented code block, you can run any code that you like. The example above accesses and uses each item that you're iterating over, but that doesn't need to be the case."
   ]
  },
  {
   "cell_type": "code",
   "execution_count": 33,
   "metadata": {},
   "outputs": [
    {
     "name": "stdout",
     "output_type": "stream",
     "text": [
      "There's no place like home.\n",
      "There's no place like home.\n",
      "There's no place like home.\n"
     ]
    }
   ],
   "source": [
    "names = [\"Bethany\", \"Alex\", \"Grae\"]\n",
    "for name in names:\n",
    "    print(\"There's no place like home.\")"
   ]
  },
  {
   "cell_type": "markdown",
   "metadata": {},
   "source": [
    "Lists are one type of sequence that works with `for` loops. What about other sequences, like strings or ranges?\n"
   ]
  },
  {
   "cell_type": "code",
   "execution_count": 34,
   "metadata": {},
   "outputs": [
    {
     "name": "stdout",
     "output_type": "stream",
     "text": [
      "H\n",
      "o\n",
      "w\n",
      "d\n",
      "y\n",
      "n is: 0\n",
      "n is: 1\n",
      "n is: 2\n",
      "n is: 3\n",
      "n is: 4\n",
      "n is: 5\n",
      "n is: 6\n",
      "n is: 7\n",
      "n is: 8\n",
      "n is: 9\n",
      "name\n",
      "role\n",
      "age\n",
      "[0, 2, 4, 6, 8]\n",
      "[1, 9, 25, 49, 81]\n"
     ]
    }
   ],
   "source": [
    "# Now, try `for` loops with other sequences and collections. Some\n",
    "# of these may be new to you.\n",
    "\n",
    "# Strings\n",
    "for character in \"Howdy\":\n",
    "    print(character)\n",
    "    \n",
    "# Ranges\n",
    "for n in range(10):\n",
    "    print(\"n is: {}\".format(n))\n",
    "    \n",
    "# Dictionaries (more on these later)\n",
    "user = {\n",
    "    \"name\": \"Grae\",\n",
    "    \"role\": \"admin\",\n",
    "    \"age\": 35\n",
    "}\n",
    "\n",
    "for property in user:\n",
    "    print(property)\n",
    "    \n",
    "# You can also do more than just print things.\n",
    "even_numbers = []\n",
    "odd_squares = []\n",
    "\n",
    "for n in range(10):\n",
    "    if n % 2 == 0:\n",
    "        even_numbers.append(n)\n",
    "    else:\n",
    "        odd_squares.append(n ** 2)\n",
    "\n",
    "print(even_numbers)\n",
    "print(odd_squares)"
   ]
  },
  {
   "cell_type": "markdown",
   "metadata": {},
   "source": [
    "Use `for` loops whenever there is a block of operations that you want to perform on each value in a set of values, or when you want it to perform a specific number of times. You'll find that happens very frequently.\n",
    "\n",
    "\n",
    "### `while` loops\n",
    "\n",
    "The [`while`](https://docs.python.org/3.5/reference/compound_stmts.html#the-while-statement) loop is another, less common way to loop. You learned that `for` loops execute a block of instructions a specific number of times. In contrast, `while` loops are useful when you aren't sure how many times you need to loop; they will continue to iterate as long as the logical condition that you provide is `True`.\n",
    "\n",
    "Here's an example that keeps dividing an integer by two as many times as possible:"
   ]
  },
  {
   "cell_type": "code",
   "execution_count": 35,
   "metadata": {},
   "outputs": [
    {
     "name": "stdout",
     "output_type": "stream",
     "text": [
      "To start, n is 24\n",
      "After 1 division(s) n is 12\n",
      "After 2 division(s) n is 6\n",
      "After 3 division(s) n is 3\n",
      "After removing all factors of two, the number is 3\n"
     ]
    }
   ],
   "source": [
    "# Divide a number evenly by 2 as many times as possible.\n",
    "n = 24\n",
    "divisions = 0\n",
    "print(\"To start, n is {}\".format(n))\n",
    "while n % 2 == 0:\n",
    "    n = n // 2\n",
    "    divisions += 1\n",
    "    print(\"After {} division(s) n is {}\".format(divisions, n))\n",
    "\n",
    "# Now that the loop is done, take a look at the result.\n",
    "message = \"After removing all factors of two, the number is {}\"\n",
    "print(message.format(n))\n",
    "\n",
    "# Try changing the value of n above to a larger number,\n",
    "# predicting the result, and then rerunning the code to see\n",
    "# if you were right.\n"
   ]
  },
  {
   "cell_type": "markdown",
   "metadata": {},
   "source": [
    "To write a `while` loop, start with the `while` keyword. Then add an expression that evaluates to `True` or `False`. In the example above, that expression is `n % 2 == 0`. If the condition evaluates to `True`, the loop will run. If not, it won't, and execution of the program will continue on below.\n",
    "\n",
    "Conceptually, `while` loops are meant to be used where the looped behavior does not have a known number of iterations, but instead has a known logical condition where it should terminate. One common use is to gather and validate user input."
   ]
  },
  {
   "cell_type": "code",
   "execution_count": null,
   "metadata": {
    "collapsed": true
   },
   "outputs": [],
   "source": [
    "# Read the code below and guess what will happen if you\n",
    "# try several different passwords in the prompt at the right.\n",
    "password = \"\"\n",
    "failed_attempts = 0\n",
    "while password != \"hunter2\":\n",
    "    password = input(\"what is the password?\")\n",
    "    if password == \"hunter2\":\n",
    "        print(\"Correct!\")\n",
    "    else:\n",
    "        print(\"I'm sorry, that's not correct.\")\n",
    "        failed_attempts += 1\n",
    "        print(\"Wrong guesses: {}\".format(failed_attempts))"
   ]
  },
  {
   "cell_type": "markdown",
   "metadata": {},
   "source": [
    "There's another common, but potentially confusing, use of the `while` loop that you should be familiar with; it uses the [`break`](https://docs.python.org/3.5/reference/simple_stmts.html#break) keyword:"
   ]
  },
  {
   "cell_type": "code",
   "execution_count": null,
   "metadata": {
    "collapsed": true
   },
   "outputs": [],
   "source": [
    "n = 1\n",
    "while True:\n",
    "    n = n * 2\n",
    "    if n > 32:\n",
    "        break\n",
    "print(n)"
   ]
  },
  {
   "cell_type": "markdown",
   "metadata": {},
   "source": [
    "Because the `while` condition here is `True`, which _always_ evaluates to `True`, you might think that this loop would run forever. And that's exactly what would happen if you removed the `break` statement. Using `break` will terminate the enclosing loop, allowing the program to continue executing code further down. In the example above, `break` is executed once the number grows larger than `32`. Then program execution continues on with the `print()` statement."
   ]
  },
  {
   "cell_type": "markdown",
   "metadata": {},
   "source": [
    "## List comprehension"
   ]
  },
  {
   "cell_type": "markdown",
   "metadata": {},
   "source": [
    "If you want to modify a list in a single line of code instead of using a `for` loop, you can use *list comprehension*. This is a more concise and efficient way to do the same thing."
   ]
  },
  {
   "cell_type": "code",
   "execution_count": 1,
   "metadata": {},
   "outputs": [
    {
     "name": "stdout",
     "output_type": "stream",
     "text": [
      "[0, 2, 4, 6, 8, 10]\n",
      "[0, 2, 4, 6, 8, 10]\n"
     ]
    }
   ],
   "source": [
    "original_list = [0,1,2,3,4,5]\n",
    "\n",
    "new_list = [x*2 for x in original_list] # Using list comprehension\n",
    "print(new_list)\n",
    "\n",
    "# The above is the same as this `for` loop:\n",
    "new_list = []\n",
    "for x in original_list:\n",
    "    new_list.append(x*2)\n",
    "print(new_list)"
   ]
  }
 ],
 "metadata": {
  "kernelspec": {
   "display_name": "Python 3 (ipykernel)",
   "language": "python",
   "name": "python3"
  },
  "language_info": {
   "codemirror_mode": {
    "name": "ipython",
    "version": 3
   },
   "file_extension": ".py",
   "mimetype": "text/x-python",
   "name": "python",
   "nbconvert_exporter": "python",
   "pygments_lexer": "ipython3",
   "version": "3.9.10"
  }
 },
 "nbformat": 4,
 "nbformat_minor": 2
}
