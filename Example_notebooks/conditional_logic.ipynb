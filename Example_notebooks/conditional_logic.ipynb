{
 "cells": [
  {
   "cell_type": "markdown",
   "metadata": {},
   "source": [
    "## Truth in Python\n",
    "\n",
    "Before exploring logical operators, which compare the truth value of two assertions, you need to understand the way that Python evaluates individual assertions as true or false.\n",
    "\n",
    "To explore how Python thinks about truth and falsity, you'll use the built-in `bool` function, which is used to convert a value into either `True` or `False`."
   ]
  },
  {
   "cell_type": "code",
   "execution_count": null,
   "metadata": {},
   "outputs": [],
   "source": [
    "# Basics\n",
    "print(bool(True))\n",
    "print(bool(False))\n",
    "\n",
    "# Numbers and strings evaluate to `True`.\n",
    "print(bool(1))\n",
    "print(bool(2))\n",
    "print(bool(-1))\n",
    "print(bool('Hello'))\n",
    "print(bool('    '))\n",
    "\n",
    "# Except for 0 and empty string ''.\n",
    "print(bool(0))\n",
    "print(bool(''))\n",
    "\n",
    "# Collections evaluate to `True`.\n",
    "print(bool([1, 2, 3]))\n",
    "print(bool({'arms': 2, 'legs': 2, 'sword': None}))\n",
    "\n",
    "# Except for empty collections.\n",
    "print(bool([]))\n",
    "print(bool({}))\n",
    "\n",
    "# `None` acts as you might expect.\n",
    "print(bool(None))"
   ]
  },
  {
   "cell_type": "markdown",
   "metadata": {},
   "source": [
    "Anything that represents *something* is `True`. Anything that represents *nothing* is `False`:\n",
    "\n",
    " * `False`\n",
    " * `None`\n",
    " * `0`\n",
    " * Empty string `''`\n",
    " * Empty list `[` `]`\n",
    " * Empty dictionary `{` `}`\n",
    "\n",
    "If you're working with anything else, it'll be `True`. That means that negative numbers, strings of whitespace, and objects (which you'll learn about later) all evaluate to `True`.\n",
    "\n",
    "## Logical operators\n",
    "\n",
    "Logical operators are used to make assertions about two or more statements or values. You'll start with the logical `and` operator, which is used to check if two statements both evaluate to `True`."
   ]
  },
  {
   "cell_type": "code",
   "execution_count": 1,
   "metadata": {},
   "outputs": [
    {
     "name": "stdout",
     "output_type": "stream",
     "text": [
      "True\n",
      "False\n",
      "False\n"
     ]
    }
   ],
   "source": [
    "print(True and True)\n",
    "print(True and False)\n",
    "print(False and True)"
   ]
  },
  {
   "cell_type": "markdown",
   "metadata": {},
   "source": [
    "In the examples above, Python evaluates the expression on each side of the `and` operator. If both expressions evaluate to `True`, it returns `True`.\n",
    "\n",
    "Well, kind of. When the expressions on both sides of `and` evaluate to `True`, the second expression is returned. In the first example above, the second expression happens to literally *be* `True`, so that's what you get back.\n",
    "\n",
    "A similar thing goes on in the background when one of the expressions evaluates to `False`."
   ]
  },
  {
   "cell_type": "code",
   "execution_count": 2,
   "metadata": {},
   "outputs": [
    {
     "name": "stdout",
     "output_type": "stream",
     "text": [
      "False\n",
      "False\n",
      "False\n",
      "0\n",
      "None\n",
      "{}\n"
     ]
    }
   ],
   "source": [
    "# Basics.\n",
    "print(False and False)\n",
    "print(False and True)\n",
    "print(True and False)\n",
    "\n",
    "# When an `and` expression evaluates to `False`, what are you\n",
    "# actually returning?\n",
    "print(True and 0)\n",
    "print(None and True)\n",
    "print({} and '')\n",
    "\n",
    "# Can you guess what these values will be before you print them?\n",
    "collection = [] and {}\n",
    "number = 1 and (0 and 2)"
   ]
  },
  {
   "cell_type": "markdown",
   "metadata": {},
   "source": [
    "Your intuition with `and` statements will get you a long way. But under the hood, this is what's going on:\n",
    "\n",
    "> The expression `x and y` first evaluates `x`. If `x` is false, `x` is returned. Otherwise, `y` is evaluated and `y` is returned.\n",
    "\n",
    "The logical `or` operator is the complement to `and`. It tells you whether at least one of the expressions on either side of `or` evaluates to `True`."
   ]
  },
  {
   "cell_type": "code",
   "execution_count": 12,
   "metadata": {},
   "outputs": [
    {
     "name": "stdout",
     "output_type": "stream",
     "text": [
      "True\n",
      "True\n",
      "True\n",
      "False\n"
     ]
    }
   ],
   "source": [
    "print(True or False)\n",
    "print(False or True)\n",
    "print(True or True)\n",
    "print(False or False)"
   ]
  },
  {
   "cell_type": "markdown",
   "metadata": {},
   "source": [
    "Just like `and` expressions, `or` expressions actually return one of the expressions on either side of `or`:"
   ]
  },
  {
   "cell_type": "code",
   "execution_count": 11,
   "metadata": {},
   "outputs": [
    {
     "name": "stdout",
     "output_type": "stream",
     "text": [
      "1\n",
      "1\n",
      "Chocolate\n",
      "Phew!\n",
      "3\n",
      "Hello\n",
      "0\n",
      "[]\n",
      "{}\n"
     ]
    }
   ],
   "source": [
    "# An `or` expression only needs one side to be `True`, so if the\n",
    "# first expression is `True`, that's what is returned.\n",
    "print(1 or 2)\n",
    "print(1 or False)\n",
    "print('Chocolate' or 'Vanilla')\n",
    "\n",
    "# If the first expression evaluates to `False`, then an `or`\n",
    "# expression moves to the second expression and returns that,\n",
    "# no matter whether the second value evaluates to `True` or\n",
    "# `False`.\n",
    "print(False or \"Phew!\")\n",
    "print(0 or 3)\n",
    "print([] or \"Hello\")\n",
    "\n",
    "print('' or 0)\n",
    "print(0 or [])\n",
    "print(None or {})\n",
    "\n",
    "# Can you guess what's going on here before printing?\n",
    "example = False or (\"Hmm...\" or None)\n",
    "name = '' or {} or []\n",
    "logged_in = name or 'Guido'\n",
    "\n"
   ]
  },
  {
   "cell_type": "markdown",
   "metadata": {},
   "source": [
    "Now, drill down on the `or` operator. Imagine that you have the expression `x or y` in Python. When this code is executed, first, the boolean value of `x` will be evaluated. If `x` is \"truthy\", `x` will be returned. Otherwise, the value of `y` will be returned (even if `y` evaluates to `False`).\n",
    "\n",
    "Finally, you have the logical `not` operator, which evaluates an expression and gives the boolean opposite."
   ]
  },
  {
   "cell_type": "code",
   "execution_count": 10,
   "metadata": {},
   "outputs": [
    {
     "name": "stdout",
     "output_type": "stream",
     "text": [
      "False\n",
      "True\n",
      "False\n",
      "True\n",
      "False\n"
     ]
    }
   ],
   "source": [
    "# Here, `not` is used to evaluate and return the boolean opposite of\n",
    "# some expressions.\n",
    "print(not True)\n",
    "print(not False)\n",
    "print(not \"Hello!\")\n",
    "print(not 0)\n",
    "print(not 1)"
   ]
  },
  {
   "cell_type": "markdown",
   "metadata": {},
   "source": [
    "Perhaps more intuitively, `not` always returns a boolean `True` or `False`.\n",
    "\n",
    "\n",
    "## Assigning default values with the logical `or` operator\n",
    "\n",
    "Why all this complication? Wouldn't it be simpler if `and` and `or` simply returned a boolean?\n",
    "\n",
    "Consider the following function:"
   ]
  },
  {
   "cell_type": "code",
   "execution_count": 8,
   "metadata": {},
   "outputs": [],
   "source": [
    "# Define a function that allows for default behavior.\n",
    "def greet(person):\n",
    "    # Line 4 is where the magic happens.\n",
    "    person = person or 'world'\n",
    "    return \"Hello \" + person\n",
    "\n",
    "# Can you guess what the values below are before printing them?\n",
    "greeting_1 = greet('Guido')\n",
    "greeting_2 = greet('')\n",
    "greeting_3 = greet(None)"
   ]
  },
  {
   "cell_type": "markdown",
   "metadata": {},
   "source": [
    "The first line of the function body reassigns the value of `person` using an `or` operator. If the function is called with a value like `Guido`, which evaluates to `True`, then `person` gets the same value again. However, if the function is called with a value like an empty string `''` or `None`, which evaluates to `False`, then the default value `'world'` is assigned instead.\n",
    "\n",
    "## Control flow\n",
    "\n",
    "Control flow dictates how programs execute different sets of instructions based on differing conditions. You might have one branch of code that executes if a condition is true, and another branch that executes if the condition is false. That's control flow, and it's a powerful tool.\n",
    "\n",
    "You're going to explore two ways of achieving control flow: conditional statements (`if`, `else`, and `elif`) and exception handling (`try` and `except` statements).\n",
    "\n",
    "\n",
    "### Conditional statements: `if`, `elif`, `else`\n",
    "\n",
    "Python provides three keywords for working with conditionality: `if`, `else`, and `elif`. You'll start with an example of [`if`](https://docs.python.org/3.5/reference/compound_stmts.html#if):"
   ]
  },
  {
   "cell_type": "code",
   "execution_count": 4,
   "metadata": {},
   "outputs": [],
   "source": [
    "def greet_admin(user):\n",
    "    if user == \"Guido\":\n",
    "        return \"Welcome, Guido.\""
   ]
  },
  {
   "cell_type": "markdown",
   "metadata": {},
   "source": [
    "To use an `if` statement, begin with `if` followed by an expression (`user == \"Guido\"` above) and ended by a colon (`:`). Below that, indent a block of code to be executed if the condition evaluates to `True`.\n",
    "\n",
    "The same syntax is used for `elif` (short for \"else if\"), with the additional requirement that `elif` statements must follow an `if` statement. You can use as many `elif` statements as you like."
   ]
  },
  {
   "cell_type": "code",
   "execution_count": 3,
   "metadata": {},
   "outputs": [],
   "source": [
    "def greet_admin(user):\n",
    "    if user == \"Guido\":\n",
    "        return \"Welcome, Guido.\"\n",
    "    elif user == \"Bethany\":\n",
    "        return \"Welcome, Bethany.\"\n",
    "    elif user == \"Alex\":\n",
    "        return \"Welcome, Alex.\""
   ]
  },
  {
   "cell_type": "markdown",
   "metadata": {},
   "source": [
    "The catch-all `else` statement can follow `if` and `elif` statements to end a conditional statement. To use an `else` statement, just use `else:` and begin with your indented code block below. The `else` clause is a catch-all, so you don't include a condition to test. Here's the full conditional statement that you've been building:"
   ]
  },
  {
   "cell_type": "code",
   "execution_count": 5,
   "metadata": {},
   "outputs": [
    {
     "name": "stdout",
     "output_type": "stream",
     "text": [
      "Welcome, Guido.\n",
      "Welcome, Alex.\n",
      "You are not authorized.\n"
     ]
    }
   ],
   "source": [
    "# Here is the full `if`, `elif`, `else` conditional statement.\n",
    "def greet_admin(user):\n",
    "    if user == \"Guido\":\n",
    "        return \"Welcome, Guido.\"\n",
    "    elif user == \"Bethany\":\n",
    "        return \"Welcome, Bethany.\"\n",
    "    elif user == \"Alex\":\n",
    "        return \"Welcome, Alex.\"\n",
    "    else:\n",
    "        return \"You are not authorized.\"\n",
    "\n",
    "print(greet_admin(\"Guido\"))\n",
    "print(greet_admin(\"Alex\"))\n",
    "print(greet_admin(\"Grae\"))\n",
    "\n",
    "# Try inserting additional `elif` statements, changing the\n",
    "# conditions that are being checked, and printing the results."
   ]
  },
  {
   "cell_type": "markdown",
   "metadata": {},
   "source": [
    "### Exception handling: `try` and `except`\n",
    "\n",
    "Python provides `try` and `except` statements for dealing with conditional logic in the case of *exceptions*. These language constructs allow you to specify a block of code to be tried (the `try` statement). If that block does not succeed, the code in the `except` block runs.\n",
    "\n",
    "You've probably seen exceptions—and you may have seen many of them if you've tinkered around a lot!\n",
    "\n",
    "Here's one:"
   ]
  },
  {
   "cell_type": "code",
   "execution_count": null,
   "metadata": {},
   "outputs": [],
   "source": [
    "# Define a function to check whether an integer is even\n",
    "# or odd.\n",
    "def even_or_odd(num):\n",
    "    if num % 2 == 0:\n",
    "        return \"{} IS EVEN\".format(num)\n",
    "    elif num % 2 == 1:\n",
    "        return \"{} IS ODD\".format(num)\n",
    "    else:\n",
    "        return \"{} IS NOT AN INTEGER!\".format(num)\n",
    "\n",
    "# Everything works fine when you pass an integer in as expected.\n",
    "print(even_or_odd(42))\n",
    "\n",
    "# Floats are fine too.\n",
    "print(even_or_odd(3.414))\n",
    "\n",
    "# Uh-oh. Someone passed in a string.\n",
    "print(even_or_odd(\"Chaos Monkey\"))"
   ]
  },
  {
   "cell_type": "markdown",
   "metadata": {},
   "source": [
    "In this example, the function is expecting a number to be passed in. When it tries modulo division on a string when evaluating `\"Chaos Monkey\" % 2 == 0`, the program raises an *exception*, or error. Specifically, it raises a `TypeError`. You don't have anything here to *handle* the exception, so your program halts and prints out a *stack trace* (or *traceback*) with information about what went wrong.\n",
    "\n",
    "Using a `try`/`except` statement instead of an `if` statement lets you *try* executing code that might raise an exception and then run code to handle the exception if it does occur."
   ]
  },
  {
   "cell_type": "code",
   "execution_count": 7,
   "metadata": {},
   "outputs": [
    {
     "name": "stdout",
     "output_type": "stream",
     "text": [
      "42 modulo 5 is 2\n",
      "3.414 modulo 5 is 3.414\n",
      "Chaos Monkey isn't even a number!\n"
     ]
    }
   ],
   "source": [
    "# Here's another function that expects a number. It uses a\n",
    "# `try`/`except` statement to handle situations where you get\n",
    "# something weird.\n",
    "def modulo_five(num):\n",
    "    try:\n",
    "        result = num % 5\n",
    "        return \"{} modulo 5 is {}\".format(num, result)\n",
    "    except TypeError:\n",
    "        return \"{} isn't even a number!\".format(num)\n",
    "    \n",
    "\n",
    "# Everything works fine when you pass an integer in as expected.\n",
    "print(modulo_five(42))\n",
    "\n",
    "# Floats are fine too.\n",
    "print(modulo_five(3.414))\n",
    "\n",
    "# Yay, you're properly handling exceptions and using them to\n",
    "# control which code is executed.\n",
    "print(modulo_five(\"Chaos Monkey\"))"
   ]
  },
  {
   "cell_type": "markdown",
   "metadata": {},
   "source": [
    "The `try`/`except` statements provide the added benefit of letting your program continue to run. Although unhandled exceptions halt your program with a traceback, handling an exception allows your program to gracefully continue along, even when you raise an exception, and conditionally run code when an exception does occur."
   ]
  },
  {
   "cell_type": "code",
   "execution_count": null,
   "metadata": {},
   "outputs": [],
   "source": []
  }
 ],
 "metadata": {
  "kernelspec": {
   "display_name": "Python 3 (ipykernel)",
   "language": "python",
   "name": "python3"
  },
  "language_info": {
   "codemirror_mode": {
    "name": "ipython",
    "version": 3
   },
   "file_extension": ".py",
   "mimetype": "text/x-python",
   "name": "python",
   "nbconvert_exporter": "python",
   "pygments_lexer": "ipython3",
   "version": "3.9.10"
  }
 },
 "nbformat": 4,
 "nbformat_minor": 2
}
