{
 "cells": [
  {
   "cell_type": "markdown",
   "metadata": {},
   "source": [
    "## What is a string?"
   ]
  },
  {
   "cell_type": "code",
   "execution_count": 1,
   "metadata": {
    "collapsed": true
   },
   "outputs": [],
   "source": [
    "string_example = 'This is a string!'"
   ]
  },
  {
   "cell_type": "markdown",
   "metadata": {},
   "source": [
    "A *string* is a sequence of characters. In Python, you can assign string values to variables by using either single quotes (`'`) or double quotes (`\"`) around a sequence of characters."
   ]
  },
  {
   "cell_type": "code",
   "execution_count": 2,
   "metadata": {},
   "outputs": [
    {
     "name": "stdout",
     "output_type": "stream",
     "text": [
      "Spam!\n",
      "Eggs!\n"
     ]
    }
   ],
   "source": [
    "spam = \"Spam!\"\n",
    "eggs = 'Eggs!'\n",
    "print(spam)\n",
    "print(eggs)"
   ]
  },
  {
   "cell_type": "markdown",
   "metadata": {},
   "source": [
    "Either single or double quotes are fine. The key is that the outermost quote delimiters must both be either single or double.\n",
    "\n",
    "You can also use triple quotes (`'''`) to create big, multiline strings:"
   ]
  },
  {
   "cell_type": "code",
   "execution_count": 3,
   "metadata": {},
   "outputs": [
    {
     "name": "stdout",
     "output_type": "stream",
     "text": [
      "\n",
      "And the Lord spake, saying, \"First shalt thou take out the Holy Pin.\n",
      "Then shalt thou count to three, no more, no less.\n",
      "Three shall be the number thou shalt count, and the number of the counting shall be three.\n",
      "Four shalt thou not count, neither count thou two, excepting that thou then proceed to three.\n",
      "Five is right out.\n",
      "\n"
     ]
    }
   ],
   "source": [
    "book_of_armaments = '''\n",
    "And the Lord spake, saying, \"First shalt thou take out the Holy Pin.\n",
    "Then shalt thou count to three, no more, no less.\n",
    "Three shall be the number thou shalt count, and the number of the counting shall be three.\n",
    "Four shalt thou not count, neither count thou two, excepting that thou then proceed to three.\n",
    "Five is right out.\n",
    "'''\n",
    "print(book_of_armaments)"
   ]
  },
  {
   "cell_type": "markdown",
   "metadata": {},
   "source": [
    "Strings are used to represent text. Python 3 handles strings much better than Python 2, and that's one of Python 3's great strengths. Python should be able to handle just about any Unicode that you throw at it, so strings like `\"passé\"` and `\"schöne\"` and `\"ねこ\"` are all fair game."
   ]
  },
  {
   "cell_type": "code",
   "execution_count": 4,
   "metadata": {},
   "outputs": [
    {
     "name": "stdout",
     "output_type": "stream",
     "text": [
      "\n",
      "    Beautiful is better than ugly.\n",
      "    Explicit is better than implicit.\n",
      "    Simple is better than complex.\n",
      "    \n"
     ]
    }
   ],
   "source": [
    "# Either single or double quotes are fine.\n",
    "spam = \"Spam!\"\n",
    "eggs = 'Eggs!'\n",
    "\n",
    "# Python 3 has good Unicode support.\n",
    "pet = 'ねこ'\n",
    "\n",
    "# You can use strings for all sorts of textual data.\n",
    "url = 'http://dashboard.thinkful.com'\n",
    "greeting = 'Hello. My name is Inigo Montoya...'\n",
    "\n",
    "zen = '''\n",
    "    Beautiful is better than ugly.\n",
    "    Explicit is better than implicit.\n",
    "    Simple is better than complex.\n",
    "    '''\n",
    "\n",
    "print(zen)"
   ]
  },
  {
   "cell_type": "markdown",
   "metadata": {},
   "source": [
    "Once you've read the examples above, take a few minutes to change the values of the strings, define some brand-new strings, and `print()` the results.\n",
    "\n",
    "## Special characters and escaping\n",
    "\n",
    "Some characters can be tricky to use. Imagine that you want to use the double quote character inside of a string. Maybe you want to use double quotes to represent a quotation. One way to do that is to wrap your string in single quotes, but what if that isn't an option? Or what if your string _also_ includes an apostrophe?\n",
    "\n",
    "This is a case where you need to use a backslash (`\\`) in order to *escape* a character:"
   ]
  },
  {
   "cell_type": "code",
   "execution_count": 5,
   "metadata": {
    "collapsed": true
   },
   "outputs": [],
   "source": [
    "line = \"He said, \\\"Sure, let's go!\\\"\";"
   ]
  },
  {
   "cell_type": "markdown",
   "metadata": {},
   "source": [
    "In other contexts, the backslash is used to indicate special characters. For example, `\\n` represents a line break, or *newline*. And `\\t` represents a tab character; for example, `'name:\\tJohn'` would give you a string with `name:` and `John` separated by a tab."
   ]
  },
  {
   "cell_type": "code",
   "execution_count": 6,
   "metadata": {},
   "outputs": [
    {
     "name": "stdout",
     "output_type": "stream",
     "text": [
      "He said, \"Sure, let's rock!\"\n",
      "FIRST\tLAST\n",
      "john\tcleese\n",
      "eric\tidle\n"
     ]
    }
   ],
   "source": [
    "# Internal quotation marks can really mess up your strings if you\n",
    "# don't escape them with a backslash.\n",
    "\n",
    "line = \"He said, \\\"Sure, let's rock!\\\"\";\n",
    "print(line)\n",
    "\n",
    "# You can also escape special characters like \\n for newline\n",
    "# and \\t for tab.\n",
    "employees = 'FIRST\\tLAST\\njohn\\tcleese\\neric\\tidle'\n",
    "print(employees)"
   ]
  },
  {
   "cell_type": "markdown",
   "metadata": {},
   "source": [
    "## Concatenating and repeating strings \n",
    "\n",
    "Python lets you use the `+` operator to *concatenate*—which just means *connect*—two strings into a bigger one.\n",
    "\n",
    "And you can use the `*` operator to *repeat* a string."
   ]
  },
  {
   "cell_type": "code",
   "execution_count": 7,
   "metadata": {},
   "outputs": [
    {
     "name": "stdout",
     "output_type": "stream",
     "text": [
      "The quick brown fox jumps over the lazy dog.\n",
      "NaNaNaNaNaNaNaNaNaNaNaNaNaNaNaNa Batman!\n",
      "123\n",
      "100100\n"
     ]
    }
   ],
   "source": [
    "# Use the + operator to concatenate.\n",
    "beginning = 'The quick brown fox '\n",
    "end = 'jumps over the lazy dog.'\n",
    "full_sentence = beginning + end\n",
    "print(full_sentence)\n",
    "\n",
    "# Use the * operator to repeat.\n",
    "print('Na' * 16 + \" Batman!\")\n",
    "\n",
    "# Remember that strings aren't numbers, even when they may look like\n",
    "# numbers. So trying to do math with them won't work the way that you\n",
    "# expect.\n",
    "print(\"12\" + \"3\")\n",
    "print(\"100\" * 2)"
   ]
  },
  {
   "cell_type": "markdown",
   "metadata": {},
   "source": [
    "## Indexes and slicing\n",
    "\n",
    "Each character of a string has an index, starting at `0` for the first character. You can access each character in a string by index using bracket (`[` `]`) notation.\n"
   ]
  },
  {
   "cell_type": "code",
   "execution_count": 8,
   "metadata": {},
   "outputs": [
    {
     "name": "stdout",
     "output_type": "stream",
     "text": [
      "H\n",
      "o\n"
     ]
    }
   ],
   "source": [
    "print('Hello'[0])\n",
    "print('Hello'[4])"
   ]
  },
  {
   "cell_type": "markdown",
   "metadata": {},
   "source": [
    "You can also access larger chunks of a string using *slicing*. Although using a single index will give you a single character, using two indexes separated by a colon (`:`) will give you a substring:"
   ]
  },
  {
   "cell_type": "code",
   "execution_count": 10,
   "metadata": {},
   "outputs": [
    {
     "name": "stdout",
     "output_type": "stream",
     "text": [
      "Monty\n",
      "Py\n"
     ]
    }
   ],
   "source": [
    "print('Monty Python'[0:5])\n",
    "print('Monty Python'[6:8])"
   ]
  },
  {
   "cell_type": "markdown",
   "metadata": {},
   "source": [
    "The character at the start index is always included in the substring that you get back, and the character at the end index is always _excluded_.\n",
    "\n",
    "When slicing strings, you can omit one of the indexes. Python will assume that you want to start from the beginning or go all the way to the end, depending on which index you omit."
   ]
  },
  {
   "cell_type": "code",
   "execution_count": 12,
   "metadata": {},
   "outputs": [
    {
     "name": "stdout",
     "output_type": "stream",
     "text": [
      "Monty\n",
      "Python\n"
     ]
    }
   ],
   "source": [
    "print('Monty Python'[:5])\n",
    "print('Monty Python'[6:])"
   ]
  },
  {
   "cell_type": "markdown",
   "metadata": {},
   "source": [
    "You can also use negative numbers as indexes. When using negative numbers, start counting from the end, beginning with `-1` as the last character in a string."
   ]
  },
  {
   "cell_type": "code",
   "execution_count": 13,
   "metadata": {},
   "outputs": [
    {
     "name": "stdout",
     "output_type": "stream",
     "text": [
      "n\n",
      "h\n"
     ]
    }
   ],
   "source": [
    "print('Monty Python'[-1])\n",
    "print('Monty Python'[-3])"
   ]
  },
  {
   "cell_type": "markdown",
   "metadata": {},
   "source": [
    "## Comparing strings\n",
    "\n",
    "You can use the comparison operator `==` to compare two strings to see if they're identical."
   ]
  },
  {
   "cell_type": "code",
   "execution_count": 17,
   "metadata": {},
   "outputs": [
    {
     "name": "stdout",
     "output_type": "stream",
     "text": [
      "Checking if food equals breakfast\n",
      "True\n",
      "Checking if breakfast equals lunch\n",
      "False\n"
     ]
    }
   ],
   "source": [
    "food = 'eggs'\n",
    "breakfast = 'eggs'\n",
    "lunch = 'spam'\n",
    "\n",
    "print(\"Checking if food equals breakfast\")\n",
    "print(food == breakfast)\n",
    "\n",
    "print(\"Checking if breakfast equals lunch\")\n",
    "print(breakfast == lunch)"
   ]
  },
  {
   "cell_type": "markdown",
   "metadata": {},
   "source": [
    "You might think that the comparison operator `==` looks a lot like the assignment operator `=`. In fact, using the assignment operator `=` (which _looks_ like an equals sign in math) when you meant to use the comparison operator `==` (which _acts_ much more like an equals sign in math) is one of the most common mistakes that beginning Python programmers make."
   ]
  },
  {
   "cell_type": "markdown",
   "metadata": {},
   "source": [
    "## String methods\n",
    "\n",
    "All strings in Python share a number of [built-in methods](https://docs.python.org/3.5/library/stdtypes.html#string-methods). Methods are called by following the string with a dot (`.`), then the name of the method, and then parentheses (`(` `)`) surrounding any arguments that you're passing in to the method. Here are a few examples of built-in string methods:"
   ]
  },
  {
   "cell_type": "code",
   "execution_count": null,
   "metadata": {
    "collapsed": true
   },
   "outputs": [],
   "source": [
    "# Return a new string with a capitalized first character.\n",
    "'hello'.capitalize()\n",
    "\n",
    "# As you read through these make a guess about what the result\n",
    "# will be. Then `print()` each statement and run the code\n",
    "# to check your guess.\n",
    "print('hello'.capitalize())\n",
    "\n",
    "# Return a new string where all characters are lowercase\n",
    "print('Hello'.lower())\n",
    "print('WORLD'.lower())\n",
    "\n",
    "# Check whether all characters are numeric.\n",
    "print('1337'.isdecimal())\n",
    "print('p2p'.isdecimal())\n",
    "\n",
    "# Check whether all characters are alpha.\n",
    "print('hello'.isalpha())\n",
    "print('p2p'.isalpha())\n",
    "\n",
    "# Find the index of the first occurrence of a substring. \n",
    "print('hello'.find('o'))\n",
    "print('world'.find('o'))\n",
    "\n",
    "# Check the end of a string.\n",
    "print('hello'.endswith('o'))\n",
    "print('world'.endswith('o'))\n",
    "print('world'.endswith('rld'))\n",
    "\n",
    "# Split a string into a list of strings at each instance of a\n",
    "# substring.\n",
    "print('The-quick-brown-fox'.split('-'))\n",
    "\n",
    "# Join a list of strings into one single string. Try passing a\n",
    "# different string into this method.\n",
    "print('_'.join(['The', 'quick', 'brown', 'fox']))\n",
    "\n",
    "# And `format` a string by replacing {} with the arguments you\n",
    "# supply to the function.\n",
    "print('Player {} has {} hit points remaining'.format(1, 42))\n",
    "print('My favorite drink is {} with {} dashes of {}'.format('whiskey', 3, 'bitters'))\n",
    "\n",
    "# Try playing around with these methods on your own!"
   ]
  },
  {
   "cell_type": "markdown",
   "metadata": {},
   "source": [
    "Did each of those examples print as you expected? Take a minute now to play around with these methods and practice applying these concepts."
   ]
  }
 ],
 "metadata": {
  "kernelspec": {
   "display_name": "Python 3 (ipykernel)",
   "language": "python",
   "name": "python3"
  },
  "language_info": {
   "codemirror_mode": {
    "name": "ipython",
    "version": 3
   },
   "file_extension": ".py",
   "mimetype": "text/x-python",
   "name": "python",
   "nbconvert_exporter": "python",
   "pygments_lexer": "ipython3",
   "version": "3.9.10"
  }
 },
 "nbformat": 4,
 "nbformat_minor": 2
}
