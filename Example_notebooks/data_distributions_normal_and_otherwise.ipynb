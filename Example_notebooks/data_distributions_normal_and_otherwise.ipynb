{
 "cells": [
  {
   "cell_type": "markdown",
   "metadata": {
    "colab_type": "text",
    "id": "WB8_-Hq8on24"
   },
   "source": [
    "\n",
    "## Normality defined"
   ]
  },
  {
   "cell_type": "markdown",
   "metadata": {
    "colab_type": "text",
    "id": "NtGN25_dVlzX"
   },
   "source": [
    "Data is described as *normal*, or *normally distributed*, if most values cluster in the center of the range, with the rest tapering off symmetrically to the left and the right. The mean and median of a normally distributed variable are equal. The information in a normal distribution can be summarized by the mean μ (mu) and standard deviation σ (sigma). The probability density function for a normally distributed variable is as follows:"
   ]
  },
  {
   "cell_type": "markdown",
   "metadata": {
    "colab_type": "text",
    "id": "2lHYya_jVlzZ"
   },
   "source": [
    "\\begin{equation}\n",
    "f(x|\\mu,\\sigma^2)=\\frac1{\\sqrt{2\\sigma^2\\pi}}e^{-\\frac{(x-\\mu)^2}{2\\sigma^2}}\n",
    "\\end{equation} "
   ]
  },
  {
   "cell_type": "markdown",
   "metadata": {
    "colab_type": "text",
    "id": "-R9XCxWpVlzb"
   },
   "source": [
    "Here, $e$ is [Euler's number](https://en.wikipedia.org/wiki/E_(mathematical_constant), a mathematical constant. It has a value of about 2.71828.\n",
    "\n",
    "Although you don't need to memorize the probability density function to work with normally distributed variables, it's good to be able to recognize this function if you come across it while reading about other statistical concepts.\n",
    "\n",
    "The normal distribution is useful for data scientists because of the following reasons:\n",
    "\n",
    " * It is easily summarized using just two statistics (mean and standard deviation).\n",
    " * The area under the curve is 1 (like 100%), making it easy to calculate the probability of individual outcomes within the distribution.\n",
    " * It describes many natural phenomena, such as blood pressure, height, and weight.\n",
    " * In general, any variable that measures an outcome produced by many small effects acting additively and independently will have a close-to-normal distribution.\n",
    " * Lots of common scores (like z-scores) and statistical tests (like t-tests, ANOVAs, bell-curve grading) assume a normal distribution.\n",
    "\n",
    "You can use Python to generate a normally distributed variable by providing a mean and standard deviation, which you graph as a histogram."
   ]
  },
  {
   "cell_type": "code",
   "execution_count": 1,
   "metadata": {
    "colab": {},
    "colab_type": "code",
    "id": "5tayVd_jVlzd"
   },
   "outputs": [],
   "source": [
    "import numpy as np\n",
    "import pandas as pd\n",
    "import matplotlib.pyplot as plt\n",
    "%matplotlib inline"
   ]
  },
  {
   "cell_type": "code",
   "execution_count": 2,
   "metadata": {
    "colab": {
     "base_uri": "https://localhost:8080/",
     "height": 281
    },
    "colab_type": "code",
    "id": "7wpUYd9YVlzm",
    "outputId": "1e61d080-1d46-4292-e1f2-7f14df054162"
   },
   "outputs": [
    {
     "data": {
      "image/png": "[encoded data removed]",
      "text/plain": [
       "<Figure size 432x288 with 1 Axes>"
      ]
     },
     "metadata": {
      "needs_background": "light"
     },
     "output_type": "display_data"
    }
   ],
   "source": [
    "# Making a standard normally distributed variable with 1000 observations, a mean of 0, and \n",
    "# a standard deviation of 1, and putting it in a DataFrame.\n",
    "mean = 0 \n",
    "sd = 1\n",
    "n = 1000\n",
    "\n",
    "# Create a DataFrame of one column, `rand`,\n",
    "# containing random numbers following normal \n",
    "# distribution\n",
    "\n",
    "df = pd.DataFrame({'rand': np.random.normal(mean, sd, n)})\n",
    "\n",
    "# Plotting the variables in the DataFrame (here, just the variable `rand`) as a histogram\n",
    "df.hist()\n",
    "# Inline printing the histogram\n",
    "plt.show()"
   ]
  },
  {
   "cell_type": "markdown",
   "metadata": {
    "colab_type": "text",
    "id": "qNO0Asg7Y9DU"
   },
   "source": [
    "Approximately 68% of the values in a normally distributed variable fall within one standard deviation above or below the mean, 95% of values fall within two standard deviations of the mean, and 99.7% of values fall within three standard deviations of the mean. This is called the *empirical rule* of statistics.\n"
   ]
  },
  {
   "cell_type": "markdown",
   "metadata": {
    "colab_type": "text",
    "id": "uOqmdx4ZVlzx"
   },
   "source": [
    "## When does it break? Deviations from normality and descriptive statistics"
   ]
  },
  {
   "cell_type": "markdown",
   "metadata": {
    "colab_type": "text",
    "id": "X30HMop4Vlzz"
   },
   "source": [
    "Unfortunately, the usefulness of the normal distribution means that it often becomes the default distribution in people's minds. This isn't helped by the fact that it is called *normal*!  Real data (as opposed to idealized mathematical concepts) is never perfectly normal, but some data is more normal than others. When statistics that assume normality are used on non-normal data, the mismatch between statistics and data can result in inaccurate conclusions.\n",
    "\n",
    "Although there are statistical tests of non-normality, they are sensitive to sample size, meaning that whether or not the test says that your data is normal has more to do with how much data you have than the distribution of your data. Instead, the best method of deciding if your data is normal is to visually inspect the data using histograms and quantile-quantile (QQ) plots.\n",
    "\n",
    "QQ plots graph a variable with an unknown distribution against a variable with a known distribution. Values for each variable are sorted into ascending order, then plotted against each other, with the known variable as the x-axis and the unknown variable as the y-axis. If the mystery variable shares the same distribution as the known variable, the result should be a straight line running from the plot's bottom-left corner to its top-right corner. Deviations from the straight line indicate that the data doesn't fit the distribution. \n",
    "\n",
    "Now, try a QQ plot to check if data is normally distributed:"
   ]
  },
  {
   "cell_type": "code",
   "execution_count": 3,
   "metadata": {
    "colab": {},
    "colab_type": "code",
    "id": "u_NALPlyVlz1"
   },
   "outputs": [],
   "source": [
    "import numpy as np\n",
    "import pandas as pd\n",
    "import matplotlib.pyplot as plt\n",
    "%matplotlib inline"
   ]
  },
  {
   "cell_type": "code",
   "execution_count": 4,
   "metadata": {
    "colab": {},
    "colab_type": "code",
    "id": "_Fz29kfVVlz8"
   },
   "outputs": [],
   "source": [
    "# Making two variables\n",
    "rand1 = np.random.normal(50, 300, 1000)\n",
    "rand2 = np.random.poisson(1, 1000)\n",
    "\n",
    "# Sorting the values in ascending order.\n",
    "rand1.sort()\n",
    "rand2.sort()\n",
    "\n",
    "# Making a standard normally distributed variable with 1,000 observations,\n",
    "# a mean of 0, and standard deviation of 1 that you will use as a comparison\n",
    "norm = np.random.normal(0, 1, 1000)\n",
    "\n",
    "# Sorting the values in ascending order\n",
    "norm.sort()"
   ]
  },
  {
   "cell_type": "code",
   "execution_count": 5,
   "metadata": {
    "colab": {},
    "colab_type": "code",
    "id": "TDUM-mCmVl0C",
    "outputId": "5fae1128-ada2-4f5a-c487-4bf84ce95d03"
   },
   "outputs": [
    {
     "data": {
      "image/png": "[encoded data removed]",
      "text/plain": [
       "<Figure size 432x288 with 1 Axes>"
      ]
     },
     "metadata": {
      "needs_background": "light"
     },
     "output_type": "display_data"
    }
   ],
   "source": [
    "# Plotting the variable `rand1` against `norm` in QQ plots\n",
    "plt.plot(norm, rand1, \"o\") \n",
    "plt.show() "
   ]
  },
  {
   "cell_type": "code",
   "execution_count": 6,
   "metadata": {
    "colab": {},
    "colab_type": "code",
    "id": "brHto4R2Vl0J",
    "outputId": "952560b0-3e32-4a3b-8ba4-7a35835330a2"
   },
   "outputs": [
    {
     "data": {
      "image/png": "[encoded data removed]",
      "text/plain": [
       "<Figure size 432x288 with 1 Axes>"
      ]
     },
     "metadata": {
      "needs_background": "light"
     },
     "output_type": "display_data"
    }
   ],
   "source": [
    "# Plotting the variable `rand2` against `norm` in QQ plots\n",
    "plt.plot(norm, rand2, \"o\") \n",
    "plt.show()"
   ]
  },
  {
   "cell_type": "markdown",
   "metadata": {
    "colab_type": "text",
    "id": "RRor3tBTVl0Q"
   },
   "source": [
    "From looking at the QQ plot, it is clear that the values of `rand1` are normally distributed, while the values of `rand2` are not normally distributed. (In fact, `rand2` reflects a different probability distribution, *Poisson*, which will be discussed in a later lesson.) \n",
    "\n",
    "You may notice that with a QQ plot, the scales of the known and unknown variables do not have to match. What matters is the relationships between data points within each variable. \n",
    "\n",
    "When data isn't normal, the mean and standard deviation are no longer accurate or informative summaries. Now, make histograms of `rand1` and `rand2`, then compute descriptive statistics to see how well they match up."
   ]
  },
  {
   "cell_type": "code",
   "execution_count": 7,
   "metadata": {
    "colab": {},
    "colab_type": "code",
    "id": "jY_X8S84Vl0S",
    "outputId": "24d4819a-4ddc-41ba-b6fa-ac2f499f0d46"
   },
   "outputs": [
    {
     "data": {
      "image/png": "[encoded data removed]",
      "text/plain": [
       "<Figure size 432x288 with 1 Axes>"
      ]
     },
     "metadata": {
      "needs_background": "light"
     },
     "output_type": "display_data"
    }
   ],
   "source": [
    "# Plot a histogram for `rand1`\n",
    "plt.hist(rand1, bins=20, color='c')\n",
    "\n",
    "# Add a vertical line at the mean\n",
    "plt.axvline(rand1.mean(), color='b', linestyle='solid', linewidth=2)\n",
    "\n",
    "# Add a vertical line at one standard deviation above the mean\n",
    "plt.axvline(rand1.mean() + rand1.std(), color='b', linestyle='dashed', linewidth=2)\n",
    "\n",
    "# Add a vertical line at one standard deviation below the mean\n",
    "plt.axvline(rand1.mean()-rand1.std(), color='b', linestyle='dashed', linewidth=2) \n",
    "\n",
    "# Print the histogram\n",
    "plt.show()"
   ]
  },
  {
   "cell_type": "code",
   "execution_count": 8,
   "metadata": {
    "colab": {},
    "colab_type": "code",
    "id": "LUvlw7SZVl0a",
    "outputId": "79d66355-6495-435d-d943-445bf18bd17f"
   },
   "outputs": [
    {
     "data": {
      "image/png": "[encoded data removed]",
      "text/plain": [
       "<Figure size 432x288 with 1 Axes>"
      ]
     },
     "metadata": {
      "needs_background": "light"
     },
     "output_type": "display_data"
    }
   ],
   "source": [
    "# Plot the same histogram for `rand2`\n",
    "plt.hist(rand2, bins=20, color = 'c')\n",
    "\n",
    "# Add a vertical line at the mean\n",
    "plt.axvline(rand2.mean(), color='b', linestyle='solid', linewidth=2)\n",
    "\n",
    "# Add a vertical line at one standard deviation above the mean\n",
    "plt.axvline(rand2.mean() + rand2.std(), color='b', linestyle='dashed', linewidth=2)\n",
    "\n",
    "#Add a vertical line at one standard deviation below the mean\n",
    "plt.axvline(rand2.mean() - rand2.std(), color='b', linestyle='dashed', linewidth=2)\n",
    "\n",
    "# Print the histogram\n",
    "plt.show()"
   ]
  },
  {
   "cell_type": "markdown",
   "metadata": {
    "colab_type": "text",
    "id": "5XwEjM4SVl0h"
   },
   "source": [
    "Because `rand1` is normal, the mean is placed where the data clusters, with approximately 50% of the data falling on either side, and approximately 67% of the data falling within one standard deviation of the mean. For `rand2`, the mean is still placed where the data clusters, but the cluster is not centered, and the standard deviation does not encompass the same amount of data on each side of the mean. Put another way, for `rand2`, the mean is no longer a measure of *central* tendency, because it does not fall in the center, and the standard deviation no longer describes the concentration of probabilities around the mean. The empirical rule relating the standard deviations to the concentration of probability around the mean of a normal distribution does not work well when applied to non-normal distributions. Asymmetric probability distributions are described as *skewed*."
   ]
  },
  {
   "cell_type": "markdown",
   "metadata": {
    "colab_type": "text",
    "id": "uB82rycwVl0j"
   },
   "source": [
    "## Other distributions"
   ]
  },
  {
   "cell_type": "markdown",
   "metadata": {
    "colab_type": "text",
    "id": "MKNp9wDGVl0k"
   },
   "source": [
    "So far, you've categorized data as either normal or non-normal, but there are many other probability distributions that also have useful characteristics for addressing particular statistical problems. You won't explore all of them in this lesson (see here for a [more comprehensive list](https://www.causascientia.org/math_stat/Dists/Compendium.pdf)), but here are brief introductions to some of the most common probability distributions."
   ]
  },
  {
   "cell_type": "markdown",
   "metadata": {
    "colab_type": "text",
    "id": "TbV2Bc11Vl0n"
   },
   "source": [
    "### Bernoulli\n",
    "\n",
    "The *Bernoulli distribution* represents two possible outcomes of an event (such as a coin flip or pass-fail). It's summarized by $p$, the probability of the outcome $k$.\n",
    "\n",
    "This distribution can be understood with a probability mass function, to show the possible probabilities of the two randomly independent outcomes. The probability mass function consists of *discrete random variables*, which means that Bernoulli has a countable number of possible values. In this case, there are two possible values. The probability of each value is also between `0` and `1`, and the sum of all the probabilities is equal to `1`.\n",
    "\n",
    "The probability mass function for the Bernoulli distribution is as follows:\n",
    "\n",
    "\n",
    "\\begin{equation}\n",
    "  f(k|p)=\\left\\{\n",
    "  \\begin{array}{@{}ll@{}}\n",
    "    p, & \\text{if}\\ k=1 \\\\\n",
    "    1-p, & \\text{if}\\ k=0\n",
    "  \\end{array}\\right.\n",
    "\\end{equation} \n",
    "\n",
    "\n",
    "Note that when a distribution is discrete (only takes integers), it has a probability _mass_ function, while a continuous distribution has a probability _density_ function."
   ]
  },
  {
   "cell_type": "code",
   "execution_count": 9,
   "metadata": {
    "colab": {},
    "colab_type": "code",
    "id": "BxSqxUyhVl0p"
   },
   "outputs": [],
   "source": [
    "import numpy as np\n",
    "import pandas as pd\n",
    "import matplotlib.pyplot as plt\n",
    "%matplotlib inline"
   ]
  },
  {
   "cell_type": "code",
   "execution_count": 10,
   "metadata": {
    "colab": {},
    "colab_type": "code",
    "id": "ztKqegLrVl0v",
    "outputId": "d1dfc4d3-5942-4a2d-9c00-5afc4d8780ab"
   },
   "outputs": [
    {
     "data": {
      "image/png": "[encoded data removed]",
      "text/plain": [
       "<Figure size 432x288 with 1 Axes>"
      ]
     },
     "metadata": {
      "needs_background": "light"
     },
     "output_type": "display_data"
    }
   ],
   "source": [
    "# Generate a Bernoulli distribution with p = 0.5\n",
    "bernoulli= np.random.binomial(1, .5, 1000)\n",
    "\n",
    "# Plot a histogram\n",
    "plt.hist(bernoulli)\n",
    "\n",
    "# Print the histogram\n",
    "plt.show()"
   ]
  },
  {
   "cell_type": "markdown",
   "metadata": {},
   "source": [
    "You can see that after 1,000 times, the distribution models the probabilities set at `0.5`."
   ]
  },
  {
   "cell_type": "markdown",
   "metadata": {
    "colab_type": "text",
    "id": "UndtHf1DVl01"
   },
   "source": [
    "### Binomial\n",
    "A *binomial distribution* counts the number of successes when an event with two or more distinct possible outcomes is repeated many times (such as many coin flips or die tosses). This is called *Bernoulli trials*, because you are repeating this independent Bernoulli experiment over and over again. It's summarized by $p$, the probability of getting $k$ successes during $n$ repetitions of the event. \n",
    "\n",
    "The probability mass function is as follows:\n",
    "\n",
    "\\begin{equation}\n",
    "f(k| n,p)= \\left(\n",
    "  \\begin{array}{@{}ll@{}}\n",
    "    n \\\\\n",
    "    k\n",
    "  \\end{array}\\right) p^k (1-p)^{(n-k)}\n",
    "\\end{equation}\n",
    "\n",
    "This distribution describes the behavior of $n$ random experiments, each having a Bernoulli distribution with probability $p$."
   ]
  },
  {
   "cell_type": "code",
   "execution_count": 11,
   "metadata": {
    "colab": {},
    "colab_type": "code",
    "id": "ibaNYxRRVl03",
    "outputId": "5f37f572-1820-4e4b-e546-d038b144bf3e"
   },
   "outputs": [
    {
     "data": {
      "image/png": "[encoded data removed]",
      "text/plain": [
       "<Figure size 432x288 with 1 Axes>"
      ]
     },
     "metadata": {
      "needs_background": "light"
     },
     "output_type": "display_data"
    }
   ],
   "source": [
    "# Generate a binomial distribution with n=20 and p=0.5\n",
    "binomial = np.random.binomial(20, 0.5, 1000)\n",
    "\n",
    "# Plot a histogram\n",
    "plt.hist(binomial)\n",
    "\n",
    "# Print the histogram\n",
    "plt.show()"
   ]
  },
  {
   "cell_type": "markdown",
   "metadata": {
    "colab_type": "text",
    "id": "h8IX96oYVl0-"
   },
   "source": [
    "### Gamma\n",
    "The *gamma distribution* represents the time until an event (such as lifespan until death), when the event starts out unlikely (few people die in youth), becomes more likely (more people die in old age), and then becomes less likely again (few people die in extreme old age because most have already died). It's summarized by a shape parameter ($\\alpha$) and an inverse-scale parameter ($\\beta$). The probability density function is as follows:\n",
    "\n",
    "\\begin{equation}\n",
    "f(x|\\alpha,\\beta)=\\frac{\\beta^\\alpha x^{\\alpha-1} e^{-x\\beta}} {\\Gamma(\\alpha)} \\text {for } x \\ge 0 \\text { and } \\alpha,\\beta \\ge0\n",
    "\\end{equation} "
   ]
  },
  {
   "cell_type": "code",
   "execution_count": 12,
   "metadata": {
    "colab": {},
    "colab_type": "code",
    "id": "ro0pzC_ZVl0_",
    "outputId": "7cf023b7-d296-497b-95cd-d24f75af3c85"
   },
   "outputs": [
    {
     "data": {
      "image/png": "[encoded data removed]",
      "text/plain": [
       "<Figure size 432x288 with 1 Axes>"
      ]
     },
     "metadata": {
      "needs_background": "light"
     },
     "output_type": "display_data"
    }
   ],
   "source": [
    "# Generate a gamma distribution with shape = 5 and scale = 1\n",
    "gamma = np.random.gamma(5,1, 1000)\n",
    "\n",
    "# Plot a histogram.\n",
    "plt.hist(gamma)\n",
    "\n",
    "# Print the histogram.\n",
    "plt.show()"
   ]
  },
  {
   "cell_type": "markdown",
   "metadata": {
    "colab_type": "text",
    "id": "jIA0pWd8Vl1G"
   },
   "source": [
    "### Poisson\n",
    "\n",
    "The *Poisson distribution* represents the number of times that a given event (such as a phone call to a radio show) will occur during a given time interval. Data can range from `0` (no phone calls during the time period) to approaching infinity (the phone never stopped ringing during the time period). It's summarized by $\\lambda$ (lambda), the rate that events occur during a given time period. The probability mass function is as follows:\n",
    "\n",
    "\\begin{equation}\n",
    "f(k|\\lambda)=\\frac{\\lambda^k e^{-\\lambda}}{k!}\n",
    "\\end{equation} \n",
    "\n"
   ]
  },
  {
   "cell_type": "code",
   "execution_count": 13,
   "metadata": {
    "colab": {},
    "colab_type": "code",
    "id": "_08EWnr1Vl1I",
    "outputId": "b7a3c19a-4d28-4bc4-d8ac-6be0b50c18df"
   },
   "outputs": [
    {
     "data": {
      "image/png": "[encoded data removed]",
      "text/plain": [
       "<Figure size 432x288 with 1 Axes>"
      ]
     },
     "metadata": {
      "needs_background": "light"
     },
     "output_type": "display_data"
    }
   ],
   "source": [
    "# Generate a Poisson distribution with lambda = 3\n",
    "poisson = np.random.poisson(3, 1000)\n",
    "\n",
    "# Plot a histogram\n",
    "plt.hist(poisson)\n",
    "\n",
    "# Print the histogram\n",
    "plt.show()"
   ]
  },
  {
   "cell_type": "markdown",
   "metadata": {
    "colab_type": "text",
    "id": "N94R3mhDVl1O"
   },
   "source": [
    "Identifying whether data has a distribution with known statistical properties requires visualizing the data through histograms and QQ plots, as well as knowing the source of the data (counts, probabilities, times, and so forth). When collecting and exploring new data as a data scientist, you'll make heavy use of visualizations like the ones used above."
   ]
  },
  {
   "cell_type": "markdown",
   "metadata": {
    "colab_type": "text",
    "id": "C2BHQA6_Vl1Q"
   },
   "source": [
    "## Conditional distribution\n",
    "\n",
    "Distributions can also be conditional. Consider an e-commerce site. For all of the customers, you  have a distribution of the amount of money that they have spent on the website. It may look something like this:"
   ]
  },
  {
   "cell_type": "code",
   "execution_count": 14,
   "metadata": {
    "colab": {},
    "colab_type": "code",
    "id": "FBoNY6MxVl1S",
    "outputId": "d44bbb9d-9a14-478a-8c46-aaa52de8db24"
   },
   "outputs": [
    {
     "data": {
      "image/png": "[encoded data removed]",
      "text/plain": [
       "<Figure size 432x288 with 1 Axes>"
      ]
     },
     "metadata": {
      "needs_background": "light"
     },
     "output_type": "display_data"
    }
   ],
   "source": [
    "# Creating a DataFrame to hold the simulated e-commerce data, and populating it with a\n",
    "# normally distributed variable with a mean of 75 and a standard deviation of 25.\n",
    "\n",
    "ecommerce = pd.DataFrame()\n",
    "ecommerce['spending'] = np.random.normal(75, 25, 1000)\n",
    "\n",
    "# Plot a histogram\n",
    "plt.hist(ecommerce['spending'])\n",
    "plt.show()"
   ]
  },
  {
   "cell_type": "markdown",
   "metadata": {
    "colab_type": "text",
    "id": "Yybv_OrJVl1b"
   },
   "source": [
    "But imagine that you're actually interested in a subset of that population. For example, perhaps you want to focus on visitors who visited the site more than twice. That data may look like this:\n"
   ]
  },
  {
   "cell_type": "code",
   "execution_count": 15,
   "metadata": {
    "colab": {},
    "colab_type": "code",
    "id": "ROXkhmltVl1d",
    "outputId": "4fda0b38-74b6-4f78-cd8a-b78932909cb1"
   },
   "outputs": [
    {
     "data": {
      "image/png": "[encoded data removed]",
      "text/plain": [
       "<Figure size 432x288 with 1 Axes>"
      ]
     },
     "metadata": {
      "needs_background": "light"
     },
     "output_type": "display_data"
    }
   ],
   "source": [
    "# Adding a variable with counts of the number of times visiting the site\n",
    "ecommerce['visit_count'] = np.random.randint(0, 5, 1000)\n",
    "\n",
    "# Selecting only the cases where the visit count is greater than two and plotting those\n",
    "plt.hist(ecommerce[ecommerce['visit_count'] > 2]['spending'])\n",
    "plt.show()"
   ]
  },
  {
   "cell_type": "markdown",
   "metadata": {
    "colab_type": "text",
    "id": "0ut6rMkyVl1s"
   },
   "source": [
    "This is a *conditional distribution*, with the condition being that the user visited more than twice. This is an example of how you can use information about one aspect of a dataset to inform another. To see another example, check out [this xkcd comic](http://xkcd.com/795/)."
   ]
  }
 ],
 "metadata": {
  "colab": {
   "collapsed_sections": [],
   "name": "Copy of data_distributions_normal_and_otherwise.ipynb",
   "provenance": [],
   "version": "0.3.2"
  },
  "kernelspec": {
   "display_name": "Python 3 (ipykernel)",
   "language": "python",
   "name": "python3"
  },
  "language_info": {
   "codemirror_mode": {
    "name": "ipython",
    "version": 3
   },
   "file_extension": ".py",
   "mimetype": "text/x-python",
   "name": "python",
   "nbconvert_exporter": "python",
   "pygments_lexer": "ipython3",
   "version": "3.9.10"
  }
 },
 "nbformat": 4,
 "nbformat_minor": 1
}
