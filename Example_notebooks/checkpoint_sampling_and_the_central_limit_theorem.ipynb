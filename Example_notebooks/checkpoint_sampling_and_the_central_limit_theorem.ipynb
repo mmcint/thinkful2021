{
 "cells": [
  {
   "cell_type": "markdown",
   "metadata": {
    "colab_type": "text",
    "id": "HBZoKPiAKYRD"
   },
   "source": [
    "For those of you keeping score at home, a die throw follows a *binomial* distribution because it is an event with a distinct possible outcome, repeated many times. However, given a large enough sample size, the sample mean of even a die toss will tend to be normal. That is the magic of the central limit theorem, which is formally stated as follows:\n",
    "\n",
    "The *central limit theorem* states that the sampling distribution of the mean of any independent, random variable will approach a normal distribution as the sample size increases.\n",
    "\n",
    "Don't believe it? Fire up Python and quell your doubts.\n",
    "\n"
   ]
  },
  {
   "cell_type": "markdown",
   "metadata": {
    "colab_type": "text",
    "id": "fP43gxopMLZk"
   },
   "source": [
    "## Python demonstration: Central limit theorem"
   ]
  },
  {
   "cell_type": "markdown",
   "metadata": {
    "colab_type": "text",
    "id": "sefb0RwbU040"
   },
   "source": [
    "For this demonstration, you will simulate the toss of a six-sided die 60 times, and take the mean each time. You'll do this 1,000 times, then plot the frequency of means as a histogram. \n",
    "\n",
    "You can generate a random number between 1 and 6, 60 times, using `numpy.random.randint()`. For the [`high` parameter](https://numpy.org/doc/stable/reference/random/generated/numpy.random.randint.html?highlight=randint#numpy.random.randint), specify one *above* the largest integer to be drawn— so in this case, this parameter should be set to `7`. "
   ]
  },
  {
   "cell_type": "code",
   "execution_count": 0,
   "metadata": {
    "colab": {},
    "colab_type": "code",
    "id": "2SxI_ENPL8YZ"
   },
   "outputs": [],
   "source": [
    "# Initialize environment\n",
    "\n",
    "import numpy as np\n",
    "import pandas as pd\n",
    "from matplotlib import pyplot as plt\n",
    "from numpy.random import randint\n",
    "from numpy import mean\n",
    "from scipy import stats\n",
    "from numpy.random import seed"
   ]
  },
  {
   "cell_type": "code",
   "execution_count": 0,
   "metadata": {
    "colab": {
     "base_uri": "https://localhost:8080/",
     "height": 286
    },
    "colab_type": "code",
    "id": "22Q6SfO7Lggr",
    "outputId": "47ed9264-e753-4840-8ca4-ecefaa94bbd6"
   },
   "outputs": [
    {
     "data": {
      "image/png": "[encoded data removed]",
      "text/plain": [
       "<Figure size 432x288 with 1 Axes>"
      ]
     },
     "metadata": {
      "tags": []
     },
     "output_type": "display_data"
    },
    {
     "name": "stdout",
     "output_type": "stream",
     "text": [
      "DescribeResult(nobs=1000, minmax=(2.816666666666667, 4.083333333333333), mean=3.50195, variance=0.047529560393727056, skewness=-0.033439835400367504, kurtosis=-0.17296793506268937)\n"
     ]
    }
   ],
   "source": [
    "#seed(1234)\n",
    "means = [mean(randint(1, 7, 60)) for _ in range(1000)]\n",
    "\n",
    "\n",
    "plt.hist(means)\n",
    "plt.show()\n",
    "\n",
    "print(stats.describe(means))"
   ]
  },
  {
   "cell_type": "markdown",
   "metadata": {
    "colab_type": "text",
    "id": "uEf6cSbLV4Zd"
   },
   "source": [
    "Whoa! The resulting histogram is normally distributed around a mean of approximately 3.5—which makes sense, because that's exactly in the middle of your die's range from 1 to 6."
   ]
  },
  {
   "cell_type": "markdown",
   "metadata": {
    "colab_type": "text",
    "id": "ACMr5P7nRai4"
   },
   "source": [
    "## Law of large numbers\n",
    "\n",
    "Related to the central limit theorem, the *law of large numbers* means that as your sample size grows, the sample mean becomes very close to the population mean."
   ]
  },
  {
   "cell_type": "markdown",
   "metadata": {
    "colab_type": "text",
    "id": "GHuS7wn5MCin"
   },
   "source": [
    "## Python demonstration: Law of large numbers\n",
    "\n",
    "For this demonstration, you will conduct 1,000 simulations of die throws. At each simulation, you'll add one more throw to your sample, and take the average each time. "
   ]
  },
  {
   "cell_type": "code",
   "execution_count": 0,
   "metadata": {
    "colab": {
     "base_uri": "https://localhost:8080/",
     "height": 286
    },
    "colab_type": "code",
    "id": "CaoZn6ABLpG4",
    "outputId": "73545726-faaf-4632-98d0-8e7cfabdae34"
   },
   "outputs": [
    {
     "data": {
      "text/plain": [
       "<matplotlib.axes._subplots.AxesSubplot at 0x7fbd194524a8>"
      ]
     },
     "execution_count": 4,
     "metadata": {
      "tags": []
     },
     "output_type": "execute_result"
    },
    {
     "data": {
      "image/png": "[encoded data removed]",
      "text/plain": [
       "<Figure size 432x288 with 1 Axes>"
      ]
     },
     "metadata": {
      "tags": []
     },
     "output_type": "display_data"
    }
   ],
   "source": [
    "results = []\n",
    "for num_trials in range(1,1000):\n",
    "    trials = np.random.randint(1, 7, num_trials)\n",
    "    mean_of_trials = trials.mean()\n",
    "    results.append(mean_of_trials)\n",
    "\t\n",
    "df = pd.DataFrame({ 'trials' : results})\n",
    "\n",
    "\n",
    "df.plot()\n"
   ]
  },
  {
   "cell_type": "markdown",
   "metadata": {
    "colab_type": "text",
    "id": "KIY9I8I_XbOz"
   },
   "source": [
    "You can see that as your sample size increases, the sample average tends closer to the \"true\" average, 3.5."
   ]
  },
  {
   "cell_type": "markdown",
   "metadata": {
    "colab_type": "text",
    "id": "sfT6wW0DMQW-"
   },
   "source": [
    "## Toward inferential statistics\n",
    "\n",
    "From the central limit theorem, you know that the distribution of sample means will tend to normality, given large enough sample sizes. And from the law of large numbers, you know that your sample mean will approximate the true mean, given enough samples.\n",
    "\n",
    "With these assumptions at hand, you can compare a given sample to the normal sampling distribution to assess the likelihood that your sample comes from the same population. In other words, you can test the hypothesis that your sample represents a population distinct from the known population. You can also compare for significant differences in means of two populations, given that each is reflective of their populations.\n",
    "\n",
    "You'll explore these tests later on in this program."
   ]
  }
 ],
 "metadata": {
  "colab": {
   "collapsed_sections": [],
   "name": "Copy of checkpoint_sampling_and_the_central_limit_theorem.ipynb",
   "provenance": [],
   "version": "0.3.2"
  },
  "kernelspec": {
   "display_name": "Python 3 (ipykernel)",
   "language": "python",
   "name": "python3"
  },
  "language_info": {
   "codemirror_mode": {
    "name": "ipython",
    "version": 3
   },
   "file_extension": ".py",
   "mimetype": "text/x-python",
   "name": "python",
   "nbconvert_exporter": "python",
   "pygments_lexer": "ipython3",
   "version": "3.9.10"
  }
 },
 "nbformat": 4,
 "nbformat_minor": 1
}
