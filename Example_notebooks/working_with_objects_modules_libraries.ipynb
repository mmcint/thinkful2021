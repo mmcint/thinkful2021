{
 "cells": [
  {
   "cell_type": "markdown",
   "metadata": {},
   "source": [
    "## What are objects?\n",
    "\n",
    "Of course, saying \"everything in Python is an object\" doesn't tell you much about what an object actually is. Python objects are collections of attributes. Each attribute has a name and a value. You might be thinking now that attributes of an object seem a lot like the items of a dictionary—and you'd be right.\n",
    "\n",
    "In addition to attributes, each object has a unique *ID*, which you can access with the built-in [`id()` function](https://docs.python.org/3/library/functions.html#id), and a *type*, which you can access with the built-in [`type()`](https://docs.python.org/3/library/functions.html#type) function.\n",
    "\n",
    "You can get a list of the names for each attribute of an object by passing the object into the built-in `dir()` function. Now, try that with the integer `1` to see what `1` _really_ looks like."
   ]
  },
  {
   "cell_type": "code",
   "execution_count": 1,
   "metadata": {},
   "outputs": [
    {
     "name": "stdout",
     "output_type": "stream",
     "text": [
      "['__abs__', '__add__', '__and__', '__bool__', '__ceil__', '__class__', '__delattr__', '__dir__', '__divmod__', '__doc__', '__eq__', '__float__', '__floor__', '__floordiv__', '__format__', '__ge__', '__getattribute__', '__getnewargs__', '__gt__', '__hash__', '__index__', '__init__', '__init_subclass__', '__int__', '__invert__', '__le__', '__lshift__', '__lt__', '__mod__', '__mul__', '__ne__', '__neg__', '__new__', '__or__', '__pos__', '__pow__', '__radd__', '__rand__', '__rdivmod__', '__reduce__', '__reduce_ex__', '__repr__', '__rfloordiv__', '__rlshift__', '__rmod__', '__rmul__', '__ror__', '__round__', '__rpow__', '__rrshift__', '__rshift__', '__rsub__', '__rtruediv__', '__rxor__', '__setattr__', '__sizeof__', '__str__', '__sub__', '__subclasshook__', '__truediv__', '__trunc__', '__xor__', 'bit_length', 'conjugate', 'denominator', 'from_bytes', 'imag', 'numerator', 'real', 'to_bytes']\n"
     ]
    }
   ],
   "source": [
    "# Now, peer beneath the surface of integers with `dir()`.\n",
    "print(dir(1))\n",
    "\n",
    "# Try swapping out the integer above with a string, boolean, list, function, or any\n",
    "# other object to see what attributes it has. Then try printing the results in\n",
    "# an easier-to-read format by using a `for` loop to print each one out one at a time."
   ]
  },
  {
   "cell_type": "markdown",
   "metadata": {},
   "source": [
    "That's a lot of attributes for something that you might have thought was just the simple number *one*. What are these mysterious attributes?\n",
    "\n",
    "\n",
    "## Accessing and using attributes\n",
    "\n",
    "Next, find out what these attributes are by accessing them. You can access object attributes using dot notation: follow the object with a dot (`.`) and then the name of the attribute that you want to access. Try this with a string. If you call `dir()` on a string, you can see that one of the attributes is `upper`. Access that."
   ]
  },
  {
   "cell_type": "code",
   "execution_count": 2,
   "metadata": {},
   "outputs": [
    {
     "name": "stdout",
     "output_type": "stream",
     "text": [
      "<built-in method upper of str object at 0x1122246f8>\n"
     ]
    }
   ],
   "source": [
    "print(\"hello\".upper)"
   ]
  },
  {
   "cell_type": "markdown",
   "metadata": {},
   "source": [
    "Oh, that's right—you saw earlier that strings have a method called `.upper()`. You might have even used it to solve one of the earlier string drills. Now, call that method on the string by adding parentheses `()` to the end."
   ]
  },
  {
   "cell_type": "code",
   "execution_count": null,
   "metadata": {},
   "outputs": [],
   "source": [
    "print(\"hello\".upper())"
   ]
  },
  {
   "cell_type": "markdown",
   "metadata": {},
   "source": [
    "Just as you've been using objects this whole time without necessarily knowing that they've been objects, you've been accessing object attributes by using methods like the string method `.upper()` and the list method `.append()` without necessarily knowing that they were attributes of your object. *Method* is in fact just the special name used for functions that are attached to an object as one of the object's attributes.\n",
    "\n",
    "If you tinker around with the different attributes of different objects, you'll see that the values are very frequently functions. Attributes don't have to be functions, though; sometimes, they're other values."
   ]
  },
  {
   "cell_type": "code",
   "execution_count": 3,
   "metadata": {},
   "outputs": [
    {
     "name": "stdout",
     "output_type": "stream",
     "text": [
      "The imaginary component of 1 is 0.\n",
      "The real component of 1 is 1.\n"
     ]
    }
   ],
   "source": [
    "# Store `1` in a variable so that you can use dot notation.\n",
    "one = 1\n",
    "\n",
    "# See if `1` has an imaginary component.\n",
    "\n",
    "print(\"The imaginary component of 1 is {}.\".format(one.imag))\n",
    "\n",
    "# Nope. Now check the real component.\n",
    "print(\"The real component of 1 is {}.\".format(one.real))\n",
    "\n",
    "# Yup, there it is."
   ]
  },
  {
   "cell_type": "markdown",
   "metadata": {},
   "source": [
    "These attributes are pretty cool, but where do they come from?.\n",
    "\n",
    "\n",
    "## Abstraction and inheritance\n",
    "\n",
    "To figure this out, think about abstraction for a moment. Consider the statement `1 + 2` and the statement `1 + 'pizza'`. You expect the first statement to work because both operands are numbers. And you (rightly) expect the second statement to fail because you can't add a number and a string. The operands in the second example aren't the same type of thing.\n",
    "\n",
    "What does it mean to say that a number and a string aren't \"the same type\"? Similarly, what does \"integers are a type of number\" mean?\n",
    "\n",
    "These are both abstractions. Each integer has a whole bunch of attributes that it shares with other integers—attributes that it doesn't necessarily share with a string. For example, numbers can be even or odd, or composite or prime, but those concepts don't even make sense when talking about strings.\n",
    "\n",
    "Similarly, different types of numbers share some attributes but not others. All integers are divisible by one, but other types of real numbers (like floats) don't have that attribute. *Number* is an abstract *class* that both integers and floats belong to, even though numbers and floats are different from each another.\n",
    "\n",
    "In all of these cases, you can intellectually abstract away from specific instances of something (like `1` and `10` and `42`) to create a class (in this case, integers) where you list out all the attributes that the instances share with one another. Whenever you choose a specific instance of the class, you know that the instance inherits all of the properties of the class that it belongs to.\n",
    "\n",
    "All of this talk about abstraction is a bit heady, so take a look at the way that Python creates different types of numbers, using classes as a concrete example.\n",
    "\n",
    "Integers and floats are both a type of number. Python has a [numbers class](https://docs.python.org/3/library/numbers.html#numbers.Number) that ints and floats belong to. They inherit the attributes of that class. Rational numbers are another type of number. Integers are rational numbers, but floats aren't, so integers inherit the attributes of the [rational class](https://docs.python.org/3/library/numbers.html#numbers.Rational), but floats don't. You can read more detail about this and related numeric classes [here](https://docs.python.org/3/library/numbers.html), but the takeaway is that Python classes provide a way to define a type of object and allow all objects of a certain type to inherit the attributes of their class. All the unexpected attributes that you saw on the object `1` above are inherited from the classes that it belongs to.\n",
    "\n",
    "\n",
    "## Custom objects\n",
    "\n",
    "As a data scientist, you can keep using all of Python's built-in objects and the objects that you import from the standard library and other modules (more on importing modules next). You don't need to worry too much about making your own custom objects. But seeing how custom objects work will help you understand objects in general. So next, you'll look at an example of setting up a custom object.\n",
    "\n",
    "Imagine that you want to model a bunch of quarks. Each of your quarks will have its own color (red, green, or blue) and flavor (up, down, strange, charm, top, or bottom). All quarks will have the same baryon number (`1 / 3`) and will have a method to interact with another quark by exchanging colors (modeling the strong interaction).\n",
    "\n",
    "Before you can start churning out quarks, you first need to define what you mean by quark; in Python lingo, you might say that you need to define the *class*. Take a look at what that class might look like:"
   ]
  },
  {
   "cell_type": "code",
   "execution_count": 4,
   "metadata": {},
   "outputs": [],
   "source": [
    "class Quark(object):\n",
    "\n",
    "    def __init__(self, color, flavor):\n",
    "        self.color = color\n",
    "        self.flavor = flavor\n",
    "\n",
    "    baryon_number = 1 / 3\n",
    "\n",
    "    def interact(self, other_quark):\n",
    "        self.color, other_quark.color = other_quark.color, self.color\n",
    "        ### This is equivalent to `self.color = other_quark.color` and `other_quark.color = self.color`\n",
    "        ### (a, b = c, d is equivalent to a = c, b = d)\n",
    "\n",
    "    def __repr__(self):\n",
    "        return \"{} {} quark\".format(self.color, self.flavor)"
   ]
  },
  {
   "cell_type": "markdown",
   "metadata": {},
   "source": [
    "Now, break down this example piece by piece. In the first line, the `class` keyword is used to start the definition of a new class. This works just like the `def` keyword that you can use to define new functions. After that comes the name of the new class (`Quark`). It's customary to use [CapWords capitalization](https://www.python.org/dev/peps/pep-0008/#class-names) with custom classes. Next, follow the class name with parentheses `()` containing the class that you want to *subclass* from. If you don't have a more specific class that you'd like to subclass, the built-in `object` object has the most basic default attributes that you want to inherit.\n",
    "\n",
    "Inside the class definition, define three methods (`__init__()`, `interact()`, and `__repr__()`) and the `baryon_number` attribute. Each object that you create from this class will inherit these attributes. The `interact()` method implements the color exchange that you set out to do, while `__init__()` and `__repr__()` are special double-underscore, or *dunder*, methods.\n",
    "\n",
    "The `__init__()` method is special. Python automatically calls an object's `__init__()` method when it's created. That means that all of the code inside it runs as a part of setting up each new object. In this example, you're setting two attributes: the color and the flavor.\n",
    "\n",
    "\"But wait,\" you might be thinking, \"what about the first `self` argument?\" Good question. In an object, the `self` variable is used to refer to the object itself. Every method expects `self` as the first argument. And whenever you call a method, `self` is passed in behind the scenes without you having to explicitly include it in your method call. When you're reading code that includes `self`, you can mentally replace that with \"the particular object that I'm dealing with\". For example, in plain English, `self.color = color` would read as follows:\n",
    "\n",
    "> The color of the particular quark that I'm dealing with is the value of `color` passed into `__init__()`.\n",
    "\n",
    "Now, create a couple of quarks and play around with them."
   ]
  },
  {
   "cell_type": "code",
   "execution_count": 5,
   "metadata": {},
   "outputs": [
    {
     "name": "stdout",
     "output_type": "stream",
     "text": [
      "q1 is a red up quark\n",
      "q2 is a blue down quark\n",
      "Now q1 is a blue up quark\n",
      "Now q2 is a red down quark\n",
      "q1 is a <class '__main__.Quark'> object\n"
     ]
    }
   ],
   "source": [
    "class Quark(object):\n",
    "\n",
    "    # This method is automatically called whenever you create a new quark.\n",
    "    # It sets the color and flavor attributes when you create an instance.\n",
    "    def __init__(self, color, flavor):\n",
    "        self.color = color\n",
    "        self.flavor = flavor\n",
    "\n",
    "    # Every quark has the same baryon number, so you set this outside the\n",
    "    # `__init__()` function.\n",
    "    baryon_number = 1 / 3\n",
    "\n",
    "    # This method models the way that quarks interact with one another by\n",
    "    # exchanging color.\n",
    "    def interact(self, other_quark):\n",
    "        self.color, other_quark.color = other_quark.color, self.color\n",
    "\n",
    "    # The `__repr__()` method controls how the object is represented by the\n",
    "    # `print()` function and other representations of the object.\n",
    "    def __repr__(self):\n",
    "        return \"{} {} quark\".format(self.color, self.flavor)\n",
    "\n",
    "# Now that you have the class set up, call `Quark()` to create two\n",
    "# actual instances of quark objects.\n",
    "q1 = Quark(\"red\", \"up\")\n",
    "q2 = Quark(\"blue\", \"down\")\n",
    "\n",
    "# Print each object to see what they look like.\n",
    "print(\"q1 is a {}\".format(q1))\n",
    "print(\"q2 is a {}\".format(q2))\n",
    "\n",
    "# Test the `interact()` method by having `q1` and `q2` interact.\n",
    "q1.interact(q2)\n",
    "\n",
    "# Print them out again to see how they changed.\n",
    "print(\"Now q1 is a {}\".format(q1))\n",
    "print(\"Now q2 is a {}\".format(q2))\n",
    "\n",
    "# Test how the object deals with the built-in `type()` function.\n",
    "print(\"q1 is a {} object\".format(type(q1)))"
   ]
  },
  {
   "cell_type": "markdown",
   "metadata": {},
   "source": [
    "Unlike color and flavor, each quark has the same baryon number, so you can set that outside the `__init__()` function, just like you do for the method attributes.\n",
    "\n",
    "The `interact()` method is a straightforward function that manipulates both the object calling it and the object passed in as an argument. The `__repr__()` method is another useful dunder method that tells your object how to play nice with `print()` and other cases that require a representation of your object.\n",
    "\n",
    "Take a minute and go back to the interactive example above to see if you can add a `spin` attribute to the class definition. Then run your code and see if it works. If there's an exception, see if you can track down the cause. In physics, quarks can have a spin of either `1 / 2` or `-1 / 2`.\n",
    "\n",
    "You've already seen and used a number of powerful built-in Python functions and objects, but there are worlds of additional functionality that you can rope in whenever you want.\n",
    "\n",
    "Your Python installation almost certainly includes the entire [standard library](https://docs.python.org/3/library/), which is a library of modules that aren't loaded by default but that are available for you to import whenever you like.\n",
    "\n",
    "In addition to the standard library, there is a vibrant ecosystem of open-source Python modules that you can download, install, and import into your programs. The best centralized reference for these is the [Python Package Index](https://pypi.python.org/pypi), or *PyPI*. For example, here is the [PyPI page for pandas](https://pypi.python.org/pypi/pandas/0.19.2), which is a module that you'll use heavily as a data scientist. You'll install and dig into pandas and other packages soon.\n",
    "\n",
    "\n",
    "## Importing modules\n",
    "\n",
    "To start using modules, all you need is an `import` statement at the top of your program. Here's how you'd import the built-in `math` and `random` modules:\n",
    "\n",
    "```python\n",
    "import math\n",
    "import random\n",
    "```\n",
    "\n",
    "It's customary to put your import statements at the [top of your files](https://www.python.org/dev/peps/pep-0008/#imports).\n",
    "\n",
    "Once imported, you'll have access to a `math` module object and a `random` module object. Like all objects, these contain attributes that you can work with. Some interesting attributes are the [`math.pi` constant](https://docs.python.org/3/library/math.html#math.pi) and the [`random.choice()` method](https://docs.python.org/3/library/random.html#random.choice). Now, tinker with these:"
   ]
  },
  {
   "cell_type": "code",
   "execution_count": 6,
   "metadata": {},
   "outputs": [
    {
     "name": "stdout",
     "output_type": "stream",
     "text": [
      "6.283185307179586\n",
      "4\n",
      "New York\n"
     ]
    }
   ],
   "source": [
    "# Import the `math` and `random` modules.\n",
    "import math\n",
    "import random\n",
    "\n",
    "# Module attributes are accessed like any other object attribute.\n",
    "circumference = math.pi * 2\n",
    "print(circumference)\n",
    "\n",
    "# Module methods are functions and are called like any other function.\n",
    "secret_number = random.choice([1, 2, 3, 4, 5])\n",
    "print(secret_number)\n",
    "\n",
    "destination = random.choice([\"Seattle\", \"New York\", \"Leipzig\", \"San Francisco\"])\n",
    "print(destination)"
   ]
  },
  {
   "cell_type": "markdown",
   "metadata": {},
   "source": [
    "Refer back to the documentation for `math` and `random` linked above, find a couple of attributes that you'd like to play with, and use them in the interactive example. For extra credit, find a new package from the standard library that you'd like to import and play with."
   ]
  }
 ],
 "metadata": {
  "kernelspec": {
   "display_name": "Python 3 (ipykernel)",
   "language": "python",
   "name": "python3"
  },
  "language_info": {
   "codemirror_mode": {
    "name": "ipython",
    "version": 3
   },
   "file_extension": ".py",
   "mimetype": "text/x-python",
   "name": "python",
   "nbconvert_exporter": "python",
   "pygments_lexer": "ipython3",
   "version": "3.9.10"
  }
 },
 "nbformat": 4,
 "nbformat_minor": 2
}
