{
 "cells": [
  {
   "cell_type": "markdown",
   "metadata": {},
   "source": [
    "## Dictionaries versus lists\n",
    "\n",
    "As you learned in the previous lesson, lists make sense for collecting inherently sequenced data and are designed to simplify accessing items by index number. In contrast, dictionaries make sense for data that you reference by name, or *key*, rather than by position, or *index*."
   ]
  },
  {
   "cell_type": "code",
   "execution_count": 1,
   "metadata": {},
   "outputs": [],
   "source": [
    "greetings = {\n",
    "    \"english\": \"hello\",\n",
    "    \"japanese\": \"こんにちは\",\n",
    "    \"german\": \"hallo\",\n",
    "    \"hindi\": \"नमस्ते\",\n",
    "    \"leet\": \"h3ll0\",\n",
    "}\n",
    "\n",
    "word_counts = {\n",
    "    \"the\": 4,\n",
    "    \"and\": 2,\n",
    "    \"word\": 3,\n",
    "    \"beginning\": 1,\n",
    "    \"god\": 2,\n",
    "    \"in\": 1,\n",
    "    \"with\": 1,\n",
    "    \"was\": 3,\n",
    "}"
   ]
  },
  {
   "cell_type": "markdown",
   "metadata": {},
   "source": [
    "Dictionaries in Python are known in other languages as *associative arrays* or *hash tables* (or *objects* in JavaScript). So if you've programmed in another language, you likely know a lot about dictionaries.\n",
    "\n",
    "Dictionaries may initially be less intuitive to you than lists. You may be wondering why you'd want to use a dictionary when you could hack a list (or maybe a multidimensional list) into doing the job instead. There are two big reasons why dictionaries might be the right tool for the job:\n",
    "\n",
    " 1. Looking up or setting values by key rather than by index has incredibly different performance implications.\n",
    " 2. Writing code that refers to data by name rather than by index number can be much clearer and easier to understand.\n",
    "\n",
    "The first point, about performance, will almost certainly come up during your technical interview process. If you're writing programs with large inputs, the performance differences between lists and dictionaries can mean the difference between code that executes in less than a second, versus code that will keep running for days or years.\n",
    "\n",
    "\n",
    "## Creating, accessing, and modifying\n",
    "\n",
    "The easiest way to create a dictionary is to type out items as key-value pairs in curly braces (`{` `}`):"
   ]
  },
  {
   "cell_type": "code",
   "execution_count": 2,
   "metadata": {},
   "outputs": [],
   "source": [
    "greetings = {\n",
    "    \"english\": \"hello\",\n",
    "    \"japanese\": \"こんにちは\",\n",
    "    \"german\": \"hallo\",\n",
    "    \"hindi\": \"नमस्ते\",\n",
    "    \"leet\": \"h3ll0\",\n",
    "}"
   ]
  },
  {
   "cell_type": "markdown",
   "metadata": {},
   "source": [
    "Each key is followed by a colon (`:`) and then the corresponding value. In the example above, `\"japanese\"` is the key and `\"こんにちは\"` is the value.\n",
    "\n",
    "Each key-value pair is called an *item*. Each item is separated from the next with a comma. You'll find that you'll generally use strings for your keys, though you may use any immutable object as a key.\n",
    "\n",
    "Dictionary values are accessed using bracket notation. This is just like with lists and strings, except that instead of using an index number, you use a key:"
   ]
  },
  {
   "cell_type": "code",
   "execution_count": 3,
   "metadata": {},
   "outputs": [
    {
     "name": "stdout",
     "output_type": "stream",
     "text": [
      "こんにちは\n"
     ]
    }
   ],
   "source": [
    "print(greetings[\"japanese\"])"
   ]
  },
  {
   "cell_type": "markdown",
   "metadata": {},
   "source": [
    "Updating the value associated with a key looks very much like assigning a value to a variable:"
   ]
  },
  {
   "cell_type": "code",
   "execution_count": 5,
   "metadata": {},
   "outputs": [
    {
     "name": "stdout",
     "output_type": "stream",
     "text": [
      "{'apples': 5, 'oranges': 2}\n",
      "{'apples': 20, 'oranges': 3}\n"
     ]
    }
   ],
   "source": [
    "stock = {\"apples\": 5, \"oranges\": 2}\n",
    "print(stock)\n",
    "stock[\"apples\"] = 20\n",
    "stock[\"oranges\"] += 1\n",
    "print(stock)"
   ]
  },
  {
   "cell_type": "markdown",
   "metadata": {},
   "source": [
    "In fact, creating a *new* key-value pair looks the same as well. You specify the key using bracket notation and assign a value with the assignment operator `=`."
   ]
  },
  {
   "cell_type": "code",
   "execution_count": 6,
   "metadata": {},
   "outputs": [
    {
     "name": "stdout",
     "output_type": "stream",
     "text": [
      "10\n"
     ]
    }
   ],
   "source": [
    "stock[\"pears\"] = 10\n",
    "print(stock[\"pears\"])"
   ]
  },
  {
   "cell_type": "markdown",
   "metadata": {},
   "source": [
    "You can use the `del` keyword to delete items from a dictionary, removing the key-value pair entirely."
   ]
  },
  {
   "cell_type": "code",
   "execution_count": 7,
   "metadata": {},
   "outputs": [
    {
     "ename": "KeyError",
     "evalue": "'pears'",
     "output_type": "error",
     "traceback": [
      "\u001b[0;31m---------------------------------------------------------------------------\u001b[0m",
      "\u001b[0;31mKeyError\u001b[0m                                  Traceback (most recent call last)",
      "\u001b[0;32m<ipython-input-7-c0bbc7c96c30>\u001b[0m in \u001b[0;36m<module>\u001b[0;34m\u001b[0m\n\u001b[1;32m      1\u001b[0m \u001b[0;31m# this will raise an error\u001b[0m\u001b[0;34m\u001b[0m\u001b[0;34m\u001b[0m\u001b[0m\n\u001b[1;32m      2\u001b[0m \u001b[0;32mdel\u001b[0m \u001b[0mstock\u001b[0m\u001b[0;34m[\u001b[0m\u001b[0;34m\"pears\"\u001b[0m\u001b[0;34m]\u001b[0m\u001b[0;34m\u001b[0m\u001b[0m\n\u001b[0;32m----> 3\u001b[0;31m \u001b[0mstock\u001b[0m\u001b[0;34m[\u001b[0m\u001b[0;34m\"pears\"\u001b[0m\u001b[0;34m]\u001b[0m\u001b[0;34m\u001b[0m\u001b[0m\n\u001b[0m",
      "\u001b[0;31mKeyError\u001b[0m: 'pears'"
     ]
    }
   ],
   "source": [
    "# This will raise an error:\n",
    "del stock[\"pears\"]\n",
    "stock[\"pears\"]"
   ]
  },
  {
   "cell_type": "markdown",
   "metadata": {},
   "source": [
    "## Checking for membership in a dictionary\n",
    "\n",
    "You can use the key to get the value of a dictionary item with bracket notation. But what if you just want to know whether a key is in a dictionary at all? For that, you can use the `in` and `not in` operators."
   ]
  },
  {
   "cell_type": "code",
   "execution_count": 9,
   "metadata": {},
   "outputs": [
    {
     "name": "stdout",
     "output_type": "stream",
     "text": [
      "True\n",
      "False\n",
      "True\n"
     ]
    }
   ],
   "source": [
    "greetings = {\n",
    "  \"english\": \"hello\",\n",
    "  \"japanese\": \"こんにちは\",\n",
    "  \"german\": \"hallo\",\n",
    "  \"hindi\": \"नमस्ते\",\n",
    "  \"leet\": \"h3ll0\",\n",
    "}\n",
    "print(\"english\" in greetings)\n",
    "print(\"spanish\" in greetings)\n",
    "print(\"pirate\" not in greetings)"
   ]
  },
  {
   "cell_type": "markdown",
   "metadata": {},
   "source": [
    "As you saw above, when you tried to check `stock[\"pears\"]` after deleting it, trying to look up the value for a key that isn't in the dictionary will raise a `KeyError`. These boolean operations are useful for working with dictionaries without raising `KeyError` exceptions.\n",
    "\n",
    "Now that you know how to create and modify dictionaries, take a few minutes to play around with the code below."
   ]
  },
  {
   "cell_type": "code",
   "execution_count": 11,
   "metadata": {},
   "outputs": [
    {
     "name": "stdout",
     "output_type": "stream",
     "text": [
      "False\n"
     ]
    }
   ],
   "source": [
    "# As you read through the code below, think about how the\n",
    "# value of dictionary items might be changing. Then check\n",
    "# your understanding by printing the values out.\n",
    "\n",
    "# Populate an initial dictionary.\n",
    "stock = {\n",
    "  \"apples\": 5,\n",
    "  \"oranges\": 2,\n",
    "  \"pears\": 10,\n",
    "}\n",
    "\n",
    "# Sell some apples.\n",
    "stock[\"apples\"] -= 2\n",
    "\n",
    "# Use statements like `print(stock[\"apples\"])` to check\n",
    "# the value of dictionary items along the way.\n",
    "\n",
    "# Recieve a new shipment topping up your oranges.\n",
    "stock[\"oranges\"] = 20\n",
    "\n",
    "# Begin carrying kale.\n",
    "stock[\"kale\"] = 20\n",
    "\n",
    "# Stop carrying pears.\n",
    "del stock[\"pears\"]\n",
    "\n",
    "# Check to see whether you carry pizzas.\n",
    "print(\"pizza\" in stock)\n",
    "\n",
    "# Spend a few minutes modifying the `stock` dictionary\n",
    "# and printing out the results below."
   ]
  },
  {
   "cell_type": "markdown",
   "metadata": {},
   "source": [
    "## Methods and looping\n",
    "\n",
    "There are three important dictionary methods you should know that map onto the three main concepts of dictionaries: keys, values, and items.\n",
    "\n",
    "The `.keys()` dictionary method will return all the keys in a dictionary.\n",
    "\n",
    "The `.values()` method will return all the values in a dictionary.\n",
    "\n",
    "The `.items()` method will return all the key-value pairs (items) in a dictionary.\n",
    "\n",
    "Now, look at examples of all of these."
   ]
  },
  {
   "cell_type": "code",
   "execution_count": 14,
   "metadata": {},
   "outputs": [
    {
     "name": "stdout",
     "output_type": "stream",
     "text": [
      "dict_keys(['english', 'japanese', 'german', 'hindi', 'leet'])\n",
      "dict_values(['hello', 'こんにちは', 'hallo', 'नमस्ते', 'h3ll0'])\n",
      "dict_items([('english', 'hello'), ('japanese', 'こんにちは'), ('german', 'hallo'), ('hindi', 'नमस्ते'), ('leet', 'h3ll0')])\n"
     ]
    }
   ],
   "source": [
    "# Create an intial dictionary.\n",
    "greetings = {\n",
    "    \"english\": \"hello\",\n",
    "    \"japanese\": \"こんにちは\",\n",
    "    \"german\": \"hallo\",\n",
    "    \"hindi\": \"नमस्ते\",\n",
    "    \"leet\": \"h3ll0\",\n",
    "}\n",
    "\n",
    "# Use the `.keys()` method to create a list of each key.\n",
    "languages = greetings.keys()\n",
    "print(languages)\n",
    "\n",
    "# Use the `.values()` method to create a list of each value.\n",
    "translations = greetings.values()\n",
    "print(translations)\n",
    "\n",
    "# Use the `.items()` method to create a list of each key-value pair.\n",
    "pairs = greetings.items()\n",
    "print(pairs)"
   ]
  },
  {
   "cell_type": "markdown",
   "metadata": {},
   "source": [
    "Each of these methods returns a dictionary *view object* that looks and acts a lot like a list, but is actually a different kind of object. You'll focus on just two attributes of view objects right now. First, you can easily convert them into real lists with the built-in `list` function."
   ]
  },
  {
   "cell_type": "code",
   "execution_count": 18,
   "metadata": {},
   "outputs": [
    {
     "name": "stdout",
     "output_type": "stream",
     "text": [
      "['apples', 'oranges']\n"
     ]
    }
   ],
   "source": [
    "stock = {\"apples\": 5, \"oranges\": 2}\n",
    "print(list(stock.keys()))"
   ]
  },
  {
   "cell_type": "markdown",
   "metadata": {},
   "source": [
    "And second, view objects provide a dynamic view of the underlying dictionary. So if you update the dictionary, then the view object will show you the updated data."
   ]
  },
  {
   "cell_type": "code",
   "execution_count": 19,
   "metadata": {},
   "outputs": [
    {
     "name": "stdout",
     "output_type": "stream",
     "text": [
      "dict_keys(['apples', 'oranges', 'pears'])\n"
     ]
    }
   ],
   "source": [
    "stock = {\"apples\": 5, \"oranges\": 2}\n",
    "items_for_sale = stock.keys()\n",
    "stock[\"pears\"] = 10\n",
    "print(items_for_sale)"
   ]
  },
  {
   "cell_type": "markdown",
   "metadata": {},
   "source": [
    "Recent versions of Python support ordering in dictionaries. If you're using an older version that does not, then you can use the built-in `sorted()` function on your relevant view object to create an ordered list:\n"
   ]
  },
  {
   "cell_type": "code",
   "execution_count": 16,
   "metadata": {},
   "outputs": [
    {
     "name": "stdout",
     "output_type": "stream",
     "text": [
      "['apples', 'bananas', 'oranges']\n"
     ]
    }
   ],
   "source": [
    "stock = {\"apples\": 5, \"oranges\": 2, \"bananas\": 4}\n",
    "print(list(sorted(stock.keys())))"
   ]
  },
  {
   "cell_type": "markdown",
   "metadata": {},
   "source": [
    "If you want to convert a list into a dictionary, you can easily loop through each item in the list and add them to an empty dictionary (similarly to how `pears` was added to an existing dictionary above)."
   ]
  },
  {
   "cell_type": "code",
   "execution_count": 2,
   "metadata": {},
   "outputs": [
    {
     "name": "stdout",
     "output_type": "stream",
     "text": [
      "{'apples': 5, 'bananas': 2, 'oranges': 6}\n"
     ]
    }
   ],
   "source": [
    "stock_list = [('apples',5),('bananas',2),('oranges',6)]\n",
    "\n",
    "stock = {} # or stock = dict()\n",
    "for item,num in stock_list:\n",
    "    stock[item]=num\n",
    "print(stock)"
   ]
  }
 ],
 "metadata": {
  "kernelspec": {
   "display_name": "Python 3 (ipykernel)",
   "language": "python",
   "name": "python3"
  },
  "language_info": {
   "codemirror_mode": {
    "name": "ipython",
    "version": 3
   },
   "file_extension": ".py",
   "mimetype": "text/x-python",
   "name": "python",
   "nbconvert_exporter": "python",
   "pygments_lexer": "ipython3",
   "version": "3.9.10"
  }
 },
 "nbformat": 4,
 "nbformat_minor": 2
}
